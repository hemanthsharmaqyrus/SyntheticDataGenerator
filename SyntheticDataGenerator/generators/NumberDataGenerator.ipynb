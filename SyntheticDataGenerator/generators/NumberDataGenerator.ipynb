{
 "cells": [
  {
   "cell_type": "code",
   "execution_count": 1,
   "metadata": {},
   "outputs": [],
   "source": [
    "from faker import Faker\n",
    "import random\n",
    "from generatorUtils import LabelTransformations"
   ]
  },
  {
   "cell_type": "code",
   "execution_count": 13,
   "metadata": {},
   "outputs": [],
   "source": [
    "labels = ['age', 'height', 'weight', 'distance', 'number of units', 'number of products', 'thousands', 'number']"
   ]
  },
  {
   "cell_type": "code",
   "execution_count": 15,
   "metadata": {},
   "outputs": [],
   "source": [
    "class NumberGenerator:\n",
    "    def __init__(self, num_of_samples):\n",
    "        self.num_of_samples = num_of_samples\n",
    "        self.labelTransformations = LabelTransformations()\n",
    "        self.f = Faker()\n",
    "\n",
    "\n",
    "    def generate_decimal_pair(self, length):\n",
    "\n",
    "        start_number = str(random.randint(0,9))\n",
    "        start = eval('1' + ''.join(['0' for i in range(length-1)]))\n",
    "        end = eval('9' + ''.join(['9' for i in range(length-1)]))\n",
    "        \n",
    "        return start_number + \"{:.2f}\".format(random.uniform(start, end)), start_number + \"{:.2f}\".format(random.uniform(start, end))\n",
    "\n",
    "    def generate_int_pair(self, length):\n",
    "\n",
    "        start_number = str(random.randint(0,9))\n",
    "        start = eval('1' + ''.join(['0' for i in range(length-1)]))\n",
    "        end = eval('9' + ''.join(['9' for i in range(length-1)]))\n",
    "        \n",
    "        return start_number + str(int(random.uniform(start, end))), start_number + str(int(random.uniform(start, end)))\n",
    "\n",
    "\n",
    "    def generateNumbers(self, labels):\n",
    "        labels = list(set(self.labelTransformations(labels)))\n",
    "\n",
    "        inputs = []\n",
    "        outputs = []\n",
    "\n",
    "        \n",
    "            \n",
    "        for i in range(self.num_of_samples):\n",
    "            label = random.choice(labels)\n",
    "            length = random.choice(list(range(1,20)))\n",
    "            inp, out = self.generate_decimal_pair(length)\n",
    "            inputs.append(label+ ': ' + inp)\n",
    "            outputs.append(out)\n",
    "\n",
    "            label = random.choice(labels)\n",
    "            inp, out = self.generate_int_pair(length)\n",
    "            inputs.append(label+ ': ' + inp )\n",
    "            outputs.append(out)\n",
    "            \n",
    "\n",
    "\n",
    "\n",
    "        return inputs, outputs"
   ]
  },
  {
   "cell_type": "code",
   "execution_count": 16,
   "metadata": {},
   "outputs": [],
   "source": [
    "numberGenerator = NumberGenerator(num_of_samples=3000)"
   ]
  },
  {
   "cell_type": "code",
   "execution_count": 17,
   "metadata": {},
   "outputs": [],
   "source": [
    "input, output = numberGenerator.generateNumbers(labels)"
   ]
  },
  {
   "cell_type": "code",
   "execution_count": 18,
   "metadata": {},
   "outputs": [
    {
     "data": {
      "text/plain": [
       "[('number_of_units: 96.64', '92.91'),\n",
       " ('number-of-units: 34', '35'),\n",
       " ('number of products: 58804766872.64', '54005748631.25'),\n",
       " ('numberOfProducts: 68261035453', '64271602356'),\n",
       " ('Age: 457010.02', '445853.39'),\n",
       " ('height: 933825', '960357'),\n",
       " ('Thousands: 684742389509818.75', '646410897457549.52'),\n",
       " ('NUMBER: 597215837293735', '548659147712606'),\n",
       " ('numberofproducts: 8878544799270.36', '8951925790634.37'),\n",
       " ('NumberOfProducts: 1785672078225', '1258905888607'),\n",
       " ('number-of-products: 53140572784567608.00', '53001863032070186.00'),\n",
       " ('distance: 55916308689667888', '56536206600045649'),\n",
       " ('Number: 3973.52', '3109.62'),\n",
       " ('NUMBER OF UNITS: 7787', '7888'),\n",
       " ('thousands: 4889837639685766912.00', '4917871905694856320.00'),\n",
       " ('DISTANCE: 8683454975647721344', '8191070635890691392'),\n",
       " ('Distance: 0598069326.23', '0243122502.37'),\n",
       " ('HEIGHT: 1427000433', '1566492912'),\n",
       " ('Thousands: 2228.34', '2450.18'),\n",
       " ('Number: 0992', '0329')]"
      ]
     },
     "execution_count": 18,
     "metadata": {},
     "output_type": "execute_result"
    }
   ],
   "source": [
    "list(zip(input, output))[:20]"
   ]
  },
  {
   "cell_type": "code",
   "execution_count": 19,
   "metadata": {},
   "outputs": [],
   "source": [
    "import pandas as pd\n",
    "res = pd.DataFrame(columns=['input_entity', 'output_entity'])"
   ]
  },
  {
   "cell_type": "code",
   "execution_count": 20,
   "metadata": {},
   "outputs": [],
   "source": [
    "res['input_entity'] = input\n",
    "res['output_entity'] = output"
   ]
  },
  {
   "cell_type": "code",
   "execution_count": 21,
   "metadata": {},
   "outputs": [],
   "source": [
    "res.to_csv('numbers_data.csv', index=False)"
   ]
  },
  {
   "cell_type": "code",
   "execution_count": null,
   "metadata": {},
   "outputs": [],
   "source": []
  }
 ],
 "metadata": {
  "kernelspec": {
   "display_name": "Python 3.8.13 ('reticle')",
   "language": "python",
   "name": "python3"
  },
  "language_info": {
   "codemirror_mode": {
    "name": "ipython",
    "version": 3
   },
   "file_extension": ".py",
   "mimetype": "text/x-python",
   "name": "python",
   "nbconvert_exporter": "python",
   "pygments_lexer": "ipython3",
   "version": "3.8.13"
  },
  "orig_nbformat": 4,
  "vscode": {
   "interpreter": {
    "hash": "09ec2db156a7209681ea734e4f7b85e602c6e683f9c0304fe8b6394a4a1b5475"
   }
  }
 },
 "nbformat": 4,
 "nbformat_minor": 2
}
