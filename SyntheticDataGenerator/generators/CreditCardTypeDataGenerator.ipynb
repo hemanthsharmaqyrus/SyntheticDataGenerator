{
 "cells": [
  {
   "cell_type": "code",
   "execution_count": 4,
   "metadata": {},
   "outputs": [],
   "source": [
    "from generatorUtils import LabelTransformations\n",
    "import random\n",
    "from faker import Faker\n",
    "f = Faker()\n",
    "from collections import Counter\n",
    "from itertools import permutations\n"
   ]
  },
  {
   "cell_type": "code",
   "execution_count": 10,
   "metadata": {},
   "outputs": [],
   "source": [
    "labels = ['credit card type', 'type of card', 'type of credit card', 'type of debit card']"
   ]
  },
  {
   "cell_type": "code",
   "execution_count": 14,
   "metadata": {},
   "outputs": [],
   "source": [
    "class CreditCardTypeDataGenerator:\n",
    "    def __init__(self, num_of_samples):\n",
    "        self.labelTransformations = LabelTransformations()\n",
    "        self.num_of_samples = num_of_samples\n",
    "        self.credit_card_types = ['platinum', 'gold', 'silver', 'titanium', 'diamond', 'blue']\n",
    "\n",
    "    def generateCreditCardTypes(self, labels):\n",
    "        labels = list(set(self.labelTransformations(labels)))\n",
    "        self.credit_card_types = list(set(self.labelTransformations(self.credit_card_types)))\n",
    "        print('credit_card_types are', self.credit_card_types)\n",
    "\n",
    "        data_pairs =  list(permutations(self.credit_card_types, 2))\n",
    "        input_list = []\n",
    "        output_list = []\n",
    "        \n",
    "        #for each input attach the label\n",
    "        inputs = list(list(zip(*data_pairs))[0])\n",
    "        input_list += [random.choice(labels) + ': ' + input for input in inputs]\n",
    "\n",
    "        output_list += list(list(zip(*data_pairs))[1])\n",
    "        return input_list, output_list"
   ]
  },
  {
   "cell_type": "code",
   "execution_count": 15,
   "metadata": {},
   "outputs": [],
   "source": [
    "CreditCardTypeDataGenerator = CreditCardTypeDataGenerator(num_of_samples=300)"
   ]
  },
  {
   "cell_type": "code",
   "execution_count": 17,
   "metadata": {},
   "outputs": [
    {
     "name": "stdout",
     "output_type": "stream",
     "text": [
      "credit_card_types are ['PLATINUM', 'Titanium', 'Diamond', 'silver', 'Blue', 'blue', 'Gold', 'Platinum', 'titanium', 'BLUE', 'gold', 'diamond', 'SILVER', 'platinum', 'Silver', 'TITANIUM', 'DIAMOND', 'GOLD']\n"
     ]
    }
   ],
   "source": [
    "input, output = CreditCardTypeDataGenerator.generateCreditCardTypes(labels)"
   ]
  },
  {
   "cell_type": "code",
   "execution_count": 19,
   "metadata": {},
   "outputs": [
    {
     "data": {
      "text/plain": [
       "[('typeOfCreditCard: PLATINUM', 'Titanium'),\n",
       " ('TypeOfDebitCard: PLATINUM', 'Diamond'),\n",
       " ('TYPE OF CREDIT CARD: PLATINUM', 'silver'),\n",
       " ('CREDIT-CARD-TYPE: PLATINUM', 'Blue'),\n",
       " ('CREDIT_CARD_TYPE: PLATINUM', 'blue'),\n",
       " ('credit_card_type: PLATINUM', 'Gold'),\n",
       " ('typeOfCard: PLATINUM', 'Platinum'),\n",
       " ('TYPE OF CREDIT CARD: PLATINUM', 'titanium'),\n",
       " ('Type Of Debit Card: PLATINUM', 'BLUE'),\n",
       " ('TYPE_OF_CREDIT_CARD: PLATINUM', 'gold')]"
      ]
     },
     "execution_count": 19,
     "metadata": {},
     "output_type": "execute_result"
    }
   ],
   "source": [
    "list(zip(input, output))[:10]"
   ]
  },
  {
   "cell_type": "code",
   "execution_count": 20,
   "metadata": {},
   "outputs": [],
   "source": [
    "import pandas as pd\n",
    "res = pd.DataFrame(columns=['input_entity', 'output_entity'])"
   ]
  },
  {
   "cell_type": "code",
   "execution_count": 21,
   "metadata": {},
   "outputs": [],
   "source": [
    "res['input_entity'] = input\n",
    "res['output_entity'] = output"
   ]
  },
  {
   "cell_type": "code",
   "execution_count": 22,
   "metadata": {},
   "outputs": [],
   "source": [
    "res.to_csv('creditCardType_data.csv', index=False)"
   ]
  },
  {
   "cell_type": "code",
   "execution_count": null,
   "metadata": {},
   "outputs": [],
   "source": []
  }
 ],
 "metadata": {
  "kernelspec": {
   "display_name": "Python 3.8.13 ('reticle')",
   "language": "python",
   "name": "python3"
  },
  "language_info": {
   "codemirror_mode": {
    "name": "ipython",
    "version": 3
   },
   "file_extension": ".py",
   "mimetype": "text/x-python",
   "name": "python",
   "nbconvert_exporter": "python",
   "pygments_lexer": "ipython3",
   "version": "3.8.13"
  },
  "orig_nbformat": 4,
  "vscode": {
   "interpreter": {
    "hash": "09ec2db156a7209681ea734e4f7b85e602c6e683f9c0304fe8b6394a4a1b5475"
   }
  }
 },
 "nbformat": 4,
 "nbformat_minor": 2
}
