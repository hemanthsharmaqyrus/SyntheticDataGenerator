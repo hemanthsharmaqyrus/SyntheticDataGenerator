{
 "cells": [
  {
   "cell_type": "code",
   "execution_count": 1,
   "metadata": {},
   "outputs": [],
   "source": [
    "from generatorUtils import LabelTransformations\n",
    "import random\n",
    "from faker import Faker\n",
    "f = Faker()\n",
    "from collections import Counter\n"
   ]
  },
  {
   "cell_type": "code",
   "execution_count": 3,
   "metadata": {},
   "outputs": [],
   "source": [
    "labels = ['Account number', 'account no.', 'account id', 'account num', 'a/c number', 'a/c no.', 'a/c num', 'bank account number', 'savings bank account number', 'savings bank accout no.', 'deposit account number', 'Current account number', 'checking account number', 'checking account num', 'checking account no.']"
   ]
  },
  {
   "cell_type": "code",
   "execution_count": 8,
   "metadata": {},
   "outputs": [],
   "source": [
    "class AccountNumberGenerator:\n",
    "    def __init__(self, num_of_samples):\n",
    "        self.labelTransformations = LabelTransformations()\n",
    "        self.num_of_samples = num_of_samples\n",
    "        self.f = Faker()\n",
    "\n",
    "    def generateAccountNumberData(self, labels):\n",
    "        labels = list(set(self.labelTransformations(labels)))\n",
    "        input_list = []\n",
    "        output_list = []\n",
    "\n",
    "        for i in range(self.num_of_samples):\n",
    "\n",
    "            input_list, output_list = self.generateAccountNumber(labels, input_list, output_list, 10)\n",
    "            input_list, output_list = self.generateAccountNumber(labels, input_list, output_list, 11)\n",
    "            input_list, output_list = self.generateAccountNumber(labels, input_list, output_list, 12)\n",
    "            input_list, output_list = self.generateAccountNumber(labels, input_list, output_list, 13)\n",
    "            input_list, output_list = self.generateAccountNumber(labels, input_list, output_list, 14)\n",
    "            input_list, output_list = self.generateAccountNumber(labels, input_list, output_list, 15)\n",
    "            input_list, output_list = self.generateAccountNumber(labels, input_list, output_list, 16)\n",
    "            input_list, output_list = self.generateAccountNumber(labels, input_list, output_list, 17)\n",
    "            input_list, output_list = self.generateAccountNumber(labels, input_list, output_list, 18)\n",
    "            input_list, output_list = self.generateAccountNumber(labels, input_list, output_list, 19)\n",
    "            \n",
    "        return input_list, output_list\n",
    "    def generateAccountNumber(self, labels, input_list, output_list, length):\n",
    "        start_number = '0000' + str(random.randint(a=0, b=9))\n",
    "        label = random.choice(labels)\n",
    "        input_following_random_number = self.generate_random_number(length-4)\n",
    "        output_following_random_number = self.generate_random_number(length-4)\n",
    "        input_pin = start_number + input_following_random_number\n",
    "        output_pin = start_number + output_following_random_number\n",
    "\n",
    "        input_list.append(label + ': ' + input_pin)\n",
    "        output_list.append(output_pin)\n",
    "\n",
    "        return input_list, output_list\n",
    "    def generate_random_number(self, length):\n",
    "        start = eval(''.join(['1'] + ['0' for i in range(1, length-1)]))\n",
    "        end = eval(''.join(['9' for i in range(1, length)]))\n",
    "\n",
    "        start = int(eval('1' + str(start)))\n",
    "        end = int(eval('9' + str(end)))\n",
    "\n",
    "\n",
    "        random_number = str(random.randint(a=start, b=end))\n",
    "        return random_number"
   ]
  },
  {
   "cell_type": "code",
   "execution_count": 9,
   "metadata": {},
   "outputs": [],
   "source": [
    "accountNumberGenerator = AccountNumberGenerator(num_of_samples = 300)"
   ]
  },
  {
   "cell_type": "code",
   "execution_count": 10,
   "metadata": {},
   "outputs": [],
   "source": [
    "input, output = accountNumberGenerator.generateAccountNumberData(labels)"
   ]
  },
  {
   "cell_type": "code",
   "execution_count": 11,
   "metadata": {},
   "outputs": [
    {
     "data": {
      "text/plain": [
       "[('depositAccountNumber: 00006923144', '00006857124'),\n",
       " ('Checking Account Num: 000045324315', '000048817289'),\n",
       " ('ACCOUNT NO.: 0000860250825', '0000865185860'),\n",
       " ('savings_bank_accout_no.: 00006124105871', '00006640514565'),\n",
       " ('A/CNUM: 000085712898420', '000083585533534'),\n",
       " ('account_no.: 0000860184843783', '0000825446933727'),\n",
       " ('SavingsBankAccountNumber: 00008772903780928', '00008461806384549'),\n",
       " ('DEPOSITACCOUNTNUMBER: 000078620974566185', '000075752305264434'),\n",
       " ('savingsbankaccountnumber: 0000247378586292122', '0000254311170813056'),\n",
       " ('CheckingAccountNo.: 00005687100074333276', '00005488230500419081'),\n",
       " ('checking account no.: 00009161265', '00009240524'),\n",
       " ('depositaccountnumber: 000096775850', '000099482042'),\n",
       " ('checking account number: 0000174414334', '0000120539580'),\n",
       " ('SAVINGS-BANK-ACCOUNT-NUMBER: 00006228958426', '00006269061264'),\n",
       " ('A/CNUM: 000003845203008', '000003899208596'),\n",
       " ('checking account no.: 0000081796958475', '0000018922062558'),\n",
       " ('a/c_number: 00003900099959126', '00003404079652520'),\n",
       " ('A/CNO.: 000073352149989596', '000078556821244478'),\n",
       " ('CURRENTACCOUNTNUMBER: 0000112372377373887', '0000133074912547771'),\n",
       " ('DEPOSITACCOUNTNUMBER: 00002428527154163918', '00002913111603161133')]"
      ]
     },
     "execution_count": 11,
     "metadata": {},
     "output_type": "execute_result"
    }
   ],
   "source": [
    "list(zip(input, output))[:20]"
   ]
  },
  {
   "cell_type": "code",
   "execution_count": 12,
   "metadata": {},
   "outputs": [],
   "source": [
    "import pandas as pd\n",
    "res = pd.DataFrame(columns=['input_entity', 'output_entity'])"
   ]
  },
  {
   "cell_type": "code",
   "execution_count": 13,
   "metadata": {},
   "outputs": [],
   "source": [
    "res['input_entity'] = input\n",
    "res['output_entity'] = output"
   ]
  },
  {
   "cell_type": "code",
   "execution_count": 14,
   "metadata": {},
   "outputs": [
    {
     "data": {
      "text/plain": [
       "3000"
      ]
     },
     "execution_count": 14,
     "metadata": {},
     "output_type": "execute_result"
    }
   ],
   "source": [
    "len(res)"
   ]
  },
  {
   "cell_type": "code",
   "execution_count": 17,
   "metadata": {},
   "outputs": [],
   "source": [
    "res.to_csv('account_data.csv', index=False)"
   ]
  },
  {
   "cell_type": "code",
   "execution_count": 18,
   "metadata": {},
   "outputs": [
    {
     "data": {
      "text/html": [
       "<div>\n",
       "<style scoped>\n",
       "    .dataframe tbody tr th:only-of-type {\n",
       "        vertical-align: middle;\n",
       "    }\n",
       "\n",
       "    .dataframe tbody tr th {\n",
       "        vertical-align: top;\n",
       "    }\n",
       "\n",
       "    .dataframe thead th {\n",
       "        text-align: right;\n",
       "    }\n",
       "</style>\n",
       "<table border=\"1\" class=\"dataframe\">\n",
       "  <thead>\n",
       "    <tr style=\"text-align: right;\">\n",
       "      <th></th>\n",
       "      <th>input_entity</th>\n",
       "      <th>output_entity</th>\n",
       "    </tr>\n",
       "  </thead>\n",
       "  <tbody>\n",
       "    <tr>\n",
       "      <th>0</th>\n",
       "      <td>depositAccountNumber: 00006923144</td>\n",
       "      <td>00006857124</td>\n",
       "    </tr>\n",
       "    <tr>\n",
       "      <th>1</th>\n",
       "      <td>Checking Account Num: 000045324315</td>\n",
       "      <td>000048817289</td>\n",
       "    </tr>\n",
       "    <tr>\n",
       "      <th>2</th>\n",
       "      <td>ACCOUNT NO.: 0000860250825</td>\n",
       "      <td>0000865185860</td>\n",
       "    </tr>\n",
       "    <tr>\n",
       "      <th>3</th>\n",
       "      <td>savings_bank_accout_no.: 00006124105871</td>\n",
       "      <td>00006640514565</td>\n",
       "    </tr>\n",
       "    <tr>\n",
       "      <th>4</th>\n",
       "      <td>A/CNUM: 000085712898420</td>\n",
       "      <td>000083585533534</td>\n",
       "    </tr>\n",
       "    <tr>\n",
       "      <th>...</th>\n",
       "      <td>...</td>\n",
       "      <td>...</td>\n",
       "    </tr>\n",
       "    <tr>\n",
       "      <th>2995</th>\n",
       "      <td>checkingaccountnum: 0000257741294192</td>\n",
       "      <td>0000241950907188</td>\n",
       "    </tr>\n",
       "    <tr>\n",
       "      <th>2996</th>\n",
       "      <td>a/cnumber: 00004687941830667</td>\n",
       "      <td>00004755407474966</td>\n",
       "    </tr>\n",
       "    <tr>\n",
       "      <th>2997</th>\n",
       "      <td>a/c_no.: 000003428616752592</td>\n",
       "      <td>000001844430380441</td>\n",
       "    </tr>\n",
       "    <tr>\n",
       "      <th>2998</th>\n",
       "      <td>checking_account_no.: 0000958771514214813</td>\n",
       "      <td>0000978451037544752</td>\n",
       "    </tr>\n",
       "    <tr>\n",
       "      <th>2999</th>\n",
       "      <td>CURRENTACCOUNTNUMBER: 00001895288901813122</td>\n",
       "      <td>00001218364088243119</td>\n",
       "    </tr>\n",
       "  </tbody>\n",
       "</table>\n",
       "<p>3000 rows × 2 columns</p>\n",
       "</div>"
      ],
      "text/plain": [
       "                                    input_entity         output_entity\n",
       "0              depositAccountNumber: 00006923144           00006857124\n",
       "1             Checking Account Num: 000045324315          000048817289\n",
       "2                     ACCOUNT NO.: 0000860250825         0000865185860\n",
       "3        savings_bank_accout_no.: 00006124105871        00006640514565\n",
       "4                        A/CNUM: 000085712898420       000083585533534\n",
       "...                                          ...                   ...\n",
       "2995        checkingaccountnum: 0000257741294192      0000241950907188\n",
       "2996                a/cnumber: 00004687941830667     00004755407474966\n",
       "2997                 a/c_no.: 000003428616752592    000001844430380441\n",
       "2998   checking_account_no.: 0000958771514214813   0000978451037544752\n",
       "2999  CURRENTACCOUNTNUMBER: 00001895288901813122  00001218364088243119\n",
       "\n",
       "[3000 rows x 2 columns]"
      ]
     },
     "execution_count": 18,
     "metadata": {},
     "output_type": "execute_result"
    }
   ],
   "source": [
    "res"
   ]
  },
  {
   "cell_type": "code",
   "execution_count": null,
   "metadata": {},
   "outputs": [],
   "source": []
  }
 ],
 "metadata": {
  "kernelspec": {
   "display_name": "Python 3.8.13 ('reticle')",
   "language": "python",
   "name": "python3"
  },
  "language_info": {
   "codemirror_mode": {
    "name": "ipython",
    "version": 3
   },
   "file_extension": ".py",
   "mimetype": "text/x-python",
   "name": "python",
   "nbconvert_exporter": "python",
   "pygments_lexer": "ipython3",
   "version": "3.8.13"
  },
  "orig_nbformat": 4,
  "vscode": {
   "interpreter": {
    "hash": "09ec2db156a7209681ea734e4f7b85e602c6e683f9c0304fe8b6394a4a1b5475"
   }
  }
 },
 "nbformat": 4,
 "nbformat_minor": 2
}
