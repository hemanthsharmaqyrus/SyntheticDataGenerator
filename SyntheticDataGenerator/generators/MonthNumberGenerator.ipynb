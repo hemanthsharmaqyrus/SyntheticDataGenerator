{
 "cells": [
  {
   "cell_type": "code",
   "execution_count": 2,
   "metadata": {},
   "outputs": [],
   "source": [
    "from faker import Faker\n",
    "import random\n",
    "from generatorUtils import LabelTransformations"
   ]
  },
  {
   "cell_type": "code",
   "execution_count": 3,
   "metadata": {},
   "outputs": [],
   "source": [
    "labels = ['month of the year', 'month number', 'month']"
   ]
  },
  {
   "cell_type": "code",
   "execution_count": 6,
   "metadata": {},
   "outputs": [],
   "source": [
    "class MonthNumberGenerator:\n",
    "    def __init__(self, num_of_samples):\n",
    "        self.num_of_samples = num_of_samples\n",
    "        self.labelTransformations = LabelTransformations()\n",
    "        self.f = Faker()\n",
    "\n",
    "    def generateMonthNumber(self, labels):\n",
    "        labels = list(set(self.labelTransformations(labels)))\n",
    "\n",
    "        inputs = []\n",
    "        outputs = []\n",
    "\n",
    "        for i in range(self.num_of_samples):\n",
    "            label = random.choice(labels)\n",
    "            input_month_number = self.f.month()\n",
    "            output_month_number = self.f.month()\n",
    "            inputs.append(label + ': ' + input_month_number)\n",
    "            outputs.append(output_month_number)\n",
    "        return inputs, outputs\n",
    "            "
   ]
  },
  {
   "cell_type": "code",
   "execution_count": 7,
   "metadata": {},
   "outputs": [],
   "source": [
    "monthNumberGenerator = MonthNumberGenerator(num_of_samples=3000)"
   ]
  },
  {
   "cell_type": "code",
   "execution_count": 8,
   "metadata": {},
   "outputs": [],
   "source": [
    "input, output = monthNumberGenerator.generateMonthNumber(labels)"
   ]
  },
  {
   "cell_type": "code",
   "execution_count": 9,
   "metadata": {},
   "outputs": [
    {
     "data": {
      "text/plain": [
       "[('MONTH OF THE YEAR: 12', '11'),\n",
       " ('Month-Number: 04', '07'),\n",
       " ('MONTH: 08', '06'),\n",
       " ('month-of-the-year: 03', '04'),\n",
       " ('MONTH-NUMBER: 05', '09'),\n",
       " ('monthnumber: 06', '02'),\n",
       " ('MonthNumber: 03', '04'),\n",
       " ('month number: 08', '10'),\n",
       " ('month of the year: 03', '12'),\n",
       " ('month-number: 01', '08'),\n",
       " ('MonthNumber: 11', '08'),\n",
       " ('month-of-the-year: 10', '08'),\n",
       " ('monthnumber: 08', '04'),\n",
       " ('MONTH-OF-THE-YEAR: 04', '04'),\n",
       " ('MONTH-NUMBER: 03', '10'),\n",
       " ('month_of_the_year: 12', '08'),\n",
       " ('MONTH OF THE YEAR: 09', '04'),\n",
       " ('MONTHNUMBER: 01', '12'),\n",
       " ('MONTH: 11', '10'),\n",
       " ('MONTH: 10', '01')]"
      ]
     },
     "execution_count": 9,
     "metadata": {},
     "output_type": "execute_result"
    }
   ],
   "source": [
    "list(zip(input, output))[:20]"
   ]
  },
  {
   "cell_type": "code",
   "execution_count": 10,
   "metadata": {},
   "outputs": [],
   "source": [
    "import pandas as pd\n",
    "res = pd.DataFrame(columns=['input_entity', 'output_entity'])"
   ]
  },
  {
   "cell_type": "code",
   "execution_count": 11,
   "metadata": {},
   "outputs": [],
   "source": [
    "res['input_entity'] = input\n",
    "res['output_entity'] = output"
   ]
  },
  {
   "cell_type": "code",
   "execution_count": 12,
   "metadata": {},
   "outputs": [],
   "source": [
    "res.to_csv('monthNumber_data.csv', index=False)"
   ]
  },
  {
   "cell_type": "code",
   "execution_count": null,
   "metadata": {},
   "outputs": [],
   "source": []
  }
 ],
 "metadata": {
  "kernelspec": {
   "display_name": "Python 3.8.13 ('reticle')",
   "language": "python",
   "name": "python3"
  },
  "language_info": {
   "codemirror_mode": {
    "name": "ipython",
    "version": 3
   },
   "file_extension": ".py",
   "mimetype": "text/x-python",
   "name": "python",
   "nbconvert_exporter": "python",
   "pygments_lexer": "ipython3",
   "version": "3.8.13"
  },
  "orig_nbformat": 4,
  "vscode": {
   "interpreter": {
    "hash": "09ec2db156a7209681ea734e4f7b85e602c6e683f9c0304fe8b6394a4a1b5475"
   }
  }
 },
 "nbformat": 4,
 "nbformat_minor": 2
}
