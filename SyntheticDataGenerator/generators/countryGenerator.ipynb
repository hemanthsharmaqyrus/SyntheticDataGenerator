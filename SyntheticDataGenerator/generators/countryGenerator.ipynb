{
 "cells": [
  {
   "cell_type": "code",
   "execution_count": 2,
   "metadata": {},
   "outputs": [],
   "source": [
    "from faker import Faker\n",
    "import random\n",
    "from generatorUtils import LabelTransformations"
   ]
  },
  {
   "cell_type": "code",
   "execution_count": 3,
   "metadata": {},
   "outputs": [],
   "source": [
    "labels = ['country', 'Nationality', 'Nation', 'location']"
   ]
  },
  {
   "cell_type": "code",
   "execution_count": 20,
   "metadata": {},
   "outputs": [],
   "source": [
    "class CountryGenerator:\n",
    "    def __init__(self, num_of_samples):\n",
    "        self.num_of_samples = num_of_samples\n",
    "        self.labelTransformations = LabelTransformations()\n",
    "        self.f = Faker()\n",
    "\n",
    "    def data_transform(self, input_country, output_country):\n",
    "        country_transforms = [(input_country, output_country)]\n",
    "\n",
    "        country_transforms.append((self.labelTransformations.__all_words_capital__([input_country])[0], \\\n",
    "        self.labelTransformations.__all_words_capital__([output_country])[0]))\n",
    "\n",
    "        country_transforms.append((self.labelTransformations.__all_words_start_capital__([input_country])[0], \\\n",
    "        self.labelTransformations.__all_words_start_capital__([output_country])[0]))\n",
    "\n",
    "        country_transforms.append((self.labelTransformations.__all_words_small__([input_country])[0], \\\n",
    "        self.labelTransformations.__all_words_small__([output_country])[0]))\n",
    "\n",
    "        return random.choice(country_transforms)\n",
    "\n",
    "\n",
    "    def generateCountries(self, labels):\n",
    "        labels = list(set(self.labelTransformations(labels)))\n",
    "\n",
    "        country_inputs = []\n",
    "        country_outputs = []\n",
    "        \n",
    "            \n",
    "\n",
    "        for i in range(self.num_of_samples):\n",
    "            label = random.choice(labels)\n",
    "\n",
    "            input_country = self.f.country()\n",
    "            output_country = self.f.country()\n",
    "\n",
    "            input_country, output_country = self.data_transform(input_country, output_country)\n",
    "\n",
    "\n",
    "            country_inputs.append(label + ': ' + input_country)\n",
    "            country_outputs.append(output_country)\n",
    "\n",
    "        return country_inputs, country_outputs"
   ]
  },
  {
   "cell_type": "code",
   "execution_count": 21,
   "metadata": {},
   "outputs": [],
   "source": [
    "countryGenerator = CountryGenerator(num_of_samples=300)"
   ]
  },
  {
   "cell_type": "code",
   "execution_count": 22,
   "metadata": {},
   "outputs": [],
   "source": [
    "input, output = countryGenerator.generateCountries(labels)"
   ]
  },
  {
   "cell_type": "code",
   "execution_count": 23,
   "metadata": {},
   "outputs": [
    {
     "data": {
      "text/plain": [
       "[('Nation: Guernsey', 'Afghanistan'),\n",
       " ('Location: Cocos (Keeling) Islands', 'Afghanistan'),\n",
       " ('NATIONALITY: Thailand', 'Bouvet Island (Bouvetoya)'),\n",
       " ('LOCATION: SINGAPORE', 'MAYOTTE'),\n",
       " ('Location: TONGA', 'MALAYSIA'),\n",
       " ('Nation: puerto rico', 'aruba'),\n",
       " ('Nationality: UNITED STATES MINOR OUTLYING ISLANDS', 'AUSTRIA'),\n",
       " ('NATION: canada', 'zimbabwe'),\n",
       " ('Nationality: SOLOMON ISLANDS', 'LIECHTENSTEIN'),\n",
       " ('LOCATION: Solomon Islands', 'Faroe Islands'),\n",
       " ('Country: DOMINICAN REPUBLIC', 'NIGER'),\n",
       " ('nationality: NIUE', 'TAJIKISTAN'),\n",
       " ('nationality: Mayotte', 'Montenegro'),\n",
       " ('NATIONALITY: DENMARK', 'BELGIUM'),\n",
       " ('nation: DJIBOUTI', 'AZERBAIJAN'),\n",
       " ('COUNTRY: Thailand', 'Croatia'),\n",
       " ('Country: Aruba', 'Cayman Islands'),\n",
       " ('Nation: Dominica', 'Uzbekistan'),\n",
       " ('Country: Bulgaria', 'Canada'),\n",
       " ('Location: Cape Verde', 'Costa Rica')]"
      ]
     },
     "execution_count": 23,
     "metadata": {},
     "output_type": "execute_result"
    }
   ],
   "source": [
    "list(zip(input, output))[:20]"
   ]
  },
  {
   "cell_type": "code",
   "execution_count": 24,
   "metadata": {},
   "outputs": [],
   "source": [
    "import pandas as pd\n",
    "res = pd.DataFrame(columns=['input_entity', 'output_entity'])"
   ]
  },
  {
   "cell_type": "code",
   "execution_count": 25,
   "metadata": {},
   "outputs": [],
   "source": [
    "res['input_entity'] = input\n",
    "res['output_entity'] = output"
   ]
  },
  {
   "cell_type": "code",
   "execution_count": 26,
   "metadata": {},
   "outputs": [],
   "source": [
    "res.to_csv('country_data.csv', index=False)"
   ]
  },
  {
   "cell_type": "code",
   "execution_count": 27,
   "metadata": {},
   "outputs": [
    {
     "data": {
      "text/plain": [
       "300"
      ]
     },
     "execution_count": 27,
     "metadata": {},
     "output_type": "execute_result"
    }
   ],
   "source": [
    "len(res)"
   ]
  },
  {
   "cell_type": "code",
   "execution_count": null,
   "metadata": {},
   "outputs": [],
   "source": []
  }
 ],
 "metadata": {
  "kernelspec": {
   "display_name": "Python 3.8.13 ('reticle')",
   "language": "python",
   "name": "python3"
  },
  "language_info": {
   "codemirror_mode": {
    "name": "ipython",
    "version": 3
   },
   "file_extension": ".py",
   "mimetype": "text/x-python",
   "name": "python",
   "nbconvert_exporter": "python",
   "pygments_lexer": "ipython3",
   "version": "3.8.13"
  },
  "orig_nbformat": 4,
  "vscode": {
   "interpreter": {
    "hash": "09ec2db156a7209681ea734e4f7b85e602c6e683f9c0304fe8b6394a4a1b5475"
   }
  }
 },
 "nbformat": 4,
 "nbformat_minor": 2
}
