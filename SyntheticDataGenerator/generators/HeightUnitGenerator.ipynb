{
 "cells": [
  {
   "cell_type": "code",
   "execution_count": 1,
   "metadata": {},
   "outputs": [],
   "source": [
    "from faker import Faker\n",
    "import random\n",
    "from generatorUtils import LabelTransformations"
   ]
  },
  {
   "cell_type": "code",
   "execution_count": 2,
   "metadata": {},
   "outputs": [],
   "source": [
    "labels = ['Distance', 'Length', 'Height']\n",
    "units = ['Meters', 'Kilometers', 'KMs', 'M', 'Centimeters', 'cms', 'Furlongs', 'Feet', 'ft']"
   ]
  },
  {
   "cell_type": "code",
   "execution_count": null,
   "metadata": {},
   "outputs": [],
   "source": []
  },
  {
   "cell_type": "code",
   "execution_count": 12,
   "metadata": {},
   "outputs": [],
   "source": [
    "class HeightGenerator:\n",
    "    def __init__(self, num_of_samples):\n",
    "        self.num_of_samples = num_of_samples\n",
    "        self.labelTransformations = LabelTransformations()\n",
    "\n",
    "    def generate_decimal_pair(self, start, end):\n",
    "\n",
    "        start_number = str(random.randint(start, end))\n",
    "        \n",
    "        inp = \"{:.2f}\".format(random.random())\n",
    "        out = \"{:.2f}\".format(random.random())\n",
    "        return str(eval(start_number) + eval(inp)), str(eval(start_number) + eval(out))\n",
    "\n",
    "    def generate_int_pair(self, start, end):        \n",
    "        \n",
    "        return str(random.randint(start, end)), str(random.randint(start, end))\n",
    "\n",
    "\n",
    "    def generateHeightData(self, labels, units):\n",
    "        labels = list(set(self.labelTransformations(labels)))\n",
    "        units = list(set(self.labelTransformations(units)))\n",
    "        inputs = []\n",
    "        outputs = []\n",
    "\n",
    "        for i in range(self.num_of_samples):\n",
    "           \n",
    "            label = random.choice(labels)\n",
    "            \n",
    "            \n",
    "            unit = random.choice(units)\n",
    "            inp, out = self.generate_decimal_pair(3,10)\n",
    "            inputs.append(label+ ': ' + inp + ' ' + unit)\n",
    "            outputs.append(out + ' ' + unit)\n",
    "\n",
    "            label = random.choice(labels)\n",
    "            unit = random.choice(units)\n",
    "            inp, out = self.generate_int_pair(3,10)\n",
    "            inputs.append(label+ ': ' + inp + ' ' + unit)\n",
    "            outputs.append(out + ' ' + unit)\n",
    "\n",
    "            label = random.choice(labels)\n",
    "            unit = random.choice(units)\n",
    "            inp, out = self.generate_decimal_pair(10,100)\n",
    "            inputs.append(label+ ': ' + inp + ' ' + unit)\n",
    "            outputs.append(out + ' ' + unit)\n",
    "\n",
    "            label = random.choice(labels)\n",
    "            unit = random.choice(units)\n",
    "            inp, out = self.generate_int_pair(10,100)\n",
    "            inputs.append(label+ ': ' + inp + ' ' + unit)\n",
    "            outputs.append(out + ' ' + unit)\n",
    "\n",
    "        return inputs, outputs"
   ]
  },
  {
   "cell_type": "code",
   "execution_count": 13,
   "metadata": {},
   "outputs": [],
   "source": [
    "heightGenerator = HeightGenerator(num_of_samples=300)"
   ]
  },
  {
   "cell_type": "code",
   "execution_count": 14,
   "metadata": {},
   "outputs": [],
   "source": [
    "input, output = heightGenerator.generateHeightData(labels, units)"
   ]
  },
  {
   "cell_type": "code",
   "execution_count": 15,
   "metadata": {},
   "outputs": [
    {
     "data": {
      "text/plain": [
       "[('DISTANCE: 6.6899999999999995 Centimeters', '6.89 Centimeters'),\n",
       " ('height: 8 furlongs', '6 furlongs'),\n",
       " ('length: 28.41 FT', '28.09 FT'),\n",
       " ('LENGTH: 76 furlongs', '98 furlongs'),\n",
       " ('height: 7.6899999999999995 Furlongs', '7.51 Furlongs'),\n",
       " ('DISTANCE: 6 CMS', '9 CMS'),\n",
       " ('Length: 74.22 cms', '74.72 cms'),\n",
       " ('Distance: 71 cms', '80 cms'),\n",
       " ('LENGTH: 3.9 Cms', '3.35 Cms'),\n",
       " ('Distance: 4 Kms', '5 Kms'),\n",
       " ('distance: 45.32 Centimeters', '45.62 Centimeters'),\n",
       " ('DISTANCE: 58 cms', '78 cms'),\n",
       " ('Height: 3.66 KILOMETERS', '3.55 KILOMETERS'),\n",
       " ('Distance: 9 Kms', '3 Kms'),\n",
       " ('Height: 20.02 M', '20.43 M'),\n",
       " ('Distance: 97 feet', '57 feet'),\n",
       " ('LENGTH: 9.31 Kilometers', '9.77 Kilometers'),\n",
       " ('HEIGHT: 8 meters', '9 meters'),\n",
       " ('Length: 80.09 FEET', '80.64 FEET'),\n",
       " ('distance: 89 METERS', '66 METERS')]"
      ]
     },
     "execution_count": 15,
     "metadata": {},
     "output_type": "execute_result"
    }
   ],
   "source": [
    "list(zip(input, output))[:20]"
   ]
  },
  {
   "cell_type": "code",
   "execution_count": 16,
   "metadata": {},
   "outputs": [],
   "source": [
    "import pandas as pd\n",
    "res = pd.DataFrame(columns=['input_entity', 'output_entity'])"
   ]
  },
  {
   "cell_type": "code",
   "execution_count": 17,
   "metadata": {},
   "outputs": [],
   "source": [
    "res['input_entity'] = input\n",
    "res['output_entity'] = output"
   ]
  },
  {
   "cell_type": "code",
   "execution_count": 18,
   "metadata": {},
   "outputs": [],
   "source": [
    "res.to_csv('HeightsData_data.csv', index=False)"
   ]
  },
  {
   "cell_type": "code",
   "execution_count": null,
   "metadata": {},
   "outputs": [],
   "source": []
  }
 ],
 "metadata": {
  "kernelspec": {
   "display_name": "Python 3.8.13 ('reticle')",
   "language": "python",
   "name": "python3"
  },
  "language_info": {
   "codemirror_mode": {
    "name": "ipython",
    "version": 3
   },
   "file_extension": ".py",
   "mimetype": "text/x-python",
   "name": "python",
   "nbconvert_exporter": "python",
   "pygments_lexer": "ipython3",
   "version": "3.8.13"
  },
  "orig_nbformat": 4,
  "vscode": {
   "interpreter": {
    "hash": "09ec2db156a7209681ea734e4f7b85e602c6e683f9c0304fe8b6394a4a1b5475"
   }
  }
 },
 "nbformat": 4,
 "nbformat_minor": 2
}
