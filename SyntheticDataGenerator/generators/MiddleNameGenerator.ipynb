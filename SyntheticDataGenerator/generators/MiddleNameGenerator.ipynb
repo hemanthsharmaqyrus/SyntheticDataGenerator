{
 "cells": [
  {
   "cell_type": "code",
   "execution_count": 1,
   "metadata": {},
   "outputs": [],
   "source": [
    "from generatorUtils import LabelTransformations\n",
    "import random\n",
    "from faker import Faker\n",
    "f = Faker()\n",
    "\n"
   ]
  },
  {
   "cell_type": "code",
   "execution_count": 2,
   "metadata": {},
   "outputs": [],
   "source": [
    "labels = ['middle name', 'employee middle name', 'candidate middle name', \n",
    "'Contestant middle name', 'parent middle name', \n",
    "\"Father's middle name\", \"Mother's middle name\",\n",
    "\"recipient middle name\", \"student middle name\"]"
   ]
  },
  {
   "cell_type": "code",
   "execution_count": 5,
   "metadata": {},
   "outputs": [],
   "source": [
    "class MiddleNameGenerators:\n",
    "    def __init__(self, num_of_samples):\n",
    "        self.labelTransformations = LabelTransformations()\n",
    "        self.num_of_samples = num_of_samples\n",
    "        \n",
    "\n",
    "        self.locales = ['en_AU', 'en_CA', 'en_GB', 'en_IE', 'en_IN', 'en_NZ', 'en_PH', 'en_TH', 'en_US']\n",
    "\n",
    "    def generateMiddleNames(self, labels):\n",
    "        labels = list(set(self.labelTransformations(labels)))\n",
    "        input_list = []\n",
    "        output_list = []\n",
    "\n",
    "        for locale in self.locales:\n",
    "            self.f = Faker(locale=locale)\n",
    "\n",
    "            for i in range(self.num_of_samples):\n",
    "                label = random.choice(labels)\n",
    "                input_middle_name = self.f.first_name_male()\n",
    "                output_middle_name = self.f.first_name_male()\n",
    "                input_list.append(label + ': ' + input_middle_name)\n",
    "                output_list.append(output_middle_name)\n",
    "\n",
    "                label = random.choice(labels)\n",
    "                input_middle_name = self.f.first_name_female()\n",
    "                output_middle_name = self.f.first_name_female()\n",
    "                input_list.append(label + ': ' + input_middle_name)\n",
    "                output_list.append(output_middle_name)\n",
    "        return input_list, output_list\n",
    "\n",
    "\n",
    "            "
   ]
  },
  {
   "cell_type": "code",
   "execution_count": 7,
   "metadata": {},
   "outputs": [],
   "source": [
    "middleNameGenerators = MiddleNameGenerators(num_of_samples=300)"
   ]
  },
  {
   "cell_type": "code",
   "execution_count": 8,
   "metadata": {},
   "outputs": [],
   "source": [
    "input, output = middleNameGenerators.generateMiddleNames(labels)"
   ]
  },
  {
   "cell_type": "code",
   "execution_count": 9,
   "metadata": {},
   "outputs": [
    {
     "data": {
      "text/plain": [
       "[('MIDDLE-NAME: Kenneth', 'Mark'),\n",
       " ('Student Middle Name: Vanessa', 'Paula'),\n",
       " ('RECIPIENT-MIDDLE-NAME: Timothy', 'Christopher'),\n",
       " (\"MOTHER'S-MIDDLE-NAME: Elizabeth\", 'Roberta'),\n",
       " ('Candidate_Middle_Name: Steven', 'Michael'),\n",
       " ('Contestant_Middle_Name: Samantha', 'Donna'),\n",
       " (\"mother's_middle_name: Nicholas\", 'William'),\n",
       " (\"mother'sMiddleName: Jessica\", 'Meghan'),\n",
       " ('candidatemiddlename: Joshua', 'Terry'),\n",
       " ('CONTESTANT MIDDLE NAME: Jane', 'Kendra'),\n",
       " ('employee middle name: Jesus', 'William'),\n",
       " (\"mother'sMiddleName: Carolyn\", 'Rachel'),\n",
       " ('candidateMiddleName: Ryan', 'Matthew'),\n",
       " ('candidate middle name: Donna', 'Donna'),\n",
       " ('MIDDLE_NAME: James', 'Kenneth'),\n",
       " ('STUDENT_MIDDLE_NAME: Sylvia', 'Emily'),\n",
       " ('RECIPIENTMIDDLENAME: Roberto', 'William'),\n",
       " ('Student-Middle-Name: Patricia', 'Caitlin'),\n",
       " ('student-middle-name: John', 'Peter'),\n",
       " (\"Mother'S_Middle_Name: Amy\", 'Teresa')]"
      ]
     },
     "execution_count": 9,
     "metadata": {},
     "output_type": "execute_result"
    }
   ],
   "source": [
    "list(zip(input, output))[:20]"
   ]
  },
  {
   "cell_type": "code",
   "execution_count": 10,
   "metadata": {},
   "outputs": [],
   "source": [
    "import pandas as pd\n",
    "res = pd.DataFrame(columns=['input_entity', 'output_entity'])"
   ]
  },
  {
   "cell_type": "code",
   "execution_count": 11,
   "metadata": {},
   "outputs": [],
   "source": [
    "res['input_entity'] = input\n",
    "res['output_entity'] = output"
   ]
  },
  {
   "cell_type": "code",
   "execution_count": 12,
   "metadata": {},
   "outputs": [
    {
     "data": {
      "text/plain": [
       "5400"
      ]
     },
     "execution_count": 12,
     "metadata": {},
     "output_type": "execute_result"
    }
   ],
   "source": [
    "len(res)"
   ]
  },
  {
   "cell_type": "code",
   "execution_count": 13,
   "metadata": {},
   "outputs": [],
   "source": [
    "res.to_csv('MiddleName_data.csv', index=False)"
   ]
  },
  {
   "cell_type": "code",
   "execution_count": 14,
   "metadata": {},
   "outputs": [
    {
     "data": {
      "text/html": [
       "<div>\n",
       "<style scoped>\n",
       "    .dataframe tbody tr th:only-of-type {\n",
       "        vertical-align: middle;\n",
       "    }\n",
       "\n",
       "    .dataframe tbody tr th {\n",
       "        vertical-align: top;\n",
       "    }\n",
       "\n",
       "    .dataframe thead th {\n",
       "        text-align: right;\n",
       "    }\n",
       "</style>\n",
       "<table border=\"1\" class=\"dataframe\">\n",
       "  <thead>\n",
       "    <tr style=\"text-align: right;\">\n",
       "      <th></th>\n",
       "      <th>input_entity</th>\n",
       "      <th>output_entity</th>\n",
       "    </tr>\n",
       "  </thead>\n",
       "  <tbody>\n",
       "    <tr>\n",
       "      <th>0</th>\n",
       "      <td>MIDDLE-NAME: Kenneth</td>\n",
       "      <td>Mark</td>\n",
       "    </tr>\n",
       "    <tr>\n",
       "      <th>1</th>\n",
       "      <td>Student Middle Name: Vanessa</td>\n",
       "      <td>Paula</td>\n",
       "    </tr>\n",
       "    <tr>\n",
       "      <th>2</th>\n",
       "      <td>RECIPIENT-MIDDLE-NAME: Timothy</td>\n",
       "      <td>Christopher</td>\n",
       "    </tr>\n",
       "    <tr>\n",
       "      <th>3</th>\n",
       "      <td>MOTHER'S-MIDDLE-NAME: Elizabeth</td>\n",
       "      <td>Roberta</td>\n",
       "    </tr>\n",
       "    <tr>\n",
       "      <th>4</th>\n",
       "      <td>Candidate_Middle_Name: Steven</td>\n",
       "      <td>Michael</td>\n",
       "    </tr>\n",
       "    <tr>\n",
       "      <th>...</th>\n",
       "      <td>...</td>\n",
       "      <td>...</td>\n",
       "    </tr>\n",
       "    <tr>\n",
       "      <th>5395</th>\n",
       "      <td>FATHER'S MIDDLE NAME: Amanda</td>\n",
       "      <td>Sherri</td>\n",
       "    </tr>\n",
       "    <tr>\n",
       "      <th>5396</th>\n",
       "      <td>candidate middle name: Justin</td>\n",
       "      <td>Jeffrey</td>\n",
       "    </tr>\n",
       "    <tr>\n",
       "      <th>5397</th>\n",
       "      <td>father'smiddlename: Ashley</td>\n",
       "      <td>Amber</td>\n",
       "    </tr>\n",
       "    <tr>\n",
       "      <th>5398</th>\n",
       "      <td>parent-middle-name: Chad</td>\n",
       "      <td>Caleb</td>\n",
       "    </tr>\n",
       "    <tr>\n",
       "      <th>5399</th>\n",
       "      <td>middleName: Jessica</td>\n",
       "      <td>Barbara</td>\n",
       "    </tr>\n",
       "  </tbody>\n",
       "</table>\n",
       "<p>5400 rows × 2 columns</p>\n",
       "</div>"
      ],
      "text/plain": [
       "                         input_entity output_entity\n",
       "0                MIDDLE-NAME: Kenneth          Mark\n",
       "1        Student Middle Name: Vanessa         Paula\n",
       "2      RECIPIENT-MIDDLE-NAME: Timothy   Christopher\n",
       "3     MOTHER'S-MIDDLE-NAME: Elizabeth       Roberta\n",
       "4       Candidate_Middle_Name: Steven       Michael\n",
       "...                               ...           ...\n",
       "5395     FATHER'S MIDDLE NAME: Amanda        Sherri\n",
       "5396    candidate middle name: Justin       Jeffrey\n",
       "5397       father'smiddlename: Ashley         Amber\n",
       "5398         parent-middle-name: Chad         Caleb\n",
       "5399              middleName: Jessica       Barbara\n",
       "\n",
       "[5400 rows x 2 columns]"
      ]
     },
     "execution_count": 14,
     "metadata": {},
     "output_type": "execute_result"
    }
   ],
   "source": [
    "res"
   ]
  },
  {
   "cell_type": "code",
   "execution_count": null,
   "metadata": {},
   "outputs": [],
   "source": []
  }
 ],
 "metadata": {
  "kernelspec": {
   "display_name": "Python 3.8.13 ('reticle')",
   "language": "python",
   "name": "python3"
  },
  "language_info": {
   "codemirror_mode": {
    "name": "ipython",
    "version": 3
   },
   "file_extension": ".py",
   "mimetype": "text/x-python",
   "name": "python",
   "nbconvert_exporter": "python",
   "pygments_lexer": "ipython3",
   "version": "3.8.13"
  },
  "orig_nbformat": 4,
  "vscode": {
   "interpreter": {
    "hash": "09ec2db156a7209681ea734e4f7b85e602c6e683f9c0304fe8b6394a4a1b5475"
   }
  }
 },
 "nbformat": 4,
 "nbformat_minor": 2
}
