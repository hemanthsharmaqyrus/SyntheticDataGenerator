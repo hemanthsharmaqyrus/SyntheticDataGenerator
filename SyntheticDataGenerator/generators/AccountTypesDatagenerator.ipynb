{
 "cells": [
  {
   "cell_type": "code",
   "execution_count": 2,
   "metadata": {},
   "outputs": [],
   "source": [
    "from generatorUtils import LabelTransformations\n",
    "import random\n",
    "from faker import Faker\n",
    "f = Faker()\n",
    "from collections import Counter\n",
    "from itertools import permutations"
   ]
  },
  {
   "cell_type": "code",
   "execution_count": 5,
   "metadata": {},
   "outputs": [],
   "source": [
    "labels = ['Account type', 'type of account']"
   ]
  },
  {
   "cell_type": "code",
   "execution_count": 14,
   "metadata": {},
   "outputs": [],
   "source": [
    "class AccountTypesDataGenerator:\n",
    "    def __init__(self, num_of_samples):\n",
    "        self.labelTransformations = LabelTransformations()\n",
    "        self.num_of_samples = num_of_samples\n",
    "        self.account_types = ['savings', 'current', 'Demat', 'merchant', 'checking', 'deposit', 'fixed deposit', 'recurring deposit']\n",
    "\n",
    "    def generateAccountTypes(self, labels):\n",
    "        labels = list(set(self.labelTransformations(labels)))\n",
    "        self.account_types = list(set(self.labelTransformations(self.account_types)))\n",
    "        print('account types are', self.account_types)\n",
    "\n",
    "        data_pairs =  list(permutations(self.account_types, 2))\n",
    "        input_list = []\n",
    "        output_list = []\n",
    "        \n",
    "        #for each input attach the label\n",
    "        inputs = list(list(zip(*data_pairs))[0])\n",
    "        input_list += [random.choice(labels) + ': ' + input for input in inputs]\n",
    "\n",
    "        output_list += list(list(zip(*data_pairs))[1])\n",
    "        return input_list, output_list\n"
   ]
  },
  {
   "cell_type": "code",
   "execution_count": 15,
   "metadata": {},
   "outputs": [],
   "source": [
    "accountTypesDataGenerator = AccountTypesDataGenerator(num_of_samples=300)"
   ]
  },
  {
   "cell_type": "code",
   "execution_count": 16,
   "metadata": {},
   "outputs": [
    {
     "name": "stdout",
     "output_type": "stream",
     "text": [
      "account types are ['recurringdeposit', 'DEPOSIT', 'Current', 'RECURRING-DEPOSIT', 'Deposit', 'Fixed Deposit', 'fixedDeposit', 'MERCHANT', 'Merchant', 'fixed deposit', 'CURRENT', 'Recurring_Deposit', 'Demat', 'RECURRING DEPOSIT', 'fixed_deposit', 'recurringDeposit', 'RECURRING_DEPOSIT', 'savings', 'FIXED DEPOSIT', 'RecurringDeposit', 'Savings', 'SAVINGS', 'Recurring-Deposit', 'FIXEDDEPOSIT', 'merchant', 'DEMAT', 'FIXED-DEPOSIT', 'FixedDeposit', 'CHECKING', 'Checking', 'FIXED_DEPOSIT', 'RECURRINGDEPOSIT', 'recurring-deposit', 'fixed-deposit', 'demat', 'current', 'checking', 'recurring_deposit', 'deposit', 'Fixed_Deposit', 'Fixed-Deposit', 'recurring deposit', 'Recurring Deposit', 'fixeddeposit']\n"
     ]
    }
   ],
   "source": [
    "input, output = accountTypesDataGenerator.generateAccountTypes(labels)"
   ]
  },
  {
   "cell_type": "code",
   "execution_count": 19,
   "metadata": {},
   "outputs": [
    {
     "data": {
      "text/plain": [
       "[('typeofaccount: recurringdeposit', 'DEPOSIT'),\n",
       " ('accountType: recurringdeposit', 'Current'),\n",
       " ('ACCOUNT_TYPE: recurringdeposit', 'RECURRING-DEPOSIT'),\n",
       " ('Account Type: recurringdeposit', 'Deposit'),\n",
       " ('account_type: recurringdeposit', 'Fixed Deposit'),\n",
       " ('Type_Of_Account: recurringdeposit', 'fixedDeposit'),\n",
       " ('type_of_account: recurringdeposit', 'MERCHANT'),\n",
       " ('Account Type: recurringdeposit', 'Merchant'),\n",
       " ('accountType: recurringdeposit', 'fixed deposit'),\n",
       " ('ACCOUNT-TYPE: recurringdeposit', 'CURRENT')]"
      ]
     },
     "execution_count": 19,
     "metadata": {},
     "output_type": "execute_result"
    }
   ],
   "source": [
    "list(zip(input, output))[:10]"
   ]
  },
  {
   "cell_type": "code",
   "execution_count": 20,
   "metadata": {},
   "outputs": [],
   "source": [
    "import pandas as pd\n",
    "res = pd.DataFrame(columns=['input_entity', 'output_entity'])"
   ]
  },
  {
   "cell_type": "code",
   "execution_count": 21,
   "metadata": {},
   "outputs": [],
   "source": [
    "res['input_entity'] = input\n",
    "res['output_entity'] = output"
   ]
  },
  {
   "cell_type": "code",
   "execution_count": 22,
   "metadata": {},
   "outputs": [
    {
     "data": {
      "text/plain": [
       "1892"
      ]
     },
     "execution_count": 22,
     "metadata": {},
     "output_type": "execute_result"
    }
   ],
   "source": [
    "len(res)"
   ]
  },
  {
   "cell_type": "code",
   "execution_count": 23,
   "metadata": {},
   "outputs": [],
   "source": [
    "res.to_csv('accountType_data.csv', index=False)"
   ]
  },
  {
   "cell_type": "code",
   "execution_count": null,
   "metadata": {},
   "outputs": [],
   "source": []
  }
 ],
 "metadata": {
  "kernelspec": {
   "display_name": "Python 3.8.13 ('reticle')",
   "language": "python",
   "name": "python3"
  },
  "language_info": {
   "codemirror_mode": {
    "name": "ipython",
    "version": 3
   },
   "file_extension": ".py",
   "mimetype": "text/x-python",
   "name": "python",
   "nbconvert_exporter": "python",
   "pygments_lexer": "ipython3",
   "version": "3.8.13"
  },
  "orig_nbformat": 4,
  "vscode": {
   "interpreter": {
    "hash": "09ec2db156a7209681ea734e4f7b85e602c6e683f9c0304fe8b6394a4a1b5475"
   }
  }
 },
 "nbformat": 4,
 "nbformat_minor": 2
}
