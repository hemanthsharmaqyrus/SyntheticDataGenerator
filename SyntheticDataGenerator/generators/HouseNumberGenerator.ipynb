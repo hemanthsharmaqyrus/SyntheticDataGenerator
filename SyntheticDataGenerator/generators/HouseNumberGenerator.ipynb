{
 "cells": [
  {
   "cell_type": "code",
   "execution_count": 1,
   "metadata": {},
   "outputs": [],
   "source": [
    "from faker import Faker\n",
    "import random\n",
    "from generatorUtils import LabelTransformations"
   ]
  },
  {
   "cell_type": "code",
   "execution_count": 2,
   "metadata": {},
   "outputs": [],
   "source": [
    "labels = ['door number', 'door no.', 'flat number', 'building number', 'House number', 'house num', 'house no.', 'house #']"
   ]
  },
  {
   "cell_type": "code",
   "execution_count": 13,
   "metadata": {},
   "outputs": [],
   "source": [
    "class HouseNumberGenerator:\n",
    "    def __init__(self, num_of_samples):\n",
    "        self.num_of_samples = num_of_samples\n",
    "        self.labelTransformations = LabelTransformations()\n",
    "        self.f = Faker()\n",
    "\n",
    "\n",
    "    def generate_decimal_pair(self, length):\n",
    "\n",
    "        start_number = str(random.randint(0,9))\n",
    "        start = eval('1' + ''.join(['0' for i in range(length-1)]))\n",
    "        end = eval('9' + ''.join(['9' for i in range(length-1)]))\n",
    "        \n",
    "        return start_number + \"{:.2f}\".format(random.uniform(start, end)), start_number + \"{:.2f}\".format(random.uniform(start, end))\n",
    "\n",
    "    def generate_int_pair(self, length):\n",
    "\n",
    "        start_number = str(random.randint(0,9))\n",
    "        start = eval('1' + ''.join(['0' for i in range(length-1)]))\n",
    "        end = eval('9' + ''.join(['9' for i in range(length-1)]))\n",
    "        \n",
    "        return start_number + str(int(random.uniform(start, end))), start_number + str(int(random.uniform(start, end)))\n",
    "\n",
    "\n",
    "    def generateHouseNumbers(self, labels):\n",
    "        labels = list(set(self.labelTransformations(labels)))\n",
    "\n",
    "        inputs = []\n",
    "        outputs = []\n",
    "\n",
    "        \n",
    "            \n",
    "        for i in range(self.num_of_samples):\n",
    "            'without #'\n",
    "            label = random.choice(labels)\n",
    "            door_number_length = random.choice(list(range(1,5)))\n",
    "            extension_number_length = random.choice(list(range(1,3)))\n",
    "            \n",
    "                \n",
    "            inp, out = self.generate_int_pair(door_number_length)\n",
    "            ext_inp, ext_out = self.generate_int_pair(extension_number_length)\n",
    "\n",
    "            if random.choice([0,1]) == 1:\n",
    "                inputs.append(label+ ': ' + inp + '/' + ext_inp)\n",
    "                outputs.append(out +  '/' + ext_out)\n",
    "            else:\n",
    "                inputs.append(label+ ': ' + inp)\n",
    "                outputs.append(out)\n",
    "\n",
    "            'with #'\n",
    "            label = random.choice(labels)\n",
    "            door_number_length = random.choice(list(range(1,5)))\n",
    "            extension_number_length = random.choice(list(range(1,3)))\n",
    "            \n",
    "                \n",
    "            inp, out = self.generate_int_pair(door_number_length)\n",
    "            ext_inp, ext_out = self.generate_int_pair(extension_number_length)\n",
    "\n",
    "            if random.choice([0,1]) == 1:\n",
    "                inputs.append(label+ ': #' + inp + '/' + ext_inp)\n",
    "                outputs.append('#' + out +  '/' + ext_out)\n",
    "            else:\n",
    "                inputs.append(label+ ': # ' + inp)\n",
    "                outputs.append('# ' + out)\n",
    "\n",
    "            \n",
    "            \n",
    "\n",
    "\n",
    "\n",
    "        return inputs, outputs"
   ]
  },
  {
   "cell_type": "code",
   "execution_count": 14,
   "metadata": {},
   "outputs": [],
   "source": [
    "houseNumberGenerator = HouseNumberGenerator(num_of_samples=300)"
   ]
  },
  {
   "cell_type": "code",
   "execution_count": 15,
   "metadata": {},
   "outputs": [],
   "source": [
    "input, output = houseNumberGenerator.generateHouseNumbers(labels)"
   ]
  },
  {
   "cell_type": "code",
   "execution_count": 16,
   "metadata": {},
   "outputs": [
    {
     "data": {
      "text/plain": [
       "[('door no.: 7556', '7515'),\n",
       " ('flat-number: # 997', '# 941'),\n",
       " ('HOUSE NO.: 26', '27'),\n",
       " ('flat-number: #6252/510', '#6684/530'),\n",
       " ('buildingNumber: 8930', '8244'),\n",
       " ('Flat-Number: #7733/512', '#7946/510'),\n",
       " ('HOUSE NUMBER: 63435/754', '66168/777'),\n",
       " ('House-No.: #38528/529', '#36886/515'),\n",
       " ('House #: 23010', '27592'),\n",
       " ('DOOR-NUMBER: #31/614', '#35/641'),\n",
       " ('house_#: 92', '91'),\n",
       " ('HouseNo.: #9810/18', '#9959/15'),\n",
       " ('doorNo.: 47626', '43892'),\n",
       " ('House#: #385/02', '#345/07'),\n",
       " ('House_#: 54160', '51607'),\n",
       " ('house no.: #03711/352', '#01012/353'),\n",
       " ('Building Number: 782/76', '743/72'),\n",
       " ('building number: # 762', '# 746'),\n",
       " ('door_no.: 3816', '3107'),\n",
       " ('buildingnumber: # 451', '# 491')]"
      ]
     },
     "execution_count": 16,
     "metadata": {},
     "output_type": "execute_result"
    }
   ],
   "source": [
    "list(zip(input, output))[:20]"
   ]
  },
  {
   "cell_type": "code",
   "execution_count": 17,
   "metadata": {},
   "outputs": [],
   "source": [
    "import pandas as pd\n",
    "res = pd.DataFrame(columns=['input_entity', 'output_entity'])"
   ]
  },
  {
   "cell_type": "code",
   "execution_count": 18,
   "metadata": {},
   "outputs": [],
   "source": [
    "res['input_entity'] = input\n",
    "res['output_entity'] = output"
   ]
  },
  {
   "cell_type": "code",
   "execution_count": 19,
   "metadata": {},
   "outputs": [],
   "source": [
    "res.to_csv('HouseNumber_data.csv', index=False)"
   ]
  },
  {
   "cell_type": "code",
   "execution_count": null,
   "metadata": {},
   "outputs": [],
   "source": []
  }
 ],
 "metadata": {
  "kernelspec": {
   "display_name": "Python 3.8.13 ('reticle')",
   "language": "python",
   "name": "python3"
  },
  "language_info": {
   "codemirror_mode": {
    "name": "ipython",
    "version": 3
   },
   "file_extension": ".py",
   "mimetype": "text/x-python",
   "name": "python",
   "nbconvert_exporter": "python",
   "pygments_lexer": "ipython3",
   "version": "3.8.13"
  },
  "orig_nbformat": 4,
  "vscode": {
   "interpreter": {
    "hash": "09ec2db156a7209681ea734e4f7b85e602c6e683f9c0304fe8b6394a4a1b5475"
   }
  }
 },
 "nbformat": 4,
 "nbformat_minor": 2
}
