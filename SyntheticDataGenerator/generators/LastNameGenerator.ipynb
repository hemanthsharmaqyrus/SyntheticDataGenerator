{
 "cells": [
  {
   "cell_type": "code",
   "execution_count": 1,
   "metadata": {},
   "outputs": [],
   "source": [
    "from generatorUtils import LabelTransformations\n",
    "import random\n",
    "from faker import Faker\n",
    "f = Faker()\n",
    "\n"
   ]
  },
  {
   "cell_type": "code",
   "execution_count": 3,
   "metadata": {},
   "outputs": [],
   "source": [
    "labels = ['last name', 'employee last name', 'candidate last name', \n",
    "'Contestant last name', 'parent last name', \n",
    "\"Father's last name\", \"Mother's last name\",\n",
    "\"recipient last name\", \"student last name\", \"family name\", \"surname\"]"
   ]
  },
  {
   "cell_type": "code",
   "execution_count": 5,
   "metadata": {},
   "outputs": [],
   "source": [
    "class LastNameGenerators:\n",
    "    def __init__(self, num_of_samples):\n",
    "        self.labelTransformations = LabelTransformations()\n",
    "        self.num_of_samples = num_of_samples\n",
    "        \n",
    "\n",
    "        self.locales = ['en_AU', 'en_CA', 'en_GB', 'en_IE', 'en_IN', 'en_NZ', 'en_PH', 'en_TH', 'en_US']\n",
    "\n",
    "    def generateLastNames(self, labels):\n",
    "        labels = list(set(self.labelTransformations(labels)))\n",
    "        input_list = []\n",
    "        output_list = []\n",
    "\n",
    "        for locale in self.locales:\n",
    "            self.f = Faker(locale=locale)\n",
    "\n",
    "            for i in range(self.num_of_samples):\n",
    "                label = random.choice(labels)\n",
    "                input_last_name = self.f.last_name_male()\n",
    "                output_last_name = self.f.last_name_male()\n",
    "                input_list.append(label + ': ' + input_last_name)\n",
    "                output_list.append(output_last_name)\n",
    "\n",
    "                label = random.choice(labels)\n",
    "                input_last_name = self.f.last_name_female()\n",
    "                output_last_name = self.f.last_name_female()\n",
    "                input_list.append(label + ': ' + input_last_name)\n",
    "                output_list.append(output_last_name)\n",
    "        return input_list, output_list\n",
    "\n",
    "\n",
    "            "
   ]
  },
  {
   "cell_type": "code",
   "execution_count": 6,
   "metadata": {},
   "outputs": [],
   "source": [
    "lastNameGenerators = LastNameGenerators(num_of_samples=300)"
   ]
  },
  {
   "cell_type": "code",
   "execution_count": 7,
   "metadata": {},
   "outputs": [],
   "source": [
    "input, output = lastNameGenerators.generateLastNames(labels)"
   ]
  },
  {
   "cell_type": "code",
   "execution_count": 8,
   "metadata": {},
   "outputs": [
    {
     "data": {
      "text/plain": [
       "[('familyname: Fernandez', 'Garcia'),\n",
       " ('FAMILYNAME: Jones', 'Farmer'),\n",
       " ('EMPLOYEE_LAST_NAME: Hanson', 'Myers'),\n",
       " ('StudentLastName: Olson', 'Tucker'),\n",
       " ('FAMILYNAME: Price', 'Mitchell'),\n",
       " ('Family-Name: Davis', 'Watson'),\n",
       " ('last name: Morgan', 'Cooper'),\n",
       " ('EMPLOYEE LAST NAME: Hall', 'Duffy'),\n",
       " ('Last_Name: Schultz', 'Smith'),\n",
       " ('PARENT LAST NAME: Robinson', 'Barton'),\n",
       " ('PARENT LAST NAME: Perez', 'Moore'),\n",
       " ('RECIPIENT LAST NAME: Evans', 'Eaton'),\n",
       " ('family_name: Butler', 'Acosta'),\n",
       " ('Candidate-Last-Name: Reed', 'Lee'),\n",
       " ('Student_Last_Name: Hughes', 'Robles'),\n",
       " ('Candidate Last Name: Bennett', 'Ross'),\n",
       " ('STUDENTLASTNAME: Berger', 'Clark'),\n",
       " ('parent_last_name: Garcia', 'Lawson'),\n",
       " ('student last name: Pruitt', 'Rodgers'),\n",
       " ('Contestant-Last-Name: Scott', 'Miller')]"
      ]
     },
     "execution_count": 8,
     "metadata": {},
     "output_type": "execute_result"
    }
   ],
   "source": [
    "list(zip(input, output))[:20]"
   ]
  },
  {
   "cell_type": "code",
   "execution_count": 9,
   "metadata": {},
   "outputs": [],
   "source": [
    "import pandas as pd\n",
    "res = pd.DataFrame(columns=['input_entity', 'output_entity'])"
   ]
  },
  {
   "cell_type": "code",
   "execution_count": 10,
   "metadata": {},
   "outputs": [],
   "source": [
    "res['input_entity'] = input\n",
    "res['output_entity'] = output"
   ]
  },
  {
   "cell_type": "code",
   "execution_count": 11,
   "metadata": {},
   "outputs": [
    {
     "data": {
      "text/plain": [
       "5400"
      ]
     },
     "execution_count": 11,
     "metadata": {},
     "output_type": "execute_result"
    }
   ],
   "source": [
    "len(res)"
   ]
  },
  {
   "cell_type": "code",
   "execution_count": 12,
   "metadata": {},
   "outputs": [],
   "source": [
    "res.to_csv('LastName_data.csv', index=False)"
   ]
  },
  {
   "cell_type": "code",
   "execution_count": 13,
   "metadata": {},
   "outputs": [
    {
     "data": {
      "text/html": [
       "<div>\n",
       "<style scoped>\n",
       "    .dataframe tbody tr th:only-of-type {\n",
       "        vertical-align: middle;\n",
       "    }\n",
       "\n",
       "    .dataframe tbody tr th {\n",
       "        vertical-align: top;\n",
       "    }\n",
       "\n",
       "    .dataframe thead th {\n",
       "        text-align: right;\n",
       "    }\n",
       "</style>\n",
       "<table border=\"1\" class=\"dataframe\">\n",
       "  <thead>\n",
       "    <tr style=\"text-align: right;\">\n",
       "      <th></th>\n",
       "      <th>input_entity</th>\n",
       "      <th>output_entity</th>\n",
       "    </tr>\n",
       "  </thead>\n",
       "  <tbody>\n",
       "    <tr>\n",
       "      <th>0</th>\n",
       "      <td>familyname: Fernandez</td>\n",
       "      <td>Garcia</td>\n",
       "    </tr>\n",
       "    <tr>\n",
       "      <th>1</th>\n",
       "      <td>FAMILYNAME: Jones</td>\n",
       "      <td>Farmer</td>\n",
       "    </tr>\n",
       "    <tr>\n",
       "      <th>2</th>\n",
       "      <td>EMPLOYEE_LAST_NAME: Hanson</td>\n",
       "      <td>Myers</td>\n",
       "    </tr>\n",
       "    <tr>\n",
       "      <th>3</th>\n",
       "      <td>StudentLastName: Olson</td>\n",
       "      <td>Tucker</td>\n",
       "    </tr>\n",
       "    <tr>\n",
       "      <th>4</th>\n",
       "      <td>FAMILYNAME: Price</td>\n",
       "      <td>Mitchell</td>\n",
       "    </tr>\n",
       "    <tr>\n",
       "      <th>...</th>\n",
       "      <td>...</td>\n",
       "      <td>...</td>\n",
       "    </tr>\n",
       "    <tr>\n",
       "      <th>5395</th>\n",
       "      <td>family-name: Gomez</td>\n",
       "      <td>Scott</td>\n",
       "    </tr>\n",
       "    <tr>\n",
       "      <th>5396</th>\n",
       "      <td>mother's_last_name: Lewis</td>\n",
       "      <td>Mcconnell</td>\n",
       "    </tr>\n",
       "    <tr>\n",
       "      <th>5397</th>\n",
       "      <td>employeelastname: Gibbs</td>\n",
       "      <td>Wagner</td>\n",
       "    </tr>\n",
       "    <tr>\n",
       "      <th>5398</th>\n",
       "      <td>EmployeeLastName: Davidson</td>\n",
       "      <td>Valdez</td>\n",
       "    </tr>\n",
       "    <tr>\n",
       "      <th>5399</th>\n",
       "      <td>contestantlastname: Miller</td>\n",
       "      <td>Wilson</td>\n",
       "    </tr>\n",
       "  </tbody>\n",
       "</table>\n",
       "<p>5400 rows × 2 columns</p>\n",
       "</div>"
      ],
      "text/plain": [
       "                    input_entity output_entity\n",
       "0          familyname: Fernandez        Garcia\n",
       "1              FAMILYNAME: Jones        Farmer\n",
       "2     EMPLOYEE_LAST_NAME: Hanson         Myers\n",
       "3         StudentLastName: Olson        Tucker\n",
       "4              FAMILYNAME: Price      Mitchell\n",
       "...                          ...           ...\n",
       "5395          family-name: Gomez         Scott\n",
       "5396   mother's_last_name: Lewis     Mcconnell\n",
       "5397     employeelastname: Gibbs        Wagner\n",
       "5398  EmployeeLastName: Davidson        Valdez\n",
       "5399  contestantlastname: Miller        Wilson\n",
       "\n",
       "[5400 rows x 2 columns]"
      ]
     },
     "execution_count": 13,
     "metadata": {},
     "output_type": "execute_result"
    }
   ],
   "source": [
    "res"
   ]
  },
  {
   "cell_type": "code",
   "execution_count": null,
   "metadata": {},
   "outputs": [],
   "source": []
  }
 ],
 "metadata": {
  "kernelspec": {
   "display_name": "Python 3.8.13 ('reticle')",
   "language": "python",
   "name": "python3"
  },
  "language_info": {
   "codemirror_mode": {
    "name": "ipython",
    "version": 3
   },
   "file_extension": ".py",
   "mimetype": "text/x-python",
   "name": "python",
   "nbconvert_exporter": "python",
   "pygments_lexer": "ipython3",
   "version": "3.8.13"
  },
  "orig_nbformat": 4,
  "vscode": {
   "interpreter": {
    "hash": "09ec2db156a7209681ea734e4f7b85e602c6e683f9c0304fe8b6394a4a1b5475"
   }
  }
 },
 "nbformat": 4,
 "nbformat_minor": 2
}
