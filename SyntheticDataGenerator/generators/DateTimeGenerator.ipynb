{
 "cells": [
  {
   "cell_type": "code",
   "execution_count": 1,
   "metadata": {},
   "outputs": [],
   "source": [
    "import random\n",
    "from faker import Faker\n",
    "from generatorUtils import LabelTransformations\n",
    "\n",
    "from datetime import date, datetime as dt"
   ]
  },
  {
   "cell_type": "code",
   "execution_count": 2,
   "metadata": {},
   "outputs": [],
   "source": [
    "labels = ['date time', 'published date time', 'transaction date time', \n",
    "'date time of birth', 'date time of commencement', 'date time of joining',\n",
    "'end date time', 'date time of transaction', 'date time of purchase', 'last authentication date time', \n",
    "'role created date time', 'creation date time', 'modified date time', 'last modified date time', 'login created date time']\n",
    "\n"
   ]
  },
  {
   "cell_type": "code",
   "execution_count": 7,
   "metadata": {},
   "outputs": [],
   "source": [
    "class DateTimeGenerator:\n",
    "    def __init__(self, num_of_samples):\n",
    "        self.num_of_samples = num_of_samples\n",
    "        self.labelTransformations = LabelTransformations()\n",
    "\n",
    "    def Get12hrTime(self,):\n",
    "        f = Faker()\n",
    "        while True:\n",
    "            date_string  = f.time(pattern='%H:%M')\n",
    "\n",
    "            if int(date_string[:2]) < 13:\n",
    "                return date_string + ' ' + f.am_pm()\n",
    "\n",
    "    def generateDateTime(self, labels):\n",
    "        labels = list(set(self.labelTransformations(labels)))\n",
    "        f = Faker()\n",
    "        datetime_input_strings = []\n",
    "        datetime_output_strings = []\n",
    "        for i in range(self.num_of_samples):\n",
    "\n",
    "            # January 1, 1996 20:50\n",
    "            label = random.choice(labels)\n",
    "            datetime_input_strings.append(label + ': ' + f.month_name() + ' ' + f.day_of_month() + ', ' + f.year() + ' ' + f.time(pattern='%H:%M'))\n",
    "            datetime_output_strings.append(f.month_name() + ' ' + f.day_of_month() + ', ' + f.year() + ' ' + f.time(pattern='%H:%M'))\n",
    "\n",
    "            # 1 January 2001 20:50\n",
    "            label = random.choice(labels)\n",
    "            datetime_input_strings.append(label + ': ' + f.day_of_month() + ' ' + f.month_name() + ' ' + f.year() + ' ' + f.time(pattern='%H:%M'))\n",
    "            datetime_output_strings.append(f.day_of_month() + ' ' + f.month_name() + ' ' + f.year() + ' ' + f.time(pattern='%H:%M'))\n",
    "\n",
    "            # Jan 1, 1996 20:50\n",
    "            label = random.choice(labels)\n",
    "            datetime_input_strings.append(label + ': ' + f.month_name()[:3] + ' ' + f.day_of_month() + ', ' + f.year() + ' ' + f.time(pattern='%H:%M'))\n",
    "            datetime_output_strings.append(f.month_name() + ' ' + f.day_of_month()[:3] + ', ' + f.year() + ' ' + f.time(pattern='%H:%M'))\n",
    "\n",
    "\n",
    "            # 1 Jan 2001\n",
    "            label = random.choice(labels)\n",
    "            datetime_input_strings.append(label + ': ' + f.day_of_month()[:3] + ' ' + f.month_name() + ' ' + f.year() + ' ' + f.time(pattern='%H:%M'))\n",
    "            datetime_output_strings.append(f.day_of_month() + ' ' + f.month_name()[:3] + ' ' + f.year() + ' ' + f.time(pattern='%H:%M'))\n",
    "\n",
    "            # 2001-01-12\n",
    "\n",
    "            datetime_input_strings.append(label + ': ' + f.date() + ' ' + f.time(pattern='%H:%M'))\n",
    "            datetime_output_strings.append(f.date() + ' ' + f.time(pattern='%H:%M'))\n",
    "\n",
    "            # 12-01-1994\n",
    "\n",
    "        \n",
    "            label = random.choice(labels)\n",
    "            datetime_input_strings.append(label + ': ' + f.date(pattern='%d-%m-%Y') + ' ' + f.time(pattern='%H:%M'))\n",
    "            datetime_output_strings.append(f.date(pattern='%d-%m-%Y') + ' ' + f.time(pattern='%H:%M'))\n",
    "\n",
    "            # 2003/01/21\n",
    "\n",
    "      \n",
    "            label = random.choice(labels)\n",
    "            datetime_input_strings.append(label + ': ' + f.date(pattern='%Y/%m/%d') + ' ' + f.time(pattern='%H:%M'))\n",
    "            datetime_output_strings.append(f.date(pattern='%Y/%m/%d') + ' ' + f.time(pattern='%H:%M'))\n",
    "\n",
    "            # 01/01/1993\n",
    "\n",
    "    \n",
    "            label = random.choice(labels)\n",
    "            datetime_input_strings.append(label + ': ' + f.date(pattern='%d/%m/%Y') + ' ' + f.time(pattern='%H:%M') )\n",
    "            datetime_output_strings.append(f.date(pattern='%d/%m/%Y') + ' ' + f.time(pattern='%H:%M'))\n",
    "\n",
    "            # January 1, 1996\n",
    "\n",
    "   \n",
    "            label = random.choice(labels)\n",
    "            datetime_input_strings.append(label + ': ' + f.month_name() + ' ' + f.day_of_month() + ', ' + f.year() + ' ' + self.Get12hrTime())\n",
    "            datetime_output_strings.append(f.month_name() + ' ' + f.day_of_month() + ', ' + f.year() + ' ' + self.Get12hrTime())\n",
    "\n",
    "            # 1 January 2001\n",
    "\n",
    "\n",
    "            label = random.choice(labels)\n",
    "            datetime_input_strings.append(label + ': ' + f.day_of_month() + ' ' + f.month_name() + ' ' + f.year() + ' ' + self.Get12hrTime())\n",
    "            datetime_output_strings.append(f.day_of_month() + ' ' + f.month_name() + ' ' + f.year() + ' ' + self.Get12hrTime())\n",
    "\n",
    "            # Jan 1, 1996\n",
    "\n",
    "\n",
    "            label = random.choice(labels)\n",
    "            datetime_input_strings.append(label + ': ' + f.month_name()[:3] + ' ' + f.day_of_month() + ', ' + f.year() + ' ' + self.Get12hrTime())\n",
    "            datetime_output_strings.append(f.month_name() + ' ' + f.day_of_month()[:3] + ', ' + f.year() + ' ' + self.Get12hrTime())\n",
    "\n",
    "            # 1 Jan 2001\n",
    "\n",
    " \n",
    "            label = random.choice(labels)\n",
    "            datetime_input_strings.append(label + ': ' + f.day_of_month()[:3] + ' ' + f.month_name() + ' ' + f.year() + ' ' + self.Get12hrTime())\n",
    "            datetime_output_strings.append(f.day_of_month() + ' ' + f.month_name()[:3] + ' ' + f.year() + ' ' + self.Get12hrTime())\n",
    "\n",
    "            # 2001-01-12\n",
    "\n",
    "    \n",
    "            label = random.choice(labels)\n",
    "            datetime_input_strings.append(label + ': ' + f.date() + ' ' + self.Get12hrTime())\n",
    "            datetime_output_strings.append(f.date() + ' ' + self.Get12hrTime())\n",
    "\n",
    "            # 12-01-1994\n",
    "\n",
    "  \n",
    "            label = random.choice(labels)\n",
    "            datetime_input_strings.append(label + ': ' + f.date(pattern='%d-%m-%Y') + ' ' + self.Get12hrTime())\n",
    "            datetime_output_strings.append(f.date(pattern='%d-%m-%Y') + ' ' + self.Get12hrTime())\n",
    "\n",
    "            # 2003/01/21\n",
    "\n",
    "     \n",
    "            label = random.choice(labels)\n",
    "            datetime_input_strings.append(label + ': ' + f.date(pattern='%Y/%m/%d') + ' ' + self.Get12hrTime())\n",
    "            datetime_output_strings.append(f.date(pattern='%Y/%m/%d') + ' ' + self.Get12hrTime())\n",
    "\n",
    "            # 01/01/1993\n",
    "\n",
    "  \n",
    "            label = random.choice(labels)\n",
    "            datetime_input_strings.append(label + ': ' + f.date(pattern='%d/%m/%Y') + ' ' + self.Get12hrTime() )\n",
    "            datetime_output_strings.append(f.date(pattern='%d/%m/%Y') + ' ' + self.Get12hrTime())\n",
    "\n",
    "            # January 1, 1996\n",
    "\n",
    "    \n",
    "            label = random.choice(labels)\n",
    "            datetime_input_strings.append(label + ': ' + f.month_name() + ' ' + f.day_of_month() + ', ' + f.year() + ' ' + f.time())\n",
    "            datetime_output_strings.append(f.month_name() + ' ' + f.day_of_month() + ', ' + f.year() + ' ' + f.time())\n",
    "\n",
    "            # 1 January 2001\n",
    "\n",
    "   \n",
    "            label = random.choice(labels)\n",
    "            datetime_input_strings.append(label + ': ' + f.day_of_month() + ' ' + f.month_name() + ' ' + f.year() + ' ' + f.time())\n",
    "            datetime_output_strings.append(f.day_of_month() + ' ' + f.month_name() + ' ' + f.year() + ' ' + f.time())\n",
    "\n",
    "            # Jan 1, 1996\n",
    "\n",
    "      \n",
    "            label = random.choice(labels)\n",
    "            datetime_input_strings.append(label + ': ' + f.month_name()[:3] + ' ' + f.day_of_month() + ', ' + f.year() + ' ' + f.time())\n",
    "            datetime_output_strings.append(f.month_name()[:3] + ' ' + f.day_of_month() + ', ' + f.year() + ' ' + f.time())\n",
    "\n",
    "            # 1 Jan 2001\n",
    "\n",
    "\n",
    "            label = random.choice(labels)\n",
    "            datetime_input_strings.append(label + ': ' + f.day_of_month()[:3] + ' ' + f.month_name() + ' ' + f.year() + ' ' + f.time())\n",
    "            datetime_output_strings.append(f.day_of_month() + ' ' + f.month_name()[:3] + ' ' + f.year() + ' ' + f.time())\n",
    "\n",
    "            # 2001-01-12\n",
    "\n",
    "       \n",
    "            label = random.choice(labels)\n",
    "            datetime_input_strings.append(label + ': ' + f.date() + ' ' + f.time())\n",
    "            datetime_output_strings.append(f.date() + ' ' + f.time())\n",
    "\n",
    "            # 12-01-1994\n",
    "\n",
    "     \n",
    "            label = random.choice(labels)\n",
    "            datetime_input_strings.append(label + ': ' + f.date(pattern='%d-%m-%Y') + ' ' + f.time())\n",
    "            datetime_output_strings.append(f.date(pattern='%d-%m-%Y') + ' ' + f.time())\n",
    "\n",
    "            # 2003/01/21\n",
    "\n",
    "   \n",
    "            label = random.choice(labels)\n",
    "            datetime_input_strings.append(label + ': ' + f.date(pattern='%Y/%m/%d') + ' ' + f.time())\n",
    "            datetime_output_strings.append(f.date(pattern='%Y/%m/%d') + ' ' + f.time())\n",
    "\n",
    "            # 01/01/1993\n",
    "\n",
    "            label = random.choice(labels)\n",
    "            datetime_input_strings.append(label + ': ' + f.date(pattern='%d/%m/%Y') + ' ' + f.time())\n",
    "            datetime_output_strings.append(f.date(pattern='%d/%m/%Y') + ' ' + f.time())\n",
    "\n",
    "            \n",
    "        return datetime_input_strings, datetime_output_strings"
   ]
  },
  {
   "cell_type": "code",
   "execution_count": 8,
   "metadata": {},
   "outputs": [],
   "source": [
    "dateTimeGenerator = DateTimeGenerator(num_of_samples=300)"
   ]
  },
  {
   "cell_type": "code",
   "execution_count": 9,
   "metadata": {},
   "outputs": [],
   "source": [
    "input, output = dateTimeGenerator.generateDateTime(labels)"
   ]
  },
  {
   "cell_type": "code",
   "execution_count": 10,
   "metadata": {},
   "outputs": [
    {
     "data": {
      "text/plain": [
       "[('LOGIN CREATED DATE TIME: December 29, 2007 04:51',\n",
       "  'January 26, 1997 07:32'),\n",
       " ('PUBLISHEDDATETIME: 07 February 2014 16:30', '23 November 2016 07:39'),\n",
       " ('Transaction-Date-Time: Jan 15, 1983 10:45', 'March 18, 2012 17:40'),\n",
       " ('Date-Time-Of-Transaction: 24 March 1993 17:48', '08 Oct 2022 01:02'),\n",
       " ('Date-Time-Of-Transaction: 1977-01-09 08:45', '1973-12-30 17:56'),\n",
       " ('creationDateTime: 12-10-1978 11:06', '14-02-1975 16:47'),\n",
       " ('date_time_of_joining: 2002/01/07 10:27', '2002/01/22 04:10'),\n",
       " ('LastAuthenticationDateTime: 06/09/1973 03:12', '02/08/1985 19:47'),\n",
       " ('Modified Date Time: February 30, 2013 10:44 AM', 'June 12, 2014 10:28 AM'),\n",
       " ('creation date time: 04 January 1983 07:29 AM', '13 March 1977 03:30 AM'),\n",
       " ('date time of purchase: Nov 05, 2008 04:30 AM',\n",
       "  'November 25, 2019 03:07 PM'),\n",
       " ('dateTimeOfPurchase: 19 September 1997 08:28 AM', '15 Jun 2000 09:17 AM'),\n",
       " ('MODIFIED_DATE_TIME: 1987-10-18 06:43 AM', '2013-08-07 02:14 PM'),\n",
       " ('DATE_TIME_OF_JOINING: 25-10-2005 09:59 PM', '06-11-1972 12:56 PM'),\n",
       " ('DateTimeOfJoining: 1987/03/11 01:48 AM', '2016/12/08 07:59 PM'),\n",
       " ('DATE_TIME_OF_JOINING: 28/10/1984 00:14 PM', '01/06/1997 05:23 AM'),\n",
       " ('CREATION_DATE_TIME: December 03, 2019 06:01:13',\n",
       "  'October 23, 1975 02:01:22'),\n",
       " ('date time of transaction: 06 December 1980 22:00:15',\n",
       "  '13 June 1974 00:56:00'),\n",
       " ('creation-date-time: Dec 10, 1984 19:13:48', 'Jan 05, 1998 04:47:22'),\n",
       " ('Date_Time_Of_Joining: 16 July 2009 18:38:18', '21 Aug 2009 06:56:10')]"
      ]
     },
     "execution_count": 10,
     "metadata": {},
     "output_type": "execute_result"
    }
   ],
   "source": [
    "list(zip(input, output))[:20]"
   ]
  },
  {
   "cell_type": "code",
   "execution_count": 11,
   "metadata": {},
   "outputs": [],
   "source": [
    "import pandas as pd\n",
    "res = pd.DataFrame(columns=['input_entity', 'output_entity'])"
   ]
  },
  {
   "cell_type": "code",
   "execution_count": 12,
   "metadata": {},
   "outputs": [],
   "source": [
    "res['input_entity'] = input\n",
    "res['output_entity'] = output"
   ]
  },
  {
   "cell_type": "code",
   "execution_count": 13,
   "metadata": {},
   "outputs": [],
   "source": [
    "res.to_csv('datetime_data.csv', index=False)"
   ]
  },
  {
   "cell_type": "code",
   "execution_count": 14,
   "metadata": {},
   "outputs": [
    {
     "data": {
      "text/plain": [
       "7200"
      ]
     },
     "execution_count": 14,
     "metadata": {},
     "output_type": "execute_result"
    }
   ],
   "source": [
    "len(res)"
   ]
  },
  {
   "cell_type": "code",
   "execution_count": null,
   "metadata": {},
   "outputs": [],
   "source": []
  }
 ],
 "metadata": {
  "kernelspec": {
   "display_name": "Python 3.8.13 ('reticle')",
   "language": "python",
   "name": "python3"
  },
  "language_info": {
   "codemirror_mode": {
    "name": "ipython",
    "version": 3
   },
   "file_extension": ".py",
   "mimetype": "text/x-python",
   "name": "python",
   "nbconvert_exporter": "python",
   "pygments_lexer": "ipython3",
   "version": "3.8.13"
  },
  "orig_nbformat": 4,
  "vscode": {
   "interpreter": {
    "hash": "09ec2db156a7209681ea734e4f7b85e602c6e683f9c0304fe8b6394a4a1b5475"
   }
  }
 },
 "nbformat": 4,
 "nbformat_minor": 2
}
