{
 "cells": [
  {
   "cell_type": "code",
   "execution_count": 4,
   "metadata": {},
   "outputs": [],
   "source": [
    "from generatorUtils import LabelTransformations\n",
    "import random\n",
    "from faker import Faker\n",
    "f = Faker()\n",
    "from collections import Counter\n"
   ]
  },
  {
   "cell_type": "code",
   "execution_count": 5,
   "metadata": {},
   "outputs": [],
   "source": [
    "labels = ['first name', 'employee first name', 'candidate first name', \n",
    "'Contestant first name', '1st name', 'parent first name', \n",
    "\"Father's first name\", \"Mother's first name\",\n",
    "\"recipient first name\", \"student first name\"]"
   ]
  },
  {
   "cell_type": "code",
   "execution_count": 6,
   "metadata": {},
   "outputs": [],
   "source": [
    "class FirstNameGenerators:\n",
    "    def __init__(self, num_of_samples):\n",
    "        self.labelTransformations = LabelTransformations()\n",
    "        self.num_of_samples = num_of_samples\n",
    "        \n",
    "\n",
    "        self.locales = ['en_AU', 'en_CA', 'en_GB', 'en_IE', 'en_IN', 'en_NZ', 'en_PH', 'en_TH', 'en_US']\n",
    "\n",
    "    def generateFirstNames(self, labels):\n",
    "        labels = list(set(self.labelTransformations(labels)))\n",
    "        input_list = []\n",
    "        output_list = []\n",
    "\n",
    "        for locale in self.locales:\n",
    "            self.f = Faker(locale=locale)\n",
    "\n",
    "            for i in range(self.num_of_samples):\n",
    "                label = random.choice(labels)\n",
    "                input_first_name = self.f.first_name_male()\n",
    "                output_first_name = self.f.first_name_male()\n",
    "                input_list.append(label + ': ' + input_first_name)\n",
    "                output_list.append(output_first_name)\n",
    "\n",
    "                label = random.choice(labels)\n",
    "                input_first_name = self.f.first_name_female()\n",
    "                output_first_name = self.f.first_name_female()\n",
    "                input_list.append(label + ': ' + input_first_name)\n",
    "                output_list.append(output_first_name)\n",
    "        return input_list, output_list\n",
    "\n",
    "\n",
    "            "
   ]
  },
  {
   "cell_type": "code",
   "execution_count": 7,
   "metadata": {},
   "outputs": [],
   "source": [
    "firstNameGenerators = FirstNameGenerators(num_of_samples=300)"
   ]
  },
  {
   "cell_type": "code",
   "execution_count": 8,
   "metadata": {},
   "outputs": [],
   "source": [
    "input, output = firstNameGenerators.generateFirstNames(labels)"
   ]
  },
  {
   "cell_type": "code",
   "execution_count": 9,
   "metadata": {},
   "outputs": [
    {
     "data": {
      "text/plain": [
       "[('candidate_first_name: James', 'Chris'),\n",
       " ('RecipientFirstName: Lisa', 'Emma'),\n",
       " (\"father's_first_name: Joshua\", 'Daniel'),\n",
       " ('employee_first_name: April', 'Sarah'),\n",
       " (\"Mother'S_First_Name: John\", 'Charles'),\n",
       " ('CONTESTANT FIRST NAME: Jennifer', 'Shannon'),\n",
       " (\"mother'sfirstname: Spencer\", 'Jacob'),\n",
       " ('CONTESTANT-FIRST-NAME: Tonya', 'Elizabeth'),\n",
       " ('First Name: Oscar', 'Kyle'),\n",
       " ('Parent First Name: Valerie', 'Tina'),\n",
       " ('employeeFirstName: Darren', 'Ian'),\n",
       " ('Contestant First Name: Gloria', 'Taylor'),\n",
       " (\"mother's-first-name: Johnathan\", 'Michael'),\n",
       " ('1ST NAME: Vanessa', 'Maria'),\n",
       " ('Contestant_First_Name: Thomas', 'Douglas'),\n",
       " ('recipient_first_name: Gabrielle', 'Jennifer'),\n",
       " ('contestant_first_name: Dennis', 'Evan'),\n",
       " (\"Father'S First Name: Brooke\", 'Allison'),\n",
       " (\"father's_first_name: Sean\", 'Philip'),\n",
       " ('Student_First_Name: Madison', 'Nicole')]"
      ]
     },
     "execution_count": 9,
     "metadata": {},
     "output_type": "execute_result"
    }
   ],
   "source": [
    "list(zip(input, output))[:20]"
   ]
  },
  {
   "cell_type": "code",
   "execution_count": 10,
   "metadata": {},
   "outputs": [],
   "source": [
    "import pandas as pd\n",
    "res = pd.DataFrame(columns=['input_entity', 'output_entity'])"
   ]
  },
  {
   "cell_type": "code",
   "execution_count": 11,
   "metadata": {},
   "outputs": [],
   "source": [
    "res['input_entity'] = input\n",
    "res['output_entity'] = output"
   ]
  },
  {
   "cell_type": "code",
   "execution_count": 12,
   "metadata": {},
   "outputs": [
    {
     "data": {
      "text/plain": [
       "5400"
      ]
     },
     "execution_count": 12,
     "metadata": {},
     "output_type": "execute_result"
    }
   ],
   "source": [
    "len(res)"
   ]
  },
  {
   "cell_type": "code",
   "execution_count": 13,
   "metadata": {},
   "outputs": [],
   "source": [
    "res.to_csv('FirstName_data.csv', index=False)"
   ]
  },
  {
   "cell_type": "code",
   "execution_count": 14,
   "metadata": {},
   "outputs": [
    {
     "data": {
      "text/html": [
       "<div>\n",
       "<style scoped>\n",
       "    .dataframe tbody tr th:only-of-type {\n",
       "        vertical-align: middle;\n",
       "    }\n",
       "\n",
       "    .dataframe tbody tr th {\n",
       "        vertical-align: top;\n",
       "    }\n",
       "\n",
       "    .dataframe thead th {\n",
       "        text-align: right;\n",
       "    }\n",
       "</style>\n",
       "<table border=\"1\" class=\"dataframe\">\n",
       "  <thead>\n",
       "    <tr style=\"text-align: right;\">\n",
       "      <th></th>\n",
       "      <th>input_entity</th>\n",
       "      <th>output_entity</th>\n",
       "    </tr>\n",
       "  </thead>\n",
       "  <tbody>\n",
       "    <tr>\n",
       "      <th>0</th>\n",
       "      <td>candidate_first_name: James</td>\n",
       "      <td>Chris</td>\n",
       "    </tr>\n",
       "    <tr>\n",
       "      <th>1</th>\n",
       "      <td>RecipientFirstName: Lisa</td>\n",
       "      <td>Emma</td>\n",
       "    </tr>\n",
       "    <tr>\n",
       "      <th>2</th>\n",
       "      <td>father's_first_name: Joshua</td>\n",
       "      <td>Daniel</td>\n",
       "    </tr>\n",
       "    <tr>\n",
       "      <th>3</th>\n",
       "      <td>employee_first_name: April</td>\n",
       "      <td>Sarah</td>\n",
       "    </tr>\n",
       "    <tr>\n",
       "      <th>4</th>\n",
       "      <td>Mother'S_First_Name: John</td>\n",
       "      <td>Charles</td>\n",
       "    </tr>\n",
       "    <tr>\n",
       "      <th>...</th>\n",
       "      <td>...</td>\n",
       "      <td>...</td>\n",
       "    </tr>\n",
       "    <tr>\n",
       "      <th>5395</th>\n",
       "      <td>1st-name: Christine</td>\n",
       "      <td>Christina</td>\n",
       "    </tr>\n",
       "    <tr>\n",
       "      <th>5396</th>\n",
       "      <td>father'sFirstName: William</td>\n",
       "      <td>William</td>\n",
       "    </tr>\n",
       "    <tr>\n",
       "      <th>5397</th>\n",
       "      <td>candidate first name: Jessica</td>\n",
       "      <td>Courtney</td>\n",
       "    </tr>\n",
       "    <tr>\n",
       "      <th>5398</th>\n",
       "      <td>recipient-first-name: Travis</td>\n",
       "      <td>Robert</td>\n",
       "    </tr>\n",
       "    <tr>\n",
       "      <th>5399</th>\n",
       "      <td>Mother'S First Name: Tracey</td>\n",
       "      <td>Susan</td>\n",
       "    </tr>\n",
       "  </tbody>\n",
       "</table>\n",
       "<p>5400 rows × 2 columns</p>\n",
       "</div>"
      ],
      "text/plain": [
       "                       input_entity output_entity\n",
       "0       candidate_first_name: James         Chris\n",
       "1          RecipientFirstName: Lisa          Emma\n",
       "2       father's_first_name: Joshua        Daniel\n",
       "3        employee_first_name: April         Sarah\n",
       "4         Mother'S_First_Name: John       Charles\n",
       "...                             ...           ...\n",
       "5395            1st-name: Christine     Christina\n",
       "5396     father'sFirstName: William       William\n",
       "5397  candidate first name: Jessica      Courtney\n",
       "5398   recipient-first-name: Travis        Robert\n",
       "5399    Mother'S First Name: Tracey         Susan\n",
       "\n",
       "[5400 rows x 2 columns]"
      ]
     },
     "execution_count": 14,
     "metadata": {},
     "output_type": "execute_result"
    }
   ],
   "source": [
    "res"
   ]
  },
  {
   "cell_type": "code",
   "execution_count": null,
   "metadata": {},
   "outputs": [],
   "source": []
  }
 ],
 "metadata": {
  "kernelspec": {
   "display_name": "Python 3.8.13 ('reticle')",
   "language": "python",
   "name": "python3"
  },
  "language_info": {
   "codemirror_mode": {
    "name": "ipython",
    "version": 3
   },
   "file_extension": ".py",
   "mimetype": "text/x-python",
   "name": "python",
   "nbconvert_exporter": "python",
   "pygments_lexer": "ipython3",
   "version": "3.8.13"
  },
  "orig_nbformat": 4,
  "vscode": {
   "interpreter": {
    "hash": "09ec2db156a7209681ea734e4f7b85e602c6e683f9c0304fe8b6394a4a1b5475"
   }
  }
 },
 "nbformat": 4,
 "nbformat_minor": 2
}
