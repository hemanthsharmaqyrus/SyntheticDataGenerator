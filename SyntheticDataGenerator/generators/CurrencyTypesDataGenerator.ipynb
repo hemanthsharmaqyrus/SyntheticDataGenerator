{
 "cells": [
  {
   "cell_type": "code",
   "execution_count": 4,
   "metadata": {},
   "outputs": [],
   "source": [
    "from generatorUtils import LabelTransformations\n",
    "import random\n",
    "from faker import Faker\n",
    "f = Faker()\n",
    "from collections import Counter\n",
    "from itertools import permutations\n"
   ]
  },
  {
   "cell_type": "code",
   "execution_count": 5,
   "metadata": {},
   "outputs": [],
   "source": [
    "labels = ['Currency', 'Current type', 'current name', 'currency code']"
   ]
  },
  {
   "cell_type": "code",
   "execution_count": 8,
   "metadata": {},
   "outputs": [],
   "source": [
    "class CurrencyTypesDataGenerator:\n",
    "    def __init__(self, num_of_samples):\n",
    "        self.labelTransformations = LabelTransformations()\n",
    "        self.num_of_samples = num_of_samples\n",
    "        self.f = Faker()\n",
    "\n",
    "    def generateCurrencyTypeData(self, labels):\n",
    "        labels = list(set(self.labelTransformations(labels)))\n",
    "\n",
    "        input_list = []\n",
    "        output_list = []\n",
    "        for i in range(self.num_of_samples):\n",
    "            input_currency_name = random.choice(list(set(self.labelTransformations([self.f.currency_name()]))))\n",
    "            output_currency_name = random.choice(list(set(self.labelTransformations([self.f.currency_name()]))))\n",
    "\n",
    "            label = random.choice(labels)\n",
    "            input_list.append(label + ': ' + input_currency_name)\n",
    "            output_list.append(output_currency_name)\n",
    "\n",
    "            \n",
    "\n",
    "            input_currency_code =  random.choice(list(set(self.labelTransformations([self.f.currency_code()]))))\n",
    "            output_currency_code =  random.choice(list(set(self.labelTransformations([self.f.currency_code()]))))\n",
    "\n",
    "            label = random.choice(labels)\n",
    "            input_list.append(label + ': ' + input_currency_code)\n",
    "            output_list.append(output_currency_code)\n",
    "        return input_list, output_list\n",
    "    "
   ]
  },
  {
   "cell_type": "code",
   "execution_count": 9,
   "metadata": {},
   "outputs": [],
   "source": [
    "currencyTypesDataGenerator = CurrencyTypesDataGenerator(num_of_samples=300)"
   ]
  },
  {
   "cell_type": "code",
   "execution_count": 11,
   "metadata": {},
   "outputs": [],
   "source": [
    "input, output = currencyTypesDataGenerator.generateCurrencyTypeData(labels)"
   ]
  },
  {
   "cell_type": "code",
   "execution_count": 12,
   "metadata": {},
   "outputs": [
    {
     "data": {
      "text/plain": [
       "[('CURRENCY-CODE: lebanesePound', 'CroatianKuna'),\n",
       " ('currency_code: Mkd', 'Cdf'),\n",
       " ('Current Name: YEMENI-RIAL', 'netherlands_antillean_guilder'),\n",
       " ('Currency_Code: qar', 'hnl'),\n",
       " ('CURRENT-TYPE: malagasy_ariar', 'southafricanrand'),\n",
       " ('CURRENTNAME: Gel', 'Gnf'),\n",
       " ('CURRENCY_CODE: ICELANDIC-KRÓNA', 'Colombian_Peso'),\n",
       " ('current-type: MAD', 'BHD'),\n",
       " ('CURRENCYCODE: paraguayan guarani', 'canadian-dollar'),\n",
       " ('CURRENTNAME: NIS', 'TWD'),\n",
       " ('Current-Type: GUERNSEY-POUND', 'Renminbi'),\n",
       " ('Current_Name: uyu', 'kes'),\n",
       " ('CURRENCY CODE: macedoniandenar', 'lithuanianlitas'),\n",
       " ('Current Type: Czk', 'MZN'),\n",
       " ('Currency: Cuban Convertible Peso', 'CENTRAL_AFRICAN_CFA_FRANC'),\n",
       " ('current_type: Mnt', 'Qar'),\n",
       " ('currency code: bahamiandollar', 'sudanesepound'),\n",
       " ('currency_code: HTG', 'gbp'),\n",
       " ('currency: renminbi', 'cambodianriel'),\n",
       " ('CURRENT_NAME: BTN', 'HRK')]"
      ]
     },
     "execution_count": 12,
     "metadata": {},
     "output_type": "execute_result"
    }
   ],
   "source": [
    "list(zip(input, output))"
   ]
  },
  {
   "cell_type": "code",
   "execution_count": 13,
   "metadata": {},
   "outputs": [],
   "source": [
    "import pandas as pd\n",
    "res = pd.DataFrame(columns=['input_entity', 'output_entity'])"
   ]
  },
  {
   "cell_type": "code",
   "execution_count": 14,
   "metadata": {},
   "outputs": [],
   "source": [
    "res['input_entity'] = input\n",
    "res['output_entity'] = output"
   ]
  },
  {
   "cell_type": "code",
   "execution_count": 15,
   "metadata": {},
   "outputs": [],
   "source": [
    "res.to_csv('currencyTypes_data.csv', index=False)"
   ]
  },
  {
   "cell_type": "code",
   "execution_count": null,
   "metadata": {},
   "outputs": [],
   "source": []
  }
 ],
 "metadata": {
  "kernelspec": {
   "display_name": "Python 3.8.13 ('reticle')",
   "language": "python",
   "name": "python3"
  },
  "language_info": {
   "codemirror_mode": {
    "name": "ipython",
    "version": 3
   },
   "file_extension": ".py",
   "mimetype": "text/x-python",
   "name": "python",
   "nbconvert_exporter": "python",
   "pygments_lexer": "ipython3",
   "version": "3.8.13"
  },
  "orig_nbformat": 4,
  "vscode": {
   "interpreter": {
    "hash": "09ec2db156a7209681ea734e4f7b85e602c6e683f9c0304fe8b6394a4a1b5475"
   }
  }
 },
 "nbformat": 4,
 "nbformat_minor": 2
}
