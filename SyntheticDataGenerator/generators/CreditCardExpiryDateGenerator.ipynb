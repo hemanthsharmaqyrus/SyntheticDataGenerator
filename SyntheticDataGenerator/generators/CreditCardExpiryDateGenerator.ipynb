{
 "cells": [
  {
   "cell_type": "code",
   "execution_count": 1,
   "metadata": {},
   "outputs": [],
   "source": [
    "from faker import Faker\n",
    "import random\n",
    "from generatorUtils import LabelTransformations"
   ]
  },
  {
   "cell_type": "code",
   "execution_count": 2,
   "metadata": {},
   "outputs": [],
   "source": [
    "labels = ['expiry date', 'credit card expiry', 'credit card expiration date', 'debit card expiration date', 'debit card expiry date']"
   ]
  },
  {
   "cell_type": "code",
   "execution_count": 13,
   "metadata": {},
   "outputs": [],
   "source": [
    "class CreditCardExpiryDateGenerator:\n",
    "    def __init__(self, num_of_samples):\n",
    "        self.num_of_samples = num_of_samples\n",
    "        self.labelTransformations = LabelTransformations()\n",
    "        self.f = Faker()\n",
    "    \n",
    "\n",
    "    def generateExpiryDate(self, labels):\n",
    "        labels = list(set(self.labelTransformations(labels)))\n",
    "\n",
    "        inputs = []\n",
    "        outputs = []\n",
    "\n",
    "        for i in range(self.num_of_samples):\n",
    "            label = random.choice(labels)\n",
    "\n",
    "            d = self.f.date_this_year()\n",
    "            input_year = str(random.randint(int(d.year), int(d.year) + 10))\n",
    "            input_year = input_year[2:]\n",
    "            input_month = self.f.month()\n",
    "\n",
    "            d = self.f.date_this_year()\n",
    "            output_year = str(random.randint(int(d.year), int(d.year) + 10))\n",
    "            output_year = output_year[2:]\n",
    "            output_month = self.f.month()\n",
    "\n",
    "            \n",
    "\n",
    "            \n",
    "            \n",
    "            inputs.append(label + ': ' + input_month + '/' + input_year)\n",
    "            outputs.append(output_month + '/' + output_year)\n",
    "        return inputs, outputs"
   ]
  },
  {
   "cell_type": "code",
   "execution_count": 14,
   "metadata": {},
   "outputs": [],
   "source": [
    "creditCardExpiryDateGenerator = CreditCardExpiryDateGenerator(num_of_samples=3000)"
   ]
  },
  {
   "cell_type": "code",
   "execution_count": 15,
   "metadata": {},
   "outputs": [],
   "source": [
    "input, output = creditCardExpiryDateGenerator.generateExpiryDate(labels)"
   ]
  },
  {
   "cell_type": "code",
   "execution_count": 16,
   "metadata": {},
   "outputs": [
    {
     "data": {
      "text/plain": [
       "[('creditcardexpiry: 12/29', '09/30'),\n",
       " ('Credit Card Expiry: 06/24', '02/25'),\n",
       " ('EXPIRY DATE: 11/24', '04/23'),\n",
       " ('debit_card_expiration_date: 05/22', '10/23'),\n",
       " ('CreditCardExpiry: 04/30', '05/31'),\n",
       " ('CREDIT_CARD_EXPIRATION_DATE: 04/22', '01/23'),\n",
       " ('debit-card-expiry-date: 08/24', '08/32'),\n",
       " ('creditCardExpirationDate: 09/24', '09/30'),\n",
       " ('Debit Card Expiry Date: 04/30', '12/30'),\n",
       " ('CREDIT-CARD-EXPIRATION-DATE: 01/28', '07/22'),\n",
       " ('CreditCardExpirationDate: 10/32', '10/26'),\n",
       " ('Credit-Card-Expiration-Date: 09/24', '02/28'),\n",
       " ('EXPIRY-DATE: 08/28', '07/32'),\n",
       " ('DEBIT CARD EXPIRATION DATE: 06/26', '03/31'),\n",
       " ('Credit_Card_Expiration_Date: 07/25', '04/28'),\n",
       " ('CreditCardExpirationDate: 12/26', '11/25'),\n",
       " ('DEBIT-CARD-EXPIRY-DATE: 03/31', '09/31'),\n",
       " ('DEBIT CARD EXPIRATION DATE: 11/32', '12/22'),\n",
       " ('DEBIT-CARD-EXPIRY-DATE: 10/23', '07/25'),\n",
       " ('creditCardExpirationDate: 04/23', '01/28')]"
      ]
     },
     "execution_count": 16,
     "metadata": {},
     "output_type": "execute_result"
    }
   ],
   "source": [
    "list(zip(input, output))[:20]"
   ]
  },
  {
   "cell_type": "code",
   "execution_count": 17,
   "metadata": {},
   "outputs": [],
   "source": [
    "import pandas as pd\n",
    "res = pd.DataFrame(columns=['input_entity', 'output_entity'])"
   ]
  },
  {
   "cell_type": "code",
   "execution_count": 18,
   "metadata": {},
   "outputs": [],
   "source": [
    "res['input_entity'] = input\n",
    "res['output_entity'] = output"
   ]
  },
  {
   "cell_type": "code",
   "execution_count": 19,
   "metadata": {},
   "outputs": [
    {
     "data": {
      "text/plain": [
       "3000"
      ]
     },
     "execution_count": 19,
     "metadata": {},
     "output_type": "execute_result"
    }
   ],
   "source": [
    "len(res)"
   ]
  },
  {
   "cell_type": "code",
   "execution_count": 20,
   "metadata": {},
   "outputs": [],
   "source": [
    "res.to_csv('creditCardExpiry_data.csv', index=False)"
   ]
  },
  {
   "cell_type": "code",
   "execution_count": 21,
   "metadata": {},
   "outputs": [
    {
     "data": {
      "text/html": [
       "<div>\n",
       "<style scoped>\n",
       "    .dataframe tbody tr th:only-of-type {\n",
       "        vertical-align: middle;\n",
       "    }\n",
       "\n",
       "    .dataframe tbody tr th {\n",
       "        vertical-align: top;\n",
       "    }\n",
       "\n",
       "    .dataframe thead th {\n",
       "        text-align: right;\n",
       "    }\n",
       "</style>\n",
       "<table border=\"1\" class=\"dataframe\">\n",
       "  <thead>\n",
       "    <tr style=\"text-align: right;\">\n",
       "      <th></th>\n",
       "      <th>input_entity</th>\n",
       "      <th>output_entity</th>\n",
       "    </tr>\n",
       "  </thead>\n",
       "  <tbody>\n",
       "    <tr>\n",
       "      <th>0</th>\n",
       "      <td>creditcardexpiry: 12/29</td>\n",
       "      <td>09/30</td>\n",
       "    </tr>\n",
       "    <tr>\n",
       "      <th>1</th>\n",
       "      <td>Credit Card Expiry: 06/24</td>\n",
       "      <td>02/25</td>\n",
       "    </tr>\n",
       "    <tr>\n",
       "      <th>2</th>\n",
       "      <td>EXPIRY DATE: 11/24</td>\n",
       "      <td>04/23</td>\n",
       "    </tr>\n",
       "    <tr>\n",
       "      <th>3</th>\n",
       "      <td>debit_card_expiration_date: 05/22</td>\n",
       "      <td>10/23</td>\n",
       "    </tr>\n",
       "    <tr>\n",
       "      <th>4</th>\n",
       "      <td>CreditCardExpiry: 04/30</td>\n",
       "      <td>05/31</td>\n",
       "    </tr>\n",
       "    <tr>\n",
       "      <th>...</th>\n",
       "      <td>...</td>\n",
       "      <td>...</td>\n",
       "    </tr>\n",
       "    <tr>\n",
       "      <th>2995</th>\n",
       "      <td>EXPIRYDATE: 04/29</td>\n",
       "      <td>08/29</td>\n",
       "    </tr>\n",
       "    <tr>\n",
       "      <th>2996</th>\n",
       "      <td>DEBIT_CARD_EXPIRATION_DATE: 09/22</td>\n",
       "      <td>05/28</td>\n",
       "    </tr>\n",
       "    <tr>\n",
       "      <th>2997</th>\n",
       "      <td>creditCardExpirationDate: 06/30</td>\n",
       "      <td>01/24</td>\n",
       "    </tr>\n",
       "    <tr>\n",
       "      <th>2998</th>\n",
       "      <td>credit-card-expiration-date: 07/22</td>\n",
       "      <td>02/25</td>\n",
       "    </tr>\n",
       "    <tr>\n",
       "      <th>2999</th>\n",
       "      <td>Expiry-Date: 07/27</td>\n",
       "      <td>05/26</td>\n",
       "    </tr>\n",
       "  </tbody>\n",
       "</table>\n",
       "<p>3000 rows × 2 columns</p>\n",
       "</div>"
      ],
      "text/plain": [
       "                            input_entity output_entity\n",
       "0                creditcardexpiry: 12/29         09/30\n",
       "1              Credit Card Expiry: 06/24         02/25\n",
       "2                     EXPIRY DATE: 11/24         04/23\n",
       "3      debit_card_expiration_date: 05/22         10/23\n",
       "4                CreditCardExpiry: 04/30         05/31\n",
       "...                                  ...           ...\n",
       "2995                   EXPIRYDATE: 04/29         08/29\n",
       "2996   DEBIT_CARD_EXPIRATION_DATE: 09/22         05/28\n",
       "2997     creditCardExpirationDate: 06/30         01/24\n",
       "2998  credit-card-expiration-date: 07/22         02/25\n",
       "2999                  Expiry-Date: 07/27         05/26\n",
       "\n",
       "[3000 rows x 2 columns]"
      ]
     },
     "execution_count": 21,
     "metadata": {},
     "output_type": "execute_result"
    }
   ],
   "source": [
    "res"
   ]
  },
  {
   "cell_type": "code",
   "execution_count": null,
   "metadata": {},
   "outputs": [],
   "source": []
  }
 ],
 "metadata": {
  "kernelspec": {
   "display_name": "Python 3.8.13 ('reticle')",
   "language": "python",
   "name": "python3"
  },
  "language_info": {
   "codemirror_mode": {
    "name": "ipython",
    "version": 3
   },
   "file_extension": ".py",
   "mimetype": "text/x-python",
   "name": "python",
   "nbconvert_exporter": "python",
   "pygments_lexer": "ipython3",
   "version": "3.8.13"
  },
  "orig_nbformat": 4,
  "vscode": {
   "interpreter": {
    "hash": "09ec2db156a7209681ea734e4f7b85e602c6e683f9c0304fe8b6394a4a1b5475"
   }
  }
 },
 "nbformat": 4,
 "nbformat_minor": 2
}
