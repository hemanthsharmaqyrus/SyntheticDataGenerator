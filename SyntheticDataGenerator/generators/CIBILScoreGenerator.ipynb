{
 "cells": [
  {
   "cell_type": "code",
   "execution_count": 1,
   "metadata": {},
   "outputs": [],
   "source": [
    "from generatorUtils import LabelTransformations\n",
    "import random\n",
    "from faker import Faker\n",
    "f = Faker()\n",
    "from collections import Counter\n"
   ]
  },
  {
   "cell_type": "code",
   "execution_count": 2,
   "metadata": {},
   "outputs": [],
   "source": [
    "labels = ['FICO score', 'cibil score', 'cibil', 'fico', 'credit score', 'credit rating']"
   ]
  },
  {
   "cell_type": "code",
   "execution_count": 10,
   "metadata": {},
   "outputs": [],
   "source": [
    "class CIBILScoreGenerator:\n",
    "    def __init__(self, num_of_samples):\n",
    "        self.labelTransformations = LabelTransformations()\n",
    "        self.num_of_samples = num_of_samples\n",
    "        self.f = Faker()\n",
    "\n",
    "    def generateCIBILScore(self, labels):\n",
    "        labels = list(set(self.labelTransformations(labels)))\n",
    "        input_list = []\n",
    "        output_list = []\n",
    "\n",
    "        for i in range(self.num_of_samples):\n",
    "            label = random.choice(labels)\n",
    "            input_fico_score = str(random.randint(a=300, b=850))\n",
    "            output_fico_score = str(random.randint(a=300, b=850))\n",
    "\n",
    "            input_list.append(label + ': ' + input_fico_score)\n",
    "            output_list.append(output_fico_score)\n",
    "        return input_list, output_list"
   ]
  },
  {
   "cell_type": "code",
   "execution_count": 11,
   "metadata": {},
   "outputs": [],
   "source": [
    "cibilScoreGenerator = CIBILScoreGenerator(num_of_samples=300)"
   ]
  },
  {
   "cell_type": "code",
   "execution_count": 12,
   "metadata": {},
   "outputs": [],
   "source": [
    "input, output = cibilScoreGenerator.generateCIBILScore(labels)"
   ]
  },
  {
   "cell_type": "code",
   "execution_count": 13,
   "metadata": {},
   "outputs": [
    {
     "data": {
      "text/plain": [
       "[('CREDIT-RATING: 848', '544'),\n",
       " ('CIBIL_SCORE: 820', '518'),\n",
       " ('CreditScore: 369', '705'),\n",
       " ('credit rating: 609', '757'),\n",
       " ('CREDIT-RATING: 793', '659'),\n",
       " ('cibil score: 387', '755'),\n",
       " ('CREDIT-SCORE: 473', '415'),\n",
       " ('fico score: 657', '753'),\n",
       " ('creditscore: 600', '336'),\n",
       " ('fico_score: 380', '582'),\n",
       " ('credit score: 434', '367'),\n",
       " ('CREDIT SCORE: 332', '797'),\n",
       " ('CIBIL SCORE: 697', '606'),\n",
       " ('fico_score: 343', '678'),\n",
       " ('CREDIT SCORE: 716', '379'),\n",
       " ('CREDIT RATING: 499', '623'),\n",
       " ('FICO SCORE: 809', '673'),\n",
       " ('Credit-Score: 549', '770'),\n",
       " ('ficoscore: 449', '803'),\n",
       " ('FICO_SCORE: 336', '368')]"
      ]
     },
     "execution_count": 13,
     "metadata": {},
     "output_type": "execute_result"
    }
   ],
   "source": [
    "list(zip(input, output))[:20]"
   ]
  },
  {
   "cell_type": "code",
   "execution_count": 14,
   "metadata": {},
   "outputs": [],
   "source": [
    "import pandas as pd\n",
    "res = pd.DataFrame(columns=['input_entity', 'output_entity'])"
   ]
  },
  {
   "cell_type": "code",
   "execution_count": 15,
   "metadata": {},
   "outputs": [],
   "source": [
    "res['input_entity'] = input\n",
    "res['output_entity'] = output"
   ]
  },
  {
   "cell_type": "code",
   "execution_count": 16,
   "metadata": {},
   "outputs": [
    {
     "data": {
      "text/plain": [
       "300"
      ]
     },
     "execution_count": 16,
     "metadata": {},
     "output_type": "execute_result"
    }
   ],
   "source": [
    "len(res)"
   ]
  },
  {
   "cell_type": "code",
   "execution_count": 17,
   "metadata": {},
   "outputs": [],
   "source": [
    "res.to_csv('cibilscore_data.csv', index=False)"
   ]
  },
  {
   "cell_type": "code",
   "execution_count": 18,
   "metadata": {},
   "outputs": [
    {
     "data": {
      "text/html": [
       "<div>\n",
       "<style scoped>\n",
       "    .dataframe tbody tr th:only-of-type {\n",
       "        vertical-align: middle;\n",
       "    }\n",
       "\n",
       "    .dataframe tbody tr th {\n",
       "        vertical-align: top;\n",
       "    }\n",
       "\n",
       "    .dataframe thead th {\n",
       "        text-align: right;\n",
       "    }\n",
       "</style>\n",
       "<table border=\"1\" class=\"dataframe\">\n",
       "  <thead>\n",
       "    <tr style=\"text-align: right;\">\n",
       "      <th></th>\n",
       "      <th>input_entity</th>\n",
       "      <th>output_entity</th>\n",
       "    </tr>\n",
       "  </thead>\n",
       "  <tbody>\n",
       "    <tr>\n",
       "      <th>0</th>\n",
       "      <td>CREDIT-RATING: 848</td>\n",
       "      <td>544</td>\n",
       "    </tr>\n",
       "    <tr>\n",
       "      <th>1</th>\n",
       "      <td>CIBIL_SCORE: 820</td>\n",
       "      <td>518</td>\n",
       "    </tr>\n",
       "    <tr>\n",
       "      <th>2</th>\n",
       "      <td>CreditScore: 369</td>\n",
       "      <td>705</td>\n",
       "    </tr>\n",
       "    <tr>\n",
       "      <th>3</th>\n",
       "      <td>credit rating: 609</td>\n",
       "      <td>757</td>\n",
       "    </tr>\n",
       "    <tr>\n",
       "      <th>4</th>\n",
       "      <td>CREDIT-RATING: 793</td>\n",
       "      <td>659</td>\n",
       "    </tr>\n",
       "    <tr>\n",
       "      <th>...</th>\n",
       "      <td>...</td>\n",
       "      <td>...</td>\n",
       "    </tr>\n",
       "    <tr>\n",
       "      <th>295</th>\n",
       "      <td>CREDITSCORE: 751</td>\n",
       "      <td>459</td>\n",
       "    </tr>\n",
       "    <tr>\n",
       "      <th>296</th>\n",
       "      <td>fico score: 797</td>\n",
       "      <td>739</td>\n",
       "    </tr>\n",
       "    <tr>\n",
       "      <th>297</th>\n",
       "      <td>CIBILSCORE: 325</td>\n",
       "      <td>602</td>\n",
       "    </tr>\n",
       "    <tr>\n",
       "      <th>298</th>\n",
       "      <td>Credit Rating: 302</td>\n",
       "      <td>382</td>\n",
       "    </tr>\n",
       "    <tr>\n",
       "      <th>299</th>\n",
       "      <td>credit_rating: 407</td>\n",
       "      <td>778</td>\n",
       "    </tr>\n",
       "  </tbody>\n",
       "</table>\n",
       "<p>300 rows × 2 columns</p>\n",
       "</div>"
      ],
      "text/plain": [
       "           input_entity output_entity\n",
       "0    CREDIT-RATING: 848           544\n",
       "1      CIBIL_SCORE: 820           518\n",
       "2      CreditScore: 369           705\n",
       "3    credit rating: 609           757\n",
       "4    CREDIT-RATING: 793           659\n",
       "..                  ...           ...\n",
       "295    CREDITSCORE: 751           459\n",
       "296     fico score: 797           739\n",
       "297     CIBILSCORE: 325           602\n",
       "298  Credit Rating: 302           382\n",
       "299  credit_rating: 407           778\n",
       "\n",
       "[300 rows x 2 columns]"
      ]
     },
     "execution_count": 18,
     "metadata": {},
     "output_type": "execute_result"
    }
   ],
   "source": [
    "res"
   ]
  },
  {
   "cell_type": "code",
   "execution_count": null,
   "metadata": {},
   "outputs": [],
   "source": []
  }
 ],
 "metadata": {
  "kernelspec": {
   "display_name": "Python 3.8.13 ('reticle')",
   "language": "python",
   "name": "python3"
  },
  "language_info": {
   "codemirror_mode": {
    "name": "ipython",
    "version": 3
   },
   "file_extension": ".py",
   "mimetype": "text/x-python",
   "name": "python",
   "nbconvert_exporter": "python",
   "pygments_lexer": "ipython3",
   "version": "3.8.13"
  },
  "orig_nbformat": 4,
  "vscode": {
   "interpreter": {
    "hash": "09ec2db156a7209681ea734e4f7b85e602c6e683f9c0304fe8b6394a4a1b5475"
   }
  }
 },
 "nbformat": 4,
 "nbformat_minor": 2
}
