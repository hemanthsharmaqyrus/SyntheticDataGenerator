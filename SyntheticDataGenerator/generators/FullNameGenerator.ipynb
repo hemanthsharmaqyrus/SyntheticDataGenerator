{
 "cells": [
  {
   "cell_type": "code",
   "execution_count": 5,
   "metadata": {},
   "outputs": [],
   "source": [
    "from generatorUtils import LabelTransformations\n",
    "import random\n",
    "from faker import Faker\n",
    "f = Faker()\n",
    "\n"
   ]
  },
  {
   "cell_type": "code",
   "execution_count": 6,
   "metadata": {},
   "outputs": [],
   "source": [
    "labels = ['full name', 'employee full name', 'candidate full name', \n",
    "'Contestant full name', 'parent full name', \n",
    "\"Father's full name\", \"Mother's full name\",\n",
    "\"recipient full name\", \"student full name\", \"name\", \"Name on the card\", \"Name in the ID\"]"
   ]
  },
  {
   "cell_type": "code",
   "execution_count": 7,
   "metadata": {},
   "outputs": [],
   "source": [
    "class FullNameGenerators:\n",
    "    def __init__(self, num_of_samples):\n",
    "        self.labelTransformations = LabelTransformations()\n",
    "        self.num_of_samples = num_of_samples\n",
    "        \n",
    "\n",
    "        self.locales = ['en_AU', 'en_CA', 'en_GB', 'en_IE', 'en_IN', 'en_NZ', 'en_PH', 'en_TH', 'en_US']\n",
    "\n",
    "    def generateFullNames(self, labels):\n",
    "        labels = list(set(self.labelTransformations(labels)))\n",
    "        input_list = []\n",
    "        output_list = []\n",
    "\n",
    "        for locale in self.locales:\n",
    "            self.f = Faker(locale=locale)\n",
    "\n",
    "            for i in range(self.num_of_samples):\n",
    "                label = random.choice(labels)\n",
    "                input_last_name = self.f.name_male()\n",
    "                output_last_name = self.f.name_male()\n",
    "                input_list.append(label + ': ' + input_last_name)\n",
    "                output_list.append(output_last_name)\n",
    "\n",
    "                label = random.choice(labels)\n",
    "                input_last_name = self.f.name_female()\n",
    "                output_last_name = self.f.name_female()\n",
    "                input_list.append(label + ': ' + input_last_name)\n",
    "                output_list.append(output_last_name)\n",
    "        return input_list, output_list\n",
    "\n",
    "\n",
    "            "
   ]
  },
  {
   "cell_type": "code",
   "execution_count": 8,
   "metadata": {},
   "outputs": [],
   "source": [
    "fullNameGenerators = FullNameGenerators(num_of_samples=300)"
   ]
  },
  {
   "cell_type": "code",
   "execution_count": 9,
   "metadata": {},
   "outputs": [],
   "source": [
    "input, output = fullNameGenerators.generateFullNames(labels)"
   ]
  },
  {
   "cell_type": "code",
   "execution_count": 10,
   "metadata": {},
   "outputs": [
    {
     "data": {
      "text/plain": [
       "[('Name-In-The-Id: Antonio Watson', 'Ronald Fleming'),\n",
       " (\"mother's full name: Amber Rush\", 'Brittany Bryant'),\n",
       " ('CandidateFullName: Luis Brown', 'Matthew Crane'),\n",
       " ('NAMEONTHECARD: Christine Kelly', 'Katrina Jensen'),\n",
       " ('student-full-name: Gabriel Cross', 'Kenneth Smith'),\n",
       " ('PARENT_FULL_NAME: Rhonda Ashley', 'Nancy Golden'),\n",
       " ('NameInTheId: Erik Hanson', 'Nicholas Mills'),\n",
       " ('nameInTheId: Emily Paul', 'Jillian Parrish'),\n",
       " ('recipientFullName: David Taylor', 'Kevin Hines'),\n",
       " ('nameintheid: Sabrina Bradshaw', 'Jennifer Li'),\n",
       " ('Recipient-Full-Name: Chris Clark', 'Robert Williams'),\n",
       " (\"Mother'S_Full_Name: Danielle Morris DDS\", 'Angela Hayes'),\n",
       " ('FullName: Marcus Wilson', 'John Martinez'),\n",
       " (\"father's_full_name: Kelsey Erickson\", 'Rose Hawkins'),\n",
       " ('RECIPIENT FULL NAME: Chad Marshall', 'James Humphrey'),\n",
       " ('full-name: Lori Martinez', 'Jane Drake'),\n",
       " ('full-name: Charles Joyce', 'Joseph Mccormick'),\n",
       " ('StudentFullName: Vickie Roberts', 'Sheri Phillips'),\n",
       " (\"father'sfullname: Michael Sexton\", 'Michael Cunningham'),\n",
       " ('employee full name: Heather George', 'Amy Morrison')]"
      ]
     },
     "execution_count": 10,
     "metadata": {},
     "output_type": "execute_result"
    }
   ],
   "source": [
    "list(zip(input, output))[:20]"
   ]
  },
  {
   "cell_type": "code",
   "execution_count": 11,
   "metadata": {},
   "outputs": [],
   "source": [
    "import pandas as pd\n",
    "res = pd.DataFrame(columns=['input_entity', 'output_entity'])"
   ]
  },
  {
   "cell_type": "code",
   "execution_count": 12,
   "metadata": {},
   "outputs": [],
   "source": [
    "res['input_entity'] = input\n",
    "res['output_entity'] = output"
   ]
  },
  {
   "cell_type": "code",
   "execution_count": 13,
   "metadata": {},
   "outputs": [
    {
     "data": {
      "text/plain": [
       "5400"
      ]
     },
     "execution_count": 13,
     "metadata": {},
     "output_type": "execute_result"
    }
   ],
   "source": [
    "len(res)"
   ]
  },
  {
   "cell_type": "code",
   "execution_count": 14,
   "metadata": {},
   "outputs": [],
   "source": [
    "res.to_csv('FullName_data.csv', index=False)"
   ]
  },
  {
   "cell_type": "code",
   "execution_count": 15,
   "metadata": {},
   "outputs": [
    {
     "data": {
      "text/html": [
       "<div>\n",
       "<style scoped>\n",
       "    .dataframe tbody tr th:only-of-type {\n",
       "        vertical-align: middle;\n",
       "    }\n",
       "\n",
       "    .dataframe tbody tr th {\n",
       "        vertical-align: top;\n",
       "    }\n",
       "\n",
       "    .dataframe thead th {\n",
       "        text-align: right;\n",
       "    }\n",
       "</style>\n",
       "<table border=\"1\" class=\"dataframe\">\n",
       "  <thead>\n",
       "    <tr style=\"text-align: right;\">\n",
       "      <th></th>\n",
       "      <th>input_entity</th>\n",
       "      <th>output_entity</th>\n",
       "    </tr>\n",
       "  </thead>\n",
       "  <tbody>\n",
       "    <tr>\n",
       "      <th>0</th>\n",
       "      <td>Name-In-The-Id: Antonio Watson</td>\n",
       "      <td>Ronald Fleming</td>\n",
       "    </tr>\n",
       "    <tr>\n",
       "      <th>1</th>\n",
       "      <td>mother's full name: Amber Rush</td>\n",
       "      <td>Brittany Bryant</td>\n",
       "    </tr>\n",
       "    <tr>\n",
       "      <th>2</th>\n",
       "      <td>CandidateFullName: Luis Brown</td>\n",
       "      <td>Matthew Crane</td>\n",
       "    </tr>\n",
       "    <tr>\n",
       "      <th>3</th>\n",
       "      <td>NAMEONTHECARD: Christine Kelly</td>\n",
       "      <td>Katrina Jensen</td>\n",
       "    </tr>\n",
       "    <tr>\n",
       "      <th>4</th>\n",
       "      <td>student-full-name: Gabriel Cross</td>\n",
       "      <td>Kenneth Smith</td>\n",
       "    </tr>\n",
       "    <tr>\n",
       "      <th>...</th>\n",
       "      <td>...</td>\n",
       "      <td>...</td>\n",
       "    </tr>\n",
       "    <tr>\n",
       "      <th>5395</th>\n",
       "      <td>full name: Sharon Mayer</td>\n",
       "      <td>Rebecca Hall</td>\n",
       "    </tr>\n",
       "    <tr>\n",
       "      <th>5396</th>\n",
       "      <td>candidatefullname: Benjamin Jackson</td>\n",
       "      <td>Joseph Wilson</td>\n",
       "    </tr>\n",
       "    <tr>\n",
       "      <th>5397</th>\n",
       "      <td>contestant full name: Lauren Oconnor</td>\n",
       "      <td>Theresa Henry</td>\n",
       "    </tr>\n",
       "    <tr>\n",
       "      <th>5398</th>\n",
       "      <td>full_name: Aaron Andrade</td>\n",
       "      <td>Roy Washington</td>\n",
       "    </tr>\n",
       "    <tr>\n",
       "      <th>5399</th>\n",
       "      <td>RECIPIENT_FULL_NAME: Katie Moran</td>\n",
       "      <td>Felicia Moses</td>\n",
       "    </tr>\n",
       "  </tbody>\n",
       "</table>\n",
       "<p>5400 rows × 2 columns</p>\n",
       "</div>"
      ],
      "text/plain": [
       "                              input_entity    output_entity\n",
       "0           Name-In-The-Id: Antonio Watson   Ronald Fleming\n",
       "1           mother's full name: Amber Rush  Brittany Bryant\n",
       "2            CandidateFullName: Luis Brown    Matthew Crane\n",
       "3           NAMEONTHECARD: Christine Kelly   Katrina Jensen\n",
       "4         student-full-name: Gabriel Cross    Kenneth Smith\n",
       "...                                    ...              ...\n",
       "5395               full name: Sharon Mayer     Rebecca Hall\n",
       "5396   candidatefullname: Benjamin Jackson    Joseph Wilson\n",
       "5397  contestant full name: Lauren Oconnor    Theresa Henry\n",
       "5398              full_name: Aaron Andrade   Roy Washington\n",
       "5399      RECIPIENT_FULL_NAME: Katie Moran    Felicia Moses\n",
       "\n",
       "[5400 rows x 2 columns]"
      ]
     },
     "execution_count": 15,
     "metadata": {},
     "output_type": "execute_result"
    }
   ],
   "source": [
    "res"
   ]
  },
  {
   "cell_type": "code",
   "execution_count": null,
   "metadata": {},
   "outputs": [],
   "source": []
  }
 ],
 "metadata": {
  "kernelspec": {
   "display_name": "Python 3.8.13 ('reticle')",
   "language": "python",
   "name": "python3"
  },
  "language_info": {
   "codemirror_mode": {
    "name": "ipython",
    "version": 3
   },
   "file_extension": ".py",
   "mimetype": "text/x-python",
   "name": "python",
   "nbconvert_exporter": "python",
   "pygments_lexer": "ipython3",
   "version": "3.8.13"
  },
  "orig_nbformat": 4,
  "vscode": {
   "interpreter": {
    "hash": "09ec2db156a7209681ea734e4f7b85e602c6e683f9c0304fe8b6394a4a1b5475"
   }
  }
 },
 "nbformat": 4,
 "nbformat_minor": 2
}
