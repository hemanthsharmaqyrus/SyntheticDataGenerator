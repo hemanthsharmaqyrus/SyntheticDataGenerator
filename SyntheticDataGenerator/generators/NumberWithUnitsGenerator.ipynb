{
 "cells": [
  {
   "cell_type": "code",
   "execution_count": 2,
   "metadata": {},
   "outputs": [],
   "source": [
    "from faker import Faker\n",
    "import random\n",
    "from generatorUtils import LabelTransformations\n",
    "from quantities import units\n",
    "from collections import defaultdict"
   ]
  },
  {
   "cell_type": "code",
   "execution_count": null,
   "metadata": {},
   "outputs": [],
   "source": []
  },
  {
   "cell_type": "code",
   "execution_count": 6,
   "metadata": {},
   "outputs": [],
   "source": [
    "class NumberWithUnitsGenerator:\n",
    "    def __init__(self, num_of_samples):\n",
    "        self.num_of_samples = num_of_samples\n",
    "        self.labelTransformations = LabelTransformations()\n",
    "        self.f = Faker()\n",
    "\n",
    "        self.label_to_units_dict = defaultdict()\n",
    "        for _, u in units.__dict__.items():\n",
    "            if isinstance(u, type(units.deg)):\n",
    "                self.label_to_units_dict[u.name] = u.symbol\n",
    "\n",
    "    def generate_decimal(self, length):\n",
    "\n",
    "        \n",
    "        start = eval(''.join(['0' for i in range(length)]))\n",
    "        end = eval(''.join(['9' for i in range(length)]))\n",
    "        start = eval('1' + str(start))\n",
    "        end = eval('9' + str(end))\n",
    "        \n",
    "        return str(float(random.uniform(a=start, b=end))/10)\n",
    "\n",
    "    def generate_decimal_pair(self, length):\n",
    "\n",
    "        start_number = str(random.randint(0,9))\n",
    "        start = eval('1' + ''.join(['0' for i in range(length-1)]))\n",
    "        end = eval('9' + ''.join(['9' for i in range(length-1)]))\n",
    "        \n",
    "        return start_number + \"{:.2f}\".format(random.uniform(start, end)), start_number + \"{:.2f}\".format(random.uniform(start, end))\n",
    "\n",
    "    def generate_int_pair(self, length):\n",
    "\n",
    "        start_number = str(random.randint(0,9))\n",
    "        start = eval('1' + ''.join(['0' for i in range(length-1)]))\n",
    "        end = eval('9' + ''.join(['9' for i in range(length-1)]))\n",
    "        \n",
    "        return start_number + str(int(random.uniform(start, end))), start_number + str(int(random.uniform(start, end)))\n",
    "\n",
    "    def generate_int(self, length):\n",
    "        start = eval(''.join(['1' for i in range(length)]))\n",
    "        end = eval(''.join(['9' for i in range(length)]))\n",
    "        start = eval('1' + str(start))\n",
    "        end = eval('9' + str(end))\n",
    "        \n",
    "        return str(int(float(random.randrange(start, end))/10))\n",
    "\n",
    "    def generateNumbersWithUnits(self):\n",
    "        \n",
    "\n",
    "        inputs = []\n",
    "        outputs = []\n",
    "\n",
    "        \n",
    "            \n",
    "        for i in range(self.num_of_samples):\n",
    "            \n",
    "\n",
    "            for label, unit in self.label_to_units_dict.items():\n",
    "                for length in range(1,5):\n",
    "                    inp, out = self.generate_decimal_pair(length)\n",
    "                    inputs.append(label+ ': ' + inp + ' ' + unit)\n",
    "                    outputs.append(out + ' ' + unit)\n",
    "\n",
    "                    inp, out = self.generate_int_pair(length)\n",
    "                    inputs.append(label+ ': ' + inp + ' ' + unit)\n",
    "                    outputs.append(out + ' ' + unit)\n",
    "            \n",
    "\n",
    "\n",
    "\n",
    "        return inputs, outputs"
   ]
  },
  {
   "cell_type": "code",
   "execution_count": 7,
   "metadata": {},
   "outputs": [],
   "source": [
    "numberWithUnitsGenerator = NumberWithUnitsGenerator(num_of_samples=30)"
   ]
  },
  {
   "cell_type": "code",
   "execution_count": 8,
   "metadata": {},
   "outputs": [],
   "source": [
    "input, output = numberWithUnitsGenerator.generateNumbersWithUnits()"
   ]
  },
  {
   "cell_type": "code",
   "execution_count": 9,
   "metadata": {},
   "outputs": [
    {
     "data": {
      "text/plain": [
       "[('standard_gravity: 56.27 g_0', '54.03 g_0'),\n",
       " ('standard_gravity: 95 g_0', '97 g_0'),\n",
       " ('standard_gravity: 817.43 g_0', '835.13 g_0'),\n",
       " ('standard_gravity: 866 g_0', '875 g_0'),\n",
       " ('standard_gravity: 3376.31 g_0', '3644.44 g_0'),\n",
       " ('standard_gravity: 0814 g_0', '0677 g_0'),\n",
       " ('standard_gravity: 77438.19 g_0', '74880.70 g_0'),\n",
       " ('standard_gravity: 12311 g_0', '12119 g_0'),\n",
       " ('dimensionless: 94.36 dimensionless', '91.93 dimensionless'),\n",
       " ('dimensionless: 65 dimensionless', '61 dimensionless'),\n",
       " ('dimensionless: 450.74 dimensionless', '478.59 dimensionless'),\n",
       " ('dimensionless: 717 dimensionless', '785 dimensionless'),\n",
       " ('dimensionless: 4813.83 dimensionless', '4928.55 dimensionless'),\n",
       " ('dimensionless: 0973 dimensionless', '0504 dimensionless'),\n",
       " ('dimensionless: 22233.73 dimensionless', '21905.02 dimensionless'),\n",
       " ('dimensionless: 97999 dimensionless', '98853 dimensionless'),\n",
       " ('radian: 55.41 rad', '58.41 rad'),\n",
       " ('radian: 63 rad', '66 rad'),\n",
       " ('radian: 964.39 rad', '968.03 rad'),\n",
       " ('radian: 926 rad', '965 rad')]"
      ]
     },
     "execution_count": 9,
     "metadata": {},
     "output_type": "execute_result"
    }
   ],
   "source": [
    "list(zip(input, output))[:20]"
   ]
  },
  {
   "cell_type": "code",
   "execution_count": 10,
   "metadata": {},
   "outputs": [],
   "source": [
    "import pandas as pd\n",
    "res = pd.DataFrame(columns=['input_entity', 'output_entity'])"
   ]
  },
  {
   "cell_type": "code",
   "execution_count": 11,
   "metadata": {},
   "outputs": [],
   "source": [
    "res['input_entity'] = input\n",
    "res['output_entity'] = output"
   ]
  },
  {
   "cell_type": "code",
   "execution_count": 12,
   "metadata": {},
   "outputs": [],
   "source": [
    "res.to_csv('numberWithUnitsData_data.csv', index=False)"
   ]
  },
  {
   "cell_type": "code",
   "execution_count": 13,
   "metadata": {},
   "outputs": [
    {
     "data": {
      "text/plain": [
       "77280"
      ]
     },
     "execution_count": 13,
     "metadata": {},
     "output_type": "execute_result"
    }
   ],
   "source": [
    "len(res)"
   ]
  },
  {
   "cell_type": "code",
   "execution_count": null,
   "metadata": {},
   "outputs": [],
   "source": []
  },
  {
   "cell_type": "code",
   "execution_count": null,
   "metadata": {},
   "outputs": [],
   "source": []
  },
  {
   "cell_type": "code",
   "execution_count": null,
   "metadata": {},
   "outputs": [],
   "source": []
  },
  {
   "cell_type": "code",
   "execution_count": null,
   "metadata": {},
   "outputs": [],
   "source": []
  }
 ],
 "metadata": {
  "kernelspec": {
   "display_name": "Python 3.8.13 ('reticle')",
   "language": "python",
   "name": "python3"
  },
  "language_info": {
   "codemirror_mode": {
    "name": "ipython",
    "version": 3
   },
   "file_extension": ".py",
   "mimetype": "text/x-python",
   "name": "python",
   "nbconvert_exporter": "python",
   "pygments_lexer": "ipython3",
   "version": "3.8.13"
  },
  "orig_nbformat": 4,
  "vscode": {
   "interpreter": {
    "hash": "09ec2db156a7209681ea734e4f7b85e602c6e683f9c0304fe8b6394a4a1b5475"
   }
  }
 },
 "nbformat": 4,
 "nbformat_minor": 2
}
