{
 "cells": [
  {
   "cell_type": "code",
   "execution_count": 3,
   "metadata": {},
   "outputs": [],
   "source": [
    "from generatorUtils import LabelTransformations\n",
    "import random\n",
    "from faker import Faker\n",
    "f = Faker()\n",
    "from collections import Counter\n"
   ]
  },
  {
   "cell_type": "code",
   "execution_count": 27,
   "metadata": {},
   "outputs": [],
   "source": [
    "labels = ['exchange rate', 'exchange percentage', 'exchange %', 'exchange percent',\\\n",
    "            'rate of exchange', \n",
    "            'growth rate', 'growth percentage', 'growth %', \n",
    "            'birth rate', 'birth percentage', 'birth rate %', 'death rate', 'employment rate']"
   ]
  },
  {
   "cell_type": "code",
   "execution_count": 28,
   "metadata": {},
   "outputs": [],
   "source": [
    "class PercentageGenerator:\n",
    "    def __init__(self, num_of_samples):\n",
    "        self.labelTransformations = LabelTransformations()\n",
    "        self.num_of_samples = num_of_samples\n",
    "        self.f = Faker()\n",
    "\n",
    "    def generatePercentages(self, labels):\n",
    "        labels = list(set(self.labelTransformations(labels)))\n",
    "        input_list = []\n",
    "        output_list = []\n",
    "\n",
    "        for i in range(self.num_of_samples):\n",
    "            input_list, output_list = self.generatePercentage(labels, input_list, output_list, 0.001, 10)\n",
    "            input_list, output_list = self.generatePercentage(labels, input_list, output_list, 10, 20)\n",
    "            input_list, output_list = self.generatePercentage(labels, input_list, output_list, 20, 30)\n",
    "            input_list, output_list = self.generatePercentage(labels, input_list, output_list, 30, 40)\n",
    "            input_list, output_list = self.generatePercentage(labels, input_list, output_list, 40, 50)\n",
    "            input_list, output_list = self.generatePercentage(labels, input_list, output_list, 50, 60)\n",
    "            input_list, output_list = self.generatePercentage(labels, input_list, output_list, 60, 70)\n",
    "            input_list, output_list = self.generatePercentage(labels, input_list, output_list, 70, 80)\n",
    "            input_list, output_list = self.generatePercentage(labels, input_list, output_list, 80, 90)\n",
    "            input_list, output_list = self.generatePercentage(labels, input_list, output_list, 90, 100)\n",
    "        return input_list, output_list\n",
    "    def generatePercentage(self, labels, input_list, output_list, min_, max_):\n",
    "        '''without % symbol'''\n",
    "        label = random.choice(labels)\n",
    "\n",
    "        input_interest_rate = \"{:.2f}\".format(random.uniform(min_, max_))\n",
    "        output_interest_rate = \"{:.2f}\".format(random.uniform(min_, max_))\n",
    "\n",
    "        input_list.append(label + ': ' + input_interest_rate)\n",
    "        output_list.append(output_interest_rate)\n",
    "\n",
    "        '''with % symbol'''\n",
    "        label = random.choice(labels)\n",
    "        space_flag = random.choice([0,1])\n",
    "        input_interest_rate = \"{:.2f}\".format(random.uniform(min_, max_))\n",
    "        if space_flag:\n",
    "            input_interest_rate = input_interest_rate + ' %'\n",
    "        else:\n",
    "            input_interest_rate = input_interest_rate + '%'\n",
    "\n",
    "        output_interest_rate = \"{:.2f}\".format(random.uniform(min_, max_))\n",
    "        if space_flag:\n",
    "            output_interest_rate = output_interest_rate + ' %'\n",
    "        else:\n",
    "            output_interest_rate = output_interest_rate + '%'\n",
    "\n",
    "\n",
    "        input_list.append(label + ': ' + input_interest_rate)\n",
    "        output_list.append(output_interest_rate)\n",
    "\n",
    "        return input_list, output_list\n",
    "\n",
    "            \n",
    "\n",
    "            \n"
   ]
  },
  {
   "cell_type": "code",
   "execution_count": 29,
   "metadata": {},
   "outputs": [],
   "source": [
    "percentageGenerator = PercentageGenerator(num_of_samples=300)"
   ]
  },
  {
   "cell_type": "code",
   "execution_count": 30,
   "metadata": {},
   "outputs": [],
   "source": [
    "input, output = percentageGenerator.generatePercentages(labels)"
   ]
  },
  {
   "cell_type": "code",
   "execution_count": 31,
   "metadata": {},
   "outputs": [
    {
     "data": {
      "text/plain": [
       "[('rateofexchange: 0.82', '2.16'),\n",
       " ('birthPercentage: 7.58 %', '9.42 %'),\n",
       " ('birth_percentage: 12.97', '19.76'),\n",
       " ('Death_Rate: 17.29 %', '10.85 %'),\n",
       " ('growth-%: 22.63', '20.74'),\n",
       " ('birth rate %: 21.47%', '27.91%'),\n",
       " ('GROWTH-PERCENTAGE: 33.47', '37.52'),\n",
       " ('Death_Rate: 35.95 %', '38.13 %'),\n",
       " ('rate of exchange: 42.33', '42.78'),\n",
       " ('growth_percentage: 45.08%', '47.99%'),\n",
       " ('EMPLOYMENT RATE: 51.27', '53.67'),\n",
       " ('Growth Percentage: 52.08 %', '56.57 %'),\n",
       " ('exchangepercentage: 61.21', '65.55'),\n",
       " ('growthpercentage: 68.43%', '65.51%'),\n",
       " ('GROWTHPERCENTAGE: 71.28', '79.42'),\n",
       " ('EXCHANGE_PERCENT: 71.15%', '73.24%'),\n",
       " ('BIRTHPERCENTAGE: 86.46', '81.40'),\n",
       " ('Death Rate: 86.05%', '82.58%'),\n",
       " ('ExchangeRate: 92.27', '96.53'),\n",
       " ('GROWTH-PERCENTAGE: 96.23%', '93.62%')]"
      ]
     },
     "execution_count": 31,
     "metadata": {},
     "output_type": "execute_result"
    }
   ],
   "source": [
    "list(zip(input, output))[:20]"
   ]
  },
  {
   "cell_type": "code",
   "execution_count": 32,
   "metadata": {},
   "outputs": [],
   "source": [
    "import pandas as pd\n",
    "res = pd.DataFrame(columns=['input_entity', 'output_entity'])"
   ]
  },
  {
   "cell_type": "code",
   "execution_count": 33,
   "metadata": {},
   "outputs": [],
   "source": [
    "res['input_entity'] = input\n",
    "res['output_entity'] = output"
   ]
  },
  {
   "cell_type": "code",
   "execution_count": 34,
   "metadata": {},
   "outputs": [
    {
     "data": {
      "text/plain": [
       "6000"
      ]
     },
     "execution_count": 34,
     "metadata": {},
     "output_type": "execute_result"
    }
   ],
   "source": [
    "len(res)"
   ]
  },
  {
   "cell_type": "code",
   "execution_count": 35,
   "metadata": {},
   "outputs": [
    {
     "data": {
      "text/html": [
       "<div>\n",
       "<style scoped>\n",
       "    .dataframe tbody tr th:only-of-type {\n",
       "        vertical-align: middle;\n",
       "    }\n",
       "\n",
       "    .dataframe tbody tr th {\n",
       "        vertical-align: top;\n",
       "    }\n",
       "\n",
       "    .dataframe thead th {\n",
       "        text-align: right;\n",
       "    }\n",
       "</style>\n",
       "<table border=\"1\" class=\"dataframe\">\n",
       "  <thead>\n",
       "    <tr style=\"text-align: right;\">\n",
       "      <th></th>\n",
       "      <th>input_entity</th>\n",
       "      <th>output_entity</th>\n",
       "    </tr>\n",
       "  </thead>\n",
       "  <tbody>\n",
       "    <tr>\n",
       "      <th>0</th>\n",
       "      <td>rateofexchange: 0.82</td>\n",
       "      <td>2.16</td>\n",
       "    </tr>\n",
       "    <tr>\n",
       "      <th>1</th>\n",
       "      <td>birthPercentage: 7.58 %</td>\n",
       "      <td>9.42 %</td>\n",
       "    </tr>\n",
       "    <tr>\n",
       "      <th>2</th>\n",
       "      <td>birth_percentage: 12.97</td>\n",
       "      <td>19.76</td>\n",
       "    </tr>\n",
       "    <tr>\n",
       "      <th>3</th>\n",
       "      <td>Death_Rate: 17.29 %</td>\n",
       "      <td>10.85 %</td>\n",
       "    </tr>\n",
       "    <tr>\n",
       "      <th>4</th>\n",
       "      <td>growth-%: 22.63</td>\n",
       "      <td>20.74</td>\n",
       "    </tr>\n",
       "    <tr>\n",
       "      <th>...</th>\n",
       "      <td>...</td>\n",
       "      <td>...</td>\n",
       "    </tr>\n",
       "    <tr>\n",
       "      <th>5995</th>\n",
       "      <td>birth-rate-%: 72.74%</td>\n",
       "      <td>76.86%</td>\n",
       "    </tr>\n",
       "    <tr>\n",
       "      <th>5996</th>\n",
       "      <td>GROWTHRATE: 84.42</td>\n",
       "      <td>84.38</td>\n",
       "    </tr>\n",
       "    <tr>\n",
       "      <th>5997</th>\n",
       "      <td>rate of exchange: 86.88 %</td>\n",
       "      <td>83.72 %</td>\n",
       "    </tr>\n",
       "    <tr>\n",
       "      <th>5998</th>\n",
       "      <td>Growth-%: 99.28</td>\n",
       "      <td>97.97</td>\n",
       "    </tr>\n",
       "    <tr>\n",
       "      <th>5999</th>\n",
       "      <td>GrowthPercentage: 98.87%</td>\n",
       "      <td>94.50%</td>\n",
       "    </tr>\n",
       "  </tbody>\n",
       "</table>\n",
       "<p>6000 rows × 2 columns</p>\n",
       "</div>"
      ],
      "text/plain": [
       "                   input_entity output_entity\n",
       "0          rateofexchange: 0.82          2.16\n",
       "1       birthPercentage: 7.58 %        9.42 %\n",
       "2       birth_percentage: 12.97         19.76\n",
       "3           Death_Rate: 17.29 %       10.85 %\n",
       "4               growth-%: 22.63         20.74\n",
       "...                         ...           ...\n",
       "5995       birth-rate-%: 72.74%        76.86%\n",
       "5996          GROWTHRATE: 84.42         84.38\n",
       "5997  rate of exchange: 86.88 %       83.72 %\n",
       "5998            Growth-%: 99.28         97.97\n",
       "5999   GrowthPercentage: 98.87%        94.50%\n",
       "\n",
       "[6000 rows x 2 columns]"
      ]
     },
     "execution_count": 35,
     "metadata": {},
     "output_type": "execute_result"
    }
   ],
   "source": [
    "res"
   ]
  },
  {
   "cell_type": "code",
   "execution_count": null,
   "metadata": {},
   "outputs": [],
   "source": []
  }
 ],
 "metadata": {
  "kernelspec": {
   "display_name": "Python 3.8.13 ('reticle')",
   "language": "python",
   "name": "python3"
  },
  "language_info": {
   "codemirror_mode": {
    "name": "ipython",
    "version": 3
   },
   "file_extension": ".py",
   "mimetype": "text/x-python",
   "name": "python",
   "nbconvert_exporter": "python",
   "pygments_lexer": "ipython3",
   "version": "3.8.13"
  },
  "orig_nbformat": 4,
  "vscode": {
   "interpreter": {
    "hash": "09ec2db156a7209681ea734e4f7b85e602c6e683f9c0304fe8b6394a4a1b5475"
   }
  }
 },
 "nbformat": 4,
 "nbformat_minor": 2
}
