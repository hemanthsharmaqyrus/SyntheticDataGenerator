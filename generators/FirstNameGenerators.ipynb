{
 "cells": [
  {
   "cell_type": "code",
   "execution_count": 1,
   "metadata": {},
   "outputs": [],
   "source": [
    "from generatorUtils import LabelTransformations\n",
    "import random\n",
    "from faker import Faker\n",
    "f = Faker()\n",
    "from collections import Counter\n"
   ]
  },
  {
   "cell_type": "code",
   "execution_count": 7,
   "metadata": {},
   "outputs": [],
   "source": [
    "labels = ['first name', 'employee first name', 'candidate first name', \n",
    "'Contestant first name', '1st name', 'parent first name', \n",
    "\"Father's first name\", \"Mother's first name\",\n",
    "\"recipient first name\", \"student first name\"]"
   ]
  },
  {
   "cell_type": "code",
   "execution_count": 8,
   "metadata": {},
   "outputs": [],
   "source": [
    "class FirstNameGenerators:\n",
    "    def __init__(self, num_of_samples):\n",
    "        self.labelTransformations = LabelTransformations()\n",
    "        self.num_of_samples = num_of_samples\n",
    "        \n",
    "\n",
    "        self.locales = ['en_AU', 'en_CA', 'en_GB', 'en_IE', 'en_IN', 'en_NZ', 'en_PH', 'en_TH', 'en_US']\n",
    "\n",
    "    def generateFirstNames(self, labels):\n",
    "        labels = list(set(self.labelTransformations(labels)))\n",
    "        input_list = []\n",
    "        output_list = []\n",
    "\n",
    "        for locale in self.locales:\n",
    "            self.f = Faker(locale=locale)\n",
    "\n",
    "            for i in range(self.num_of_samples):\n",
    "                label = random.choice(labels)\n",
    "                input_first_name = self.f.first_name()\n",
    "                output_first_name = self.f.first_name()\n",
    "                input_list.append(label + ': ' + input_first_name)\n",
    "                output_list.append(output_first_name)\n",
    "        return input_list, output_list\n",
    "\n",
    "\n",
    "            "
   ]
  },
  {
   "cell_type": "code",
   "execution_count": 9,
   "metadata": {},
   "outputs": [],
   "source": [
    "firstNameGenerators = FirstNameGenerators(num_of_samples=300)"
   ]
  },
  {
   "cell_type": "code",
   "execution_count": 11,
   "metadata": {},
   "outputs": [],
   "source": [
    "input, output = firstNameGenerators.generateFirstNames(labels)"
   ]
  },
  {
   "cell_type": "code",
   "execution_count": 22,
   "metadata": {},
   "outputs": [
    {
     "data": {
      "text/plain": [
       "[('FIRST NAME: Dawn', 'Regina'),\n",
       " ('1St Name: Cheryl', 'Penny'),\n",
       " ('first_name: Crystal', 'Crystal'),\n",
       " ('parentfirstname: Sharon', 'Ronald'),\n",
       " (\"Father'SFirstName: Jaclyn\", 'Ann'),\n",
       " ('CONTESTANTFIRSTNAME: Christopher', 'James'),\n",
       " ('CandidateFirstName: Robin', 'Michelle'),\n",
       " (\"father's-first-name: William\", 'Tyler'),\n",
       " ('EMPLOYEEFIRSTNAME: Tabitha', 'Richard'),\n",
       " ('PARENT-FIRST-NAME: Courtney', 'Andrea'),\n",
       " (\"Father'S First Name: Emily\", 'Richard'),\n",
       " ('recipient first name: Kenneth', 'Angela'),\n",
       " (\"father's first name: Lisa\", 'Corey'),\n",
       " ('STUDENT_FIRST_NAME: Ryan', 'Justin'),\n",
       " ('1St_Name: Marcia', 'Gary'),\n",
       " ('CANDIDATEFIRSTNAME: Leah', 'Kelly'),\n",
       " ('Recipient-First-Name: Cody', 'Roberto'),\n",
       " ('RECIPIENT-FIRST-NAME: Matthew', 'Troy'),\n",
       " ('Employee_First_Name: Hannah', 'Ryan'),\n",
       " ('1ST NAME: Louis', 'Kayla')]"
      ]
     },
     "execution_count": 22,
     "metadata": {},
     "output_type": "execute_result"
    }
   ],
   "source": [
    "list(zip(input, output))[:20]"
   ]
  },
  {
   "cell_type": "code",
   "execution_count": 23,
   "metadata": {},
   "outputs": [],
   "source": [
    "import pandas as pd\n",
    "res = pd.DataFrame(columns=['input_entity', 'output_entity'])"
   ]
  },
  {
   "cell_type": "code",
   "execution_count": 24,
   "metadata": {},
   "outputs": [],
   "source": [
    "res['input_entity'] = input\n",
    "res['output_entity'] = output"
   ]
  },
  {
   "cell_type": "code",
   "execution_count": 25,
   "metadata": {},
   "outputs": [
    {
     "data": {
      "text/plain": [
       "2700"
      ]
     },
     "execution_count": 25,
     "metadata": {},
     "output_type": "execute_result"
    }
   ],
   "source": [
    "len(res)"
   ]
  },
  {
   "cell_type": "code",
   "execution_count": 26,
   "metadata": {},
   "outputs": [],
   "source": [
    "res.to_csv('FirstName_data.csv', index=False)"
   ]
  },
  {
   "cell_type": "code",
   "execution_count": null,
   "metadata": {},
   "outputs": [],
   "source": []
  },
  {
   "cell_type": "code",
   "execution_count": null,
   "metadata": {},
   "outputs": [],
   "source": []
  }
 ],
 "metadata": {
  "kernelspec": {
   "display_name": "Python 3.8.13 ('reticle')",
   "language": "python",
   "name": "python3"
  },
  "language_info": {
   "codemirror_mode": {
    "name": "ipython",
    "version": 3
   },
   "file_extension": ".py",
   "mimetype": "text/x-python",
   "name": "python",
   "nbconvert_exporter": "python",
   "pygments_lexer": "ipython3",
   "version": "3.8.13"
  },
  "orig_nbformat": 4,
  "vscode": {
   "interpreter": {
    "hash": "09ec2db156a7209681ea734e4f7b85e602c6e683f9c0304fe8b6394a4a1b5475"
   }
  }
 },
 "nbformat": 4,
 "nbformat_minor": 2
}
