{
 "cells": [
  {
   "cell_type": "code",
   "execution_count": 1,
   "metadata": {},
   "outputs": [],
   "source": [
    "from generatorUtils import LabelTransformations\n",
    "import random\n",
    "from faker import Faker\n",
    "f = Faker()\n",
    "from collections import Counter\n"
   ]
  },
  {
   "cell_type": "code",
   "execution_count": 2,
   "metadata": {},
   "outputs": [],
   "source": [
    "labels = ['CVV', 'OTP', 'MPIN', 'PIN', 'secret number', 'secret code']"
   ]
  },
  {
   "cell_type": "code",
   "execution_count": 4,
   "metadata": {},
   "outputs": [],
   "source": [
    "class PINGenerator:\n",
    "    def __init__(self, num_of_samples):\n",
    "        self.labelTransformations = LabelTransformations()\n",
    "        self.num_of_samples = num_of_samples\n",
    "        self.f = Faker()\n",
    "\n",
    "    def generatePINData(self, labels):\n",
    "        labels = list(set(self.labelTransformations(labels)))\n",
    "        input_list = []\n",
    "        output_list = []\n",
    "\n",
    "        for i in range(self.num_of_samples):\n",
    "            input_list, output_list = self.generatePin(labels, input_list, output_list, 4)\n",
    "            input_list, output_list = self.generatePin(labels, input_list, output_list, 5)\n",
    "            input_list, output_list = self.generatePin(labels, input_list, output_list, 6)\n",
    "            input_list, output_list = self.generatePin(labels, input_list, output_list, 7)\n",
    "            input_list, output_list = self.generatePin(labels, input_list, output_list, 8)\n",
    "            input_list, output_list = self.generatePin(labels, input_list, output_list, 9)\n",
    "            input_list, output_list = self.generatePin(labels, input_list, output_list, 10)\n",
    "            input_list, output_list = self.generatePin(labels, input_list, output_list, 11)\n",
    "            input_list, output_list = self.generatePin(labels, input_list, output_list, 12)\n",
    "            input_list, output_list = self.generatePin(labels, input_list, output_list, 13)\n",
    "            input_list, output_list = self.generatePin(labels, input_list, output_list, 14)\n",
    "            input_list, output_list = self.generatePin(labels, input_list, output_list, 15)\n",
    "            input_list, output_list = self.generatePin(labels, input_list, output_list, 16)\n",
    "            input_list, output_list = self.generatePin(labels, input_list, output_list, 17)\n",
    "            input_list, output_list = self.generatePin(labels, input_list, output_list, 18)\n",
    "            input_list, output_list = self.generatePin(labels, input_list, output_list, 19)\n",
    "            \n",
    "        return input_list, output_list\n",
    "    def generatePin(self, labels, input_list, output_list, length):\n",
    "        start_number = str(random.randint(a=0, b=9))\n",
    "        label = random.choice(labels)\n",
    "        input_following_random_number = self.generate_random_number(length-1)\n",
    "        output_following_random_number = self.generate_random_number(length-1)\n",
    "        input_pin = start_number + input_following_random_number\n",
    "        output_pin = start_number + output_following_random_number\n",
    "\n",
    "        input_list.append(label + ': ' + input_pin)\n",
    "        output_list.append(output_pin)\n",
    "\n",
    "        return input_list, output_list\n",
    "    def generate_random_number(self, length):\n",
    "        start = eval(''.join(['1'] + ['0' for i in range(1, length-1)]))\n",
    "        end = eval(''.join(['9' for i in range(1, length)]))\n",
    "\n",
    "        start = int(eval('1' + str(start)))\n",
    "        end = int(eval('9' + str(end)))\n",
    "\n",
    "\n",
    "        random_number = str(random.randint(a=start, b=end))\n",
    "        return random_number\n",
    "\n",
    "\n"
   ]
  },
  {
   "cell_type": "code",
   "execution_count": 6,
   "metadata": {},
   "outputs": [],
   "source": [
    "pinGenerator = PINGenerator(num_of_samples=300)"
   ]
  },
  {
   "cell_type": "code",
   "execution_count": 7,
   "metadata": {},
   "outputs": [],
   "source": [
    "input, output = pinGenerator.generatePINData(labels)"
   ]
  },
  {
   "cell_type": "code",
   "execution_count": 8,
   "metadata": {},
   "outputs": [
    {
     "data": {
      "text/plain": [
       "[('secretNumber: 2225', '2971'),\n",
       " ('MPIN: 22306', '24619'),\n",
       " ('secret code: 818881', '824066'),\n",
       " ('mpin: 9407289', '9826528'),\n",
       " ('secret-number: 32200339', '31952673'),\n",
       " ('secretCode: 340933746', '340605708'),\n",
       " ('SecretNumber: 1776173466', '1222259896'),\n",
       " ('secret_code: 56036142009', '51512687196'),\n",
       " ('SECRET_NUMBER: 318400934337', '350118163121'),\n",
       " ('Secret-Number: 1316157001219', '1442571734212'),\n",
       " ('secret-code: 83778939913000', '85754282524180'),\n",
       " ('SECRET_CODE: 181151976075948', '192153545336678'),\n",
       " ('secret-number: 8318329053216220', '8772636572554622'),\n",
       " ('OTP: 84043212895897773', '87887538935610464'),\n",
       " ('secret-number: 791462820576199282', '740554564691804375'),\n",
       " ('Secret-Code: 1315250713939997085', '1806316073011752503'),\n",
       " ('SecretCode: 9561', '9275'),\n",
       " ('SECRETCODE: 57785', '54530'),\n",
       " ('SECRET_CODE: 388489', '355645'),\n",
       " ('SECRETNUMBER: 6967837', '6428370')]"
      ]
     },
     "execution_count": 8,
     "metadata": {},
     "output_type": "execute_result"
    }
   ],
   "source": [
    "list(zip(input, output))[:20]"
   ]
  },
  {
   "cell_type": "code",
   "execution_count": 9,
   "metadata": {},
   "outputs": [],
   "source": [
    "import pandas as pd\n",
    "res = pd.DataFrame(columns=['input_entity', 'output_entity'])"
   ]
  },
  {
   "cell_type": "code",
   "execution_count": 10,
   "metadata": {},
   "outputs": [],
   "source": [
    "res['input_entity'] = input\n",
    "res['output_entity'] = output"
   ]
  },
  {
   "cell_type": "code",
   "execution_count": 11,
   "metadata": {},
   "outputs": [
    {
     "data": {
      "text/plain": [
       "4800"
      ]
     },
     "execution_count": 11,
     "metadata": {},
     "output_type": "execute_result"
    }
   ],
   "source": [
    "len(res)"
   ]
  },
  {
   "cell_type": "code",
   "execution_count": 12,
   "metadata": {},
   "outputs": [],
   "source": [
    "res.to_csv('pin_data.csv', index=False)"
   ]
  },
  {
   "cell_type": "code",
   "execution_count": 13,
   "metadata": {},
   "outputs": [
    {
     "data": {
      "text/html": [
       "<div>\n",
       "<style scoped>\n",
       "    .dataframe tbody tr th:only-of-type {\n",
       "        vertical-align: middle;\n",
       "    }\n",
       "\n",
       "    .dataframe tbody tr th {\n",
       "        vertical-align: top;\n",
       "    }\n",
       "\n",
       "    .dataframe thead th {\n",
       "        text-align: right;\n",
       "    }\n",
       "</style>\n",
       "<table border=\"1\" class=\"dataframe\">\n",
       "  <thead>\n",
       "    <tr style=\"text-align: right;\">\n",
       "      <th></th>\n",
       "      <th>input_entity</th>\n",
       "      <th>output_entity</th>\n",
       "    </tr>\n",
       "  </thead>\n",
       "  <tbody>\n",
       "    <tr>\n",
       "      <th>0</th>\n",
       "      <td>secretNumber: 2225</td>\n",
       "      <td>2971</td>\n",
       "    </tr>\n",
       "    <tr>\n",
       "      <th>1</th>\n",
       "      <td>MPIN: 22306</td>\n",
       "      <td>24619</td>\n",
       "    </tr>\n",
       "    <tr>\n",
       "      <th>2</th>\n",
       "      <td>secret code: 818881</td>\n",
       "      <td>824066</td>\n",
       "    </tr>\n",
       "    <tr>\n",
       "      <th>3</th>\n",
       "      <td>mpin: 9407289</td>\n",
       "      <td>9826528</td>\n",
       "    </tr>\n",
       "    <tr>\n",
       "      <th>4</th>\n",
       "      <td>secret-number: 32200339</td>\n",
       "      <td>31952673</td>\n",
       "    </tr>\n",
       "    <tr>\n",
       "      <th>...</th>\n",
       "      <td>...</td>\n",
       "      <td>...</td>\n",
       "    </tr>\n",
       "    <tr>\n",
       "      <th>4795</th>\n",
       "      <td>SECRET_CODE: 658082687840572</td>\n",
       "      <td>693740711492569</td>\n",
       "    </tr>\n",
       "    <tr>\n",
       "      <th>4796</th>\n",
       "      <td>SECRETNUMBER: 0828006140410356</td>\n",
       "      <td>0588446662465923</td>\n",
       "    </tr>\n",
       "    <tr>\n",
       "      <th>4797</th>\n",
       "      <td>CVV: 75789727446065648</td>\n",
       "      <td>71708660550009104</td>\n",
       "    </tr>\n",
       "    <tr>\n",
       "      <th>4798</th>\n",
       "      <td>secretCode: 933665878623163484</td>\n",
       "      <td>919757371446402463</td>\n",
       "    </tr>\n",
       "    <tr>\n",
       "      <th>4799</th>\n",
       "      <td>Pin: 7737823097241256834</td>\n",
       "      <td>7640205316394816124</td>\n",
       "    </tr>\n",
       "  </tbody>\n",
       "</table>\n",
       "<p>4800 rows × 2 columns</p>\n",
       "</div>"
      ],
      "text/plain": [
       "                        input_entity        output_entity\n",
       "0                 secretNumber: 2225                 2971\n",
       "1                        MPIN: 22306                24619\n",
       "2                secret code: 818881               824066\n",
       "3                      mpin: 9407289              9826528\n",
       "4            secret-number: 32200339             31952673\n",
       "...                              ...                  ...\n",
       "4795    SECRET_CODE: 658082687840572      693740711492569\n",
       "4796  SECRETNUMBER: 0828006140410356     0588446662465923\n",
       "4797          CVV: 75789727446065648    71708660550009104\n",
       "4798  secretCode: 933665878623163484   919757371446402463\n",
       "4799        Pin: 7737823097241256834  7640205316394816124\n",
       "\n",
       "[4800 rows x 2 columns]"
      ]
     },
     "execution_count": 13,
     "metadata": {},
     "output_type": "execute_result"
    }
   ],
   "source": [
    "res"
   ]
  },
  {
   "cell_type": "code",
   "execution_count": null,
   "metadata": {},
   "outputs": [],
   "source": []
  }
 ],
 "metadata": {
  "kernelspec": {
   "display_name": "Python 3.8.13 ('reticle')",
   "language": "python",
   "name": "python3"
  },
  "language_info": {
   "codemirror_mode": {
    "name": "ipython",
    "version": 3
   },
   "file_extension": ".py",
   "mimetype": "text/x-python",
   "name": "python",
   "nbconvert_exporter": "python",
   "pygments_lexer": "ipython3",
   "version": "3.8.13"
  },
  "orig_nbformat": 4,
  "vscode": {
   "interpreter": {
    "hash": "09ec2db156a7209681ea734e4f7b85e602c6e683f9c0304fe8b6394a4a1b5475"
   }
  }
 },
 "nbformat": 4,
 "nbformat_minor": 2
}
