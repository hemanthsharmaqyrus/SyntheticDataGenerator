{
 "cells": [
  {
   "cell_type": "code",
   "execution_count": 1,
   "metadata": {},
   "outputs": [],
   "source": [
    "from generatorUtils import LabelTransformations\n",
    "import random\n",
    "from faker import Faker\n",
    "f = Faker()\n",
    "from collections import Counter\n"
   ]
  },
  {
   "cell_type": "code",
   "execution_count": 2,
   "metadata": {},
   "outputs": [],
   "source": [
    "labels = ['CVV', 'OTP', 'MPIN', 'PIN', 'secret number', 'secret code']"
   ]
  },
  {
   "cell_type": "code",
   "execution_count": 3,
   "metadata": {},
   "outputs": [],
   "source": [
    "class PINGenerator:\n",
    "    def __init__(self, num_of_samples):\n",
    "        self.labelTransformations = LabelTransformations()\n",
    "        self.num_of_samples = num_of_samples\n",
    "        self.f = Faker()\n",
    "\n",
    "    def generatePINData(self, labels):\n",
    "        labels = list(set(self.labelTransformations(labels)))\n",
    "        input_list = []\n",
    "        output_list = []\n",
    "\n",
    "        for i in range(self.num_of_samples):\n",
    "            input_list, output_list = self.generatePin(labels, input_list, output_list, 4)\n",
    "            input_list, output_list = self.generatePin(labels, input_list, output_list, 5)\n",
    "            input_list, output_list = self.generatePin(labels, input_list, output_list, 6)\n",
    "            input_list, output_list = self.generatePin(labels, input_list, output_list, 7)\n",
    "            input_list, output_list = self.generatePin(labels, input_list, output_list, 8)\n",
    "            input_list, output_list = self.generatePin(labels, input_list, output_list, 9)\n",
    "            input_list, output_list = self.generatePin(labels, input_list, output_list, 10)\n",
    "            input_list, output_list = self.generatePin(labels, input_list, output_list, 11)\n",
    "            input_list, output_list = self.generatePin(labels, input_list, output_list, 12)\n",
    "            input_list, output_list = self.generatePin(labels, input_list, output_list, 13)\n",
    "            input_list, output_list = self.generatePin(labels, input_list, output_list, 14)\n",
    "            input_list, output_list = self.generatePin(labels, input_list, output_list, 15)\n",
    "            input_list, output_list = self.generatePin(labels, input_list, output_list, 16)\n",
    "            input_list, output_list = self.generatePin(labels, input_list, output_list, 17)\n",
    "            input_list, output_list = self.generatePin(labels, input_list, output_list, 18)\n",
    "            input_list, output_list = self.generatePin(labels, input_list, output_list, 19)\n",
    "            \n",
    "        return input_list, output_list\n",
    "    def generatePin(self, labels, input_list, output_list, length):\n",
    "        start_number = str(random.randint(a=0, b=9))\n",
    "        label = random.choice(labels)\n",
    "        input_following_random_number = self.generate_random_number(length-1)\n",
    "        output_following_random_number = self.generate_random_number(length-1)\n",
    "        input_pin = start_number + input_following_random_number\n",
    "        output_pin = start_number + output_following_random_number\n",
    "\n",
    "        input_list.append(label + ': ' + input_pin)\n",
    "        output_list.append(output_pin)\n",
    "\n",
    "        return input_list, output_list\n",
    "    def generate_random_number(self, length):\n",
    "        start = eval(''.join(['1'] + ['0' for i in range(1, length-1)]))\n",
    "        end = eval(''.join(['9' for i in range(1, length)]))\n",
    "\n",
    "        start = int(eval('1' + str(start)))\n",
    "        end = int(eval('9' + str(end)))\n",
    "\n",
    "\n",
    "        random_number = str(random.randint(a=start, b=end))\n",
    "        return random_number\n",
    "\n",
    "\n"
   ]
  },
  {
   "cell_type": "code",
   "execution_count": 4,
   "metadata": {},
   "outputs": [],
   "source": [
    "pinGenerator = PINGenerator(num_of_samples=300)"
   ]
  },
  {
   "cell_type": "code",
   "execution_count": 5,
   "metadata": {},
   "outputs": [],
   "source": [
    "input, output = pinGenerator.generatePINData(labels)"
   ]
  },
  {
   "cell_type": "code",
   "execution_count": 6,
   "metadata": {},
   "outputs": [
    {
     "data": {
      "text/plain": [
       "[('SECRET_CODE: 9860', '9461'),\n",
       " ('Secret_Code: 81649', '82322'),\n",
       " ('CVV: 982290', '995925'),\n",
       " ('SECRETCODE: 7408115', '7450769'),\n",
       " ('secretcode: 85596971', '82453030'),\n",
       " ('secret-number: 770919214', '724348435'),\n",
       " ('SECRET-CODE: 0706970275', '0537631740'),\n",
       " ('otp: 88626786446', '83683029560'),\n",
       " ('Mpin: 141148178516', '114342874065'),\n",
       " ('SecretCode: 9383597976450', '9981035198275'),\n",
       " ('SECRETCODE: 87113697085793', '85627889559350'),\n",
       " ('secret-number: 524734899736447', '536432635934202'),\n",
       " ('secretNumber: 4672405652950512', '4767694946705842'),\n",
       " ('Mpin: 72696407116058653', '72330038526335163'),\n",
       " ('SECRET-NUMBER: 880093734824710776', '880848948989051172'),\n",
       " ('CVV: 1150579529759655966', '1759691373612583666'),\n",
       " ('secret_code: 1829', '1804'),\n",
       " ('SECRETNUMBER: 03016', '05940'),\n",
       " ('Otp: 292012', '235677'),\n",
       " ('SECRET-NUMBER: 4914466', '4215378')]"
      ]
     },
     "execution_count": 6,
     "metadata": {},
     "output_type": "execute_result"
    }
   ],
   "source": [
    "list(zip(input, output))[:20]"
   ]
  },
  {
   "cell_type": "code",
   "execution_count": 7,
   "metadata": {},
   "outputs": [],
   "source": [
    "import pandas as pd\n",
    "res = pd.DataFrame(columns=['input_entity', 'output_entity'])"
   ]
  },
  {
   "cell_type": "code",
   "execution_count": 8,
   "metadata": {},
   "outputs": [],
   "source": [
    "res['input_entity'] = input\n",
    "res['output_entity'] = output"
   ]
  },
  {
   "cell_type": "code",
   "execution_count": 9,
   "metadata": {},
   "outputs": [
    {
     "data": {
      "text/plain": [
       "4800"
      ]
     },
     "execution_count": 9,
     "metadata": {},
     "output_type": "execute_result"
    }
   ],
   "source": [
    "len(res)"
   ]
  },
  {
   "cell_type": "code",
   "execution_count": 10,
   "metadata": {},
   "outputs": [],
   "source": [
    "res.to_csv('pin_data.csv', index=False)"
   ]
  },
  {
   "cell_type": "code",
   "execution_count": 11,
   "metadata": {},
   "outputs": [
    {
     "data": {
      "text/html": [
       "<div>\n",
       "<style scoped>\n",
       "    .dataframe tbody tr th:only-of-type {\n",
       "        vertical-align: middle;\n",
       "    }\n",
       "\n",
       "    .dataframe tbody tr th {\n",
       "        vertical-align: top;\n",
       "    }\n",
       "\n",
       "    .dataframe thead th {\n",
       "        text-align: right;\n",
       "    }\n",
       "</style>\n",
       "<table border=\"1\" class=\"dataframe\">\n",
       "  <thead>\n",
       "    <tr style=\"text-align: right;\">\n",
       "      <th></th>\n",
       "      <th>input_entity</th>\n",
       "      <th>output_entity</th>\n",
       "    </tr>\n",
       "  </thead>\n",
       "  <tbody>\n",
       "    <tr>\n",
       "      <th>0</th>\n",
       "      <td>SECRET_CODE: 9860</td>\n",
       "      <td>9461</td>\n",
       "    </tr>\n",
       "    <tr>\n",
       "      <th>1</th>\n",
       "      <td>Secret_Code: 81649</td>\n",
       "      <td>82322</td>\n",
       "    </tr>\n",
       "    <tr>\n",
       "      <th>2</th>\n",
       "      <td>CVV: 982290</td>\n",
       "      <td>995925</td>\n",
       "    </tr>\n",
       "    <tr>\n",
       "      <th>3</th>\n",
       "      <td>SECRETCODE: 7408115</td>\n",
       "      <td>7450769</td>\n",
       "    </tr>\n",
       "    <tr>\n",
       "      <th>4</th>\n",
       "      <td>secretcode: 85596971</td>\n",
       "      <td>82453030</td>\n",
       "    </tr>\n",
       "    <tr>\n",
       "      <th>...</th>\n",
       "      <td>...</td>\n",
       "      <td>...</td>\n",
       "    </tr>\n",
       "    <tr>\n",
       "      <th>4795</th>\n",
       "      <td>Otp: 640002737316391</td>\n",
       "      <td>672154190263665</td>\n",
       "    </tr>\n",
       "    <tr>\n",
       "      <th>4796</th>\n",
       "      <td>secret code: 7903732858860407</td>\n",
       "      <td>7812442660611561</td>\n",
       "    </tr>\n",
       "    <tr>\n",
       "      <th>4797</th>\n",
       "      <td>secret-number: 25593006688795819</td>\n",
       "      <td>22084299833402056</td>\n",
       "    </tr>\n",
       "    <tr>\n",
       "      <th>4798</th>\n",
       "      <td>secretNumber: 695397101108248717</td>\n",
       "      <td>679020326129420054</td>\n",
       "    </tr>\n",
       "    <tr>\n",
       "      <th>4799</th>\n",
       "      <td>Secret Number: 1926482415584369574</td>\n",
       "      <td>1216337526476476311</td>\n",
       "    </tr>\n",
       "  </tbody>\n",
       "</table>\n",
       "<p>4800 rows × 2 columns</p>\n",
       "</div>"
      ],
      "text/plain": [
       "                            input_entity        output_entity\n",
       "0                      SECRET_CODE: 9860                 9461\n",
       "1                     Secret_Code: 81649                82322\n",
       "2                            CVV: 982290               995925\n",
       "3                    SECRETCODE: 7408115              7450769\n",
       "4                   secretcode: 85596971             82453030\n",
       "...                                  ...                  ...\n",
       "4795                Otp: 640002737316391      672154190263665\n",
       "4796       secret code: 7903732858860407     7812442660611561\n",
       "4797    secret-number: 25593006688795819    22084299833402056\n",
       "4798    secretNumber: 695397101108248717   679020326129420054\n",
       "4799  Secret Number: 1926482415584369574  1216337526476476311\n",
       "\n",
       "[4800 rows x 2 columns]"
      ]
     },
     "execution_count": 11,
     "metadata": {},
     "output_type": "execute_result"
    }
   ],
   "source": [
    "res"
   ]
  },
  {
   "cell_type": "code",
   "execution_count": null,
   "metadata": {},
   "outputs": [],
   "source": []
  },
  {
   "cell_type": "code",
   "execution_count": null,
   "metadata": {},
   "outputs": [],
   "source": []
  }
 ],
 "metadata": {
  "kernelspec": {
   "display_name": "Python 3.8.13 ('reticle')",
   "language": "python",
   "name": "python3"
  },
  "language_info": {
   "codemirror_mode": {
    "name": "ipython",
    "version": 3
   },
   "file_extension": ".py",
   "mimetype": "text/x-python",
   "name": "python",
   "nbconvert_exporter": "python",
   "pygments_lexer": "ipython3",
   "version": "3.8.13"
  },
  "orig_nbformat": 4,
  "vscode": {
   "interpreter": {
    "hash": "09ec2db156a7209681ea734e4f7b85e602c6e683f9c0304fe8b6394a4a1b5475"
   }
  }
 },
 "nbformat": 4,
 "nbformat_minor": 2
}
