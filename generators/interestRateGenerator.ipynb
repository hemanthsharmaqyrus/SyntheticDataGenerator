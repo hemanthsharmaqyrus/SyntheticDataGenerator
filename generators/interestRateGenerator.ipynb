{
 "cells": [
  {
   "cell_type": "code",
   "execution_count": 2,
   "metadata": {},
   "outputs": [],
   "source": [
    "from generatorUtils import LabelTransformations\n",
    "import random\n",
    "from faker import Faker\n",
    "f = Faker()\n",
    "from collections import Counter\n"
   ]
  },
  {
   "cell_type": "code",
   "execution_count": 52,
   "metadata": {},
   "outputs": [],
   "source": [
    "labels = ['interest rate', 'interest percentage', 'interest %', \\\n",
    "            'rate of interest', \n",
    "            'loan interest rate', 'loan interest %']"
   ]
  },
  {
   "cell_type": "code",
   "execution_count": 75,
   "metadata": {},
   "outputs": [],
   "source": [
    "class InterestGenerator:\n",
    "    def __init__(self, num_of_samples):\n",
    "        self.labelTransformations = LabelTransformations()\n",
    "        self.num_of_samples = num_of_samples\n",
    "        self.f = Faker()\n",
    "\n",
    "    def generateROI(self, labels):\n",
    "        labels = list(set(self.labelTransformations(labels)))\n",
    "        input_list = []\n",
    "        output_list = []\n",
    "\n",
    "        for i in range(self.num_of_samples):\n",
    "            input_list, output_list = self.generateInterest(labels, input_list, output_list, 0.001, 10)\n",
    "            input_list, output_list = self.generateInterest(labels, input_list, output_list, 10, 20)\n",
    "\n",
    "        return input_list, output_list\n",
    "        \n",
    "    def generateInterest(self, labels, input_list, output_list, min_, max_):\n",
    "        '''without % symbol'''\n",
    "        label = random.choice(labels)\n",
    "\n",
    "        input_interest_rate = \"{:.2f}\".format(random.uniform(min_, max_))\n",
    "        output_interest_rate = \"{:.2f}\".format(random.uniform(min_, max_))\n",
    "\n",
    "        input_list.append(label + ': ' + input_interest_rate)\n",
    "        output_list.append(output_interest_rate)\n",
    "\n",
    "        '''with % symbol'''\n",
    "        label = random.choice(labels)\n",
    "        space_flag = random.choice([0,1])\n",
    "        input_interest_rate = \"{:.2f}\".format(random.uniform(min_, max_))\n",
    "        if space_flag:\n",
    "            input_interest_rate = input_interest_rate + ' %'\n",
    "        else:\n",
    "            input_interest_rate = input_interest_rate + '%'\n",
    "\n",
    "        output_interest_rate = \"{:.2f}\".format(random.uniform(min_, max_))\n",
    "        if space_flag:\n",
    "            output_interest_rate = output_interest_rate + ' %'\n",
    "        else:\n",
    "            output_interest_rate = output_interest_rate + '%'\n",
    "\n",
    "\n",
    "        input_list.append(label + ': ' + input_interest_rate)\n",
    "        output_list.append(output_interest_rate)\n",
    "\n",
    "        return input_list, output_list\n",
    "\n",
    "            \n",
    "\n",
    "            \n"
   ]
  },
  {
   "cell_type": "code",
   "execution_count": 76,
   "metadata": {},
   "outputs": [],
   "source": [
    "interestGenerator = InterestGenerator(num_of_samples=300)"
   ]
  },
  {
   "cell_type": "code",
   "execution_count": 77,
   "metadata": {},
   "outputs": [],
   "source": [
    "input, output = interestGenerator.generateROI(labels)"
   ]
  },
  {
   "cell_type": "code",
   "execution_count": 78,
   "metadata": {},
   "outputs": [
    {
     "data": {
      "text/plain": [
       "[('rate_of_interest: 2.17', '5.39'),\n",
       " ('Loan Interest Rate: 4.51%', '2.29%'),\n",
       " ('loan-interest-rate: 17.62', '13.44'),\n",
       " ('Interest-Percentage: 18.71%', '17.80%'),\n",
       " ('INTERESTRATE: 8.56', '0.30'),\n",
       " ('Loan_Interest_Rate: 3.52%', '2.69%'),\n",
       " ('rate_of_interest: 17.93', '17.08'),\n",
       " ('Interest%: 13.34 %', '16.52 %'),\n",
       " ('interestrate: 1.68', '2.86'),\n",
       " ('LOANINTEREST%: 2.18 %', '2.39 %'),\n",
       " ('Interest %: 19.58', '16.11'),\n",
       " ('interest%: 13.38%', '15.70%'),\n",
       " ('LoanInterestRate: 4.23', '2.79'),\n",
       " ('Rate Of Interest: 5.97%', '8.99%'),\n",
       " ('Loan-Interest-Rate: 18.70', '13.64'),\n",
       " ('interest-%: 13.25 %', '11.89 %'),\n",
       " ('LOAN INTEREST %: 8.60', '3.61'),\n",
       " ('LOAN INTEREST %: 5.22 %', '0.76 %'),\n",
       " ('INTERESTRATE: 13.38', '19.35'),\n",
       " ('Loan-Interest-%: 18.88%', '16.21%')]"
      ]
     },
     "execution_count": 78,
     "metadata": {},
     "output_type": "execute_result"
    }
   ],
   "source": [
    "list(zip(input, output))[:20]"
   ]
  },
  {
   "cell_type": "code",
   "execution_count": 79,
   "metadata": {},
   "outputs": [],
   "source": [
    "import pandas as pd\n",
    "res = pd.DataFrame(columns=['input_entity', 'output_entity'])"
   ]
  },
  {
   "cell_type": "code",
   "execution_count": 80,
   "metadata": {},
   "outputs": [],
   "source": [
    "res['input_entity'] = input\n",
    "res['output_entity'] = output"
   ]
  },
  {
   "cell_type": "code",
   "execution_count": 81,
   "metadata": {},
   "outputs": [
    {
     "data": {
      "text/plain": [
       "1200"
      ]
     },
     "execution_count": 81,
     "metadata": {},
     "output_type": "execute_result"
    }
   ],
   "source": [
    "len(res)"
   ]
  },
  {
   "cell_type": "code",
   "execution_count": 82,
   "metadata": {},
   "outputs": [],
   "source": [
    "res.to_csv('interestRate_data.csv', index=False)"
   ]
  },
  {
   "cell_type": "code",
   "execution_count": 83,
   "metadata": {},
   "outputs": [
    {
     "data": {
      "text/html": [
       "<div>\n",
       "<style scoped>\n",
       "    .dataframe tbody tr th:only-of-type {\n",
       "        vertical-align: middle;\n",
       "    }\n",
       "\n",
       "    .dataframe tbody tr th {\n",
       "        vertical-align: top;\n",
       "    }\n",
       "\n",
       "    .dataframe thead th {\n",
       "        text-align: right;\n",
       "    }\n",
       "</style>\n",
       "<table border=\"1\" class=\"dataframe\">\n",
       "  <thead>\n",
       "    <tr style=\"text-align: right;\">\n",
       "      <th></th>\n",
       "      <th>input_entity</th>\n",
       "      <th>output_entity</th>\n",
       "    </tr>\n",
       "  </thead>\n",
       "  <tbody>\n",
       "    <tr>\n",
       "      <th>0</th>\n",
       "      <td>rate_of_interest: 2.17</td>\n",
       "      <td>5.39</td>\n",
       "    </tr>\n",
       "    <tr>\n",
       "      <th>1</th>\n",
       "      <td>Loan Interest Rate: 4.51%</td>\n",
       "      <td>2.29%</td>\n",
       "    </tr>\n",
       "    <tr>\n",
       "      <th>2</th>\n",
       "      <td>loan-interest-rate: 17.62</td>\n",
       "      <td>13.44</td>\n",
       "    </tr>\n",
       "    <tr>\n",
       "      <th>3</th>\n",
       "      <td>Interest-Percentage: 18.71%</td>\n",
       "      <td>17.80%</td>\n",
       "    </tr>\n",
       "    <tr>\n",
       "      <th>4</th>\n",
       "      <td>INTERESTRATE: 8.56</td>\n",
       "      <td>0.30</td>\n",
       "    </tr>\n",
       "    <tr>\n",
       "      <th>...</th>\n",
       "      <td>...</td>\n",
       "      <td>...</td>\n",
       "    </tr>\n",
       "    <tr>\n",
       "      <th>1195</th>\n",
       "      <td>Rate-Of-Interest: 13.08 %</td>\n",
       "      <td>18.66 %</td>\n",
       "    </tr>\n",
       "    <tr>\n",
       "      <th>1196</th>\n",
       "      <td>Interest-Rate: 4.78</td>\n",
       "      <td>4.85</td>\n",
       "    </tr>\n",
       "    <tr>\n",
       "      <th>1197</th>\n",
       "      <td>Interest Percentage: 7.07%</td>\n",
       "      <td>4.78%</td>\n",
       "    </tr>\n",
       "    <tr>\n",
       "      <th>1198</th>\n",
       "      <td>LOANINTEREST%: 14.10</td>\n",
       "      <td>15.37</td>\n",
       "    </tr>\n",
       "    <tr>\n",
       "      <th>1199</th>\n",
       "      <td>loan-interest-rate: 13.93 %</td>\n",
       "      <td>19.27 %</td>\n",
       "    </tr>\n",
       "  </tbody>\n",
       "</table>\n",
       "<p>1200 rows × 2 columns</p>\n",
       "</div>"
      ],
      "text/plain": [
       "                     input_entity output_entity\n",
       "0          rate_of_interest: 2.17          5.39\n",
       "1       Loan Interest Rate: 4.51%         2.29%\n",
       "2       loan-interest-rate: 17.62         13.44\n",
       "3     Interest-Percentage: 18.71%        17.80%\n",
       "4              INTERESTRATE: 8.56          0.30\n",
       "...                           ...           ...\n",
       "1195    Rate-Of-Interest: 13.08 %       18.66 %\n",
       "1196          Interest-Rate: 4.78          4.85\n",
       "1197   Interest Percentage: 7.07%         4.78%\n",
       "1198         LOANINTEREST%: 14.10         15.37\n",
       "1199  loan-interest-rate: 13.93 %       19.27 %\n",
       "\n",
       "[1200 rows x 2 columns]"
      ]
     },
     "execution_count": 83,
     "metadata": {},
     "output_type": "execute_result"
    }
   ],
   "source": [
    "res"
   ]
  },
  {
   "cell_type": "code",
   "execution_count": null,
   "metadata": {},
   "outputs": [],
   "source": []
  }
 ],
 "metadata": {
  "kernelspec": {
   "display_name": "Python 3.8.13 ('reticle')",
   "language": "python",
   "name": "python3"
  },
  "language_info": {
   "codemirror_mode": {
    "name": "ipython",
    "version": 3
   },
   "file_extension": ".py",
   "mimetype": "text/x-python",
   "name": "python",
   "nbconvert_exporter": "python",
   "pygments_lexer": "ipython3",
   "version": "3.8.13"
  },
  "orig_nbformat": 4,
  "vscode": {
   "interpreter": {
    "hash": "09ec2db156a7209681ea734e4f7b85e602c6e683f9c0304fe8b6394a4a1b5475"
   }
  }
 },
 "nbformat": 4,
 "nbformat_minor": 2
}
