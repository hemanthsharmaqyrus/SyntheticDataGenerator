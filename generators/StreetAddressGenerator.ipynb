{
 "cells": [
  {
   "cell_type": "code",
   "execution_count": 1,
   "metadata": {},
   "outputs": [],
   "source": [
    "from faker import Faker\n",
    "import random\n",
    "from generatorUtils import LabelTransformations"
   ]
  },
  {
   "cell_type": "code",
   "execution_count": 13,
   "metadata": {},
   "outputs": [],
   "source": [
    "labels = ['street address', 'street']"
   ]
  },
  {
   "cell_type": "code",
   "execution_count": null,
   "metadata": {},
   "outputs": [],
   "source": []
  },
  {
   "cell_type": "code",
   "execution_count": 14,
   "metadata": {},
   "outputs": [],
   "source": [
    "class StreetAddressGenerator:\n",
    "    def __init__(self, num_of_samples):\n",
    "        self.num_of_samples = num_of_samples\n",
    "        self.labelTransformations = LabelTransformations()\n",
    "        self.locales = ['en_AU', 'en_CA', 'en_GB', 'en_IE', 'en_IN', 'en_NZ', 'en_PH', 'en_TH', 'en_US']\n",
    "        \n",
    "\n",
    "    def generate_street_address(self, labels):\n",
    "        labels = list(set(self.labelTransformations(labels)))\n",
    "\n",
    "        street_address_inputs = []\n",
    "        street_addres_outputs = []\n",
    "\n",
    "        for locale in self.locales:\n",
    "            self.f = Faker(locale=locale)\n",
    "\n",
    "            for i in range(self.num_of_samples):\n",
    "                label = random.choice(labels)\n",
    "\n",
    "                street_address_inputs.append(label + ': ' + self.f.street_address())\n",
    "                street_addres_outputs.append(self.f.street_address())\n",
    "        return street_address_inputs, street_addres_outputs"
   ]
  },
  {
   "cell_type": "code",
   "execution_count": 16,
   "metadata": {},
   "outputs": [],
   "source": [
    "streetAddressGenerator = StreetAddressGenerator(num_of_samples=300)"
   ]
  },
  {
   "cell_type": "code",
   "execution_count": 17,
   "metadata": {},
   "outputs": [],
   "source": [
    "input, output = streetAddressGenerator.generate_street_address(labels)"
   ]
  },
  {
   "cell_type": "code",
   "execution_count": 19,
   "metadata": {},
   "outputs": [
    {
     "data": {
      "text/plain": [
       "[('Street: 196 /\\n 964 Nicole Follow', 'Level 2\\n 119 Thomas Block'),\n",
       " ('Street Address: Suite 537\\n 9 Ashley Brace', '773 Avila Deviation'),\n",
       " ('STREET-ADDRESS: 1 Lee Ramble', '9 Joshua Bypass'),\n",
       " ('street: 94 Horton Strand', '641 /\\n 601 David Motorway'),\n",
       " ('streetaddress: Level 2\\n 879 Ho Glade', '911 /\\n 0 Jonathan Court'),\n",
       " ('streetaddress: 3 Nichole Cross', 'Flat 62\\n 3 Thomas Circle'),\n",
       " ('street: 773 Reyes Highway', '0 Caldwell Copse'),\n",
       " ('streetaddress: Unit 23\\n 5 Amy Vista', '1 Collins Foreshore'),\n",
       " ('street address: 44 Carson Reserve', '56 Cortez Quadrant'),\n",
       " ('Street Address: Suite 544\\n 2 Ramirez End', '5 Jeff Glen'),\n",
       " ('STREET-ADDRESS: Apt. 690\\n 672 James Vale', 'Level 7\\n 175 Rebecca Common'),\n",
       " ('STREET_ADDRESS: Suite 644\\n 382 Dawn Road',\n",
       "  'Flat 20\\n 74 Burnett Cul-de-sac'),\n",
       " ('STREET ADDRESS: 379 Fowler Tollway', '3 Darren Drive'),\n",
       " ('STREET: Level 7\\n 1 Laura Landing', '720 Turner Quadrant'),\n",
       " ('STREET_ADDRESS: 68 Hart Stairs', '0 Elizabeth Service Way'),\n",
       " ('STREET-ADDRESS: 74 Carlos Parklands', 'Unit 41\\n 81 Mccarty Interchange'),\n",
       " ('STREET ADDRESS: Suite 750\\n 901 Mark Place', '8 /\\n 733 Harvey Quad'),\n",
       " ('Street Address: 720 Garza Quays', '852 Walton Edge'),\n",
       " ('STREET: Suite 886\\n 2 Christopher Driveway', '2 /\\n 67 Mark Circuit'),\n",
       " ('Street_Address: Level 7\\n 7 David Link', '5 Heather Wade')]"
      ]
     },
     "execution_count": 19,
     "metadata": {},
     "output_type": "execute_result"
    }
   ],
   "source": [
    "list(zip(input, output))[:20]"
   ]
  },
  {
   "cell_type": "code",
   "execution_count": 20,
   "metadata": {},
   "outputs": [],
   "source": [
    "import pandas as pd\n",
    "res = pd.DataFrame(columns=['input_entity', 'output_entity'])"
   ]
  },
  {
   "cell_type": "code",
   "execution_count": 21,
   "metadata": {},
   "outputs": [],
   "source": [
    "res['input_entity'] = input\n",
    "res['output_entity'] = output"
   ]
  },
  {
   "cell_type": "code",
   "execution_count": 22,
   "metadata": {},
   "outputs": [],
   "source": [
    "res.to_csv('streetAddress_data.csv', index=False)"
   ]
  },
  {
   "cell_type": "code",
   "execution_count": null,
   "metadata": {},
   "outputs": [],
   "source": []
  }
 ],
 "metadata": {
  "kernelspec": {
   "display_name": "Python 3.8.13 ('reticle')",
   "language": "python",
   "name": "python3"
  },
  "language_info": {
   "codemirror_mode": {
    "name": "ipython",
    "version": 3
   },
   "file_extension": ".py",
   "mimetype": "text/x-python",
   "name": "python",
   "nbconvert_exporter": "python",
   "pygments_lexer": "ipython3",
   "version": "3.8.13"
  },
  "orig_nbformat": 4,
  "vscode": {
   "interpreter": {
    "hash": "09ec2db156a7209681ea734e4f7b85e602c6e683f9c0304fe8b6394a4a1b5475"
   }
  }
 },
 "nbformat": 4,
 "nbformat_minor": 2
}
