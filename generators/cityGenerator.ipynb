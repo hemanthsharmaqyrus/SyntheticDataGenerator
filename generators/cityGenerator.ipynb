{
 "cells": [
  {
   "cell_type": "code",
   "execution_count": 1,
   "metadata": {},
   "outputs": [],
   "source": [
    "from faker import Faker\n",
    "import random\n",
    "from generatorUtils import LabelTransformations"
   ]
  },
  {
   "cell_type": "code",
   "execution_count": 2,
   "metadata": {},
   "outputs": [],
   "source": [
    "labels = ['city', 'place', 'location']"
   ]
  },
  {
   "cell_type": "code",
   "execution_count": 14,
   "metadata": {},
   "outputs": [],
   "source": [
    "class CityGenerator:\n",
    "    def __init__(self, num_of_samples):\n",
    "        self.num_of_samples = num_of_samples\n",
    "        self.labelTransformations = LabelTransformations()\n",
    "        self.locales = ['en_AU', 'en_CA', 'en_GB', 'en_IE', 'en_IN', 'en_NZ', 'en_PH', 'en_TH', 'en_US']\n",
    "\n",
    "    def data_transform(self, input_city, output_city):\n",
    "        city_transforms = [(input_city, output_city)]\n",
    "\n",
    "        city_transforms.append((self.labelTransformations.__all_words_capital__([input_city])[0], \\\n",
    "        self.labelTransformations.__all_words_capital__([output_city])[0]))\n",
    "\n",
    "        city_transforms.append((self.labelTransformations.__all_words_start_capital__([input_city])[0], \\\n",
    "        self.labelTransformations.__all_words_start_capital__([output_city])[0]))\n",
    "\n",
    "        city_transforms.append((self.labelTransformations.__all_words_small__([input_city])[0], \\\n",
    "        self.labelTransformations.__all_words_small__([output_city])[0]))\n",
    "\n",
    "        \n",
    "\n",
    "        return random.choice(city_transforms)\n",
    "\n",
    "    def generateCities(self, labels):\n",
    "        labels = list(set(self.labelTransformations(labels)))\n",
    "\n",
    "        city_inputs = []\n",
    "        city_outputs = []\n",
    "        for locale in self.locales:\n",
    "            self.f = Faker(locale=locale)\n",
    "\n",
    "            for i in range(self.num_of_samples):\n",
    "                label = random.choice(labels)\n",
    "\n",
    "                \n",
    "                input_city = self.f.city()\n",
    "                output_city = self.f.city()\n",
    "\n",
    "                input_city, output_city = self.data_transform(input_city, output_city)\n",
    "                \n",
    "                city_inputs.append(label + ': ' + input_city)\n",
    "                city_outputs.append(output_city)\n",
    "\n",
    "        return city_inputs, city_outputs"
   ]
  },
  {
   "cell_type": "code",
   "execution_count": 15,
   "metadata": {},
   "outputs": [],
   "source": [
    "cityGenerator = CityGenerator(num_of_samples=300)"
   ]
  },
  {
   "cell_type": "code",
   "execution_count": 16,
   "metadata": {},
   "outputs": [],
   "source": [
    "input, output = cityGenerator.generateCities(labels)"
   ]
  },
  {
   "cell_type": "code",
   "execution_count": 17,
   "metadata": {},
   "outputs": [
    {
     "data": {
      "text/plain": [
       "[('PLACE: South Heather', 'Davisport'),\n",
       " ('location: west raymond', 'st. kristinstad'),\n",
       " ('city: Maryton', 'North Jerome'),\n",
       " ('place: Lake Brad', 'South Cliffordhaven'),\n",
       " ('location: East Albertchester', 'Chavezmouth'),\n",
       " ('place: North Joemouth', 'Andreaville'),\n",
       " ('location: St. Brittany', 'Cynthiaborough'),\n",
       " ('Place: michaelfort', 'lynchstad'),\n",
       " ('Place: JOSEVIEW', 'NORTH TREVOR'),\n",
       " ('location: susanstad', 'north crystal'),\n",
       " ('Place: North Ernestfort', 'Dicksonfort'),\n",
       " ('location: jonesport', 'rogerbury'),\n",
       " ('city: ST. DUSTIN', 'PORT HEATHERTON'),\n",
       " ('place: kerrborough', 'katieberg'),\n",
       " ('location: St. Jeremyhaven', 'Port Andreaville'),\n",
       " ('place: New Tiffanystad', 'Sierraside'),\n",
       " ('place: Johnsonmouth', 'Washingtonland'),\n",
       " ('City: Lake Amanda', 'Jonathonstad'),\n",
       " ('Location: south anna', 'taylorport'),\n",
       " ('Location: St. Michael', 'Julietown')]"
      ]
     },
     "execution_count": 17,
     "metadata": {},
     "output_type": "execute_result"
    }
   ],
   "source": [
    "list(zip(input, output))[:20]"
   ]
  },
  {
   "cell_type": "code",
   "execution_count": 18,
   "metadata": {},
   "outputs": [],
   "source": [
    "import pandas as pd\n",
    "res = pd.DataFrame(columns=['input_entity', 'output_entity'])"
   ]
  },
  {
   "cell_type": "code",
   "execution_count": 19,
   "metadata": {},
   "outputs": [],
   "source": [
    "res['input_entity'] = input\n",
    "res['output_entity'] = output"
   ]
  },
  {
   "cell_type": "code",
   "execution_count": 20,
   "metadata": {},
   "outputs": [],
   "source": [
    "res.to_csv('cities_data.csv', index=False)"
   ]
  },
  {
   "cell_type": "code",
   "execution_count": 21,
   "metadata": {},
   "outputs": [
    {
     "data": {
      "text/plain": [
       "2700"
      ]
     },
     "execution_count": 21,
     "metadata": {},
     "output_type": "execute_result"
    }
   ],
   "source": [
    "len(res)"
   ]
  },
  {
   "cell_type": "code",
   "execution_count": null,
   "metadata": {},
   "outputs": [],
   "source": []
  }
 ],
 "metadata": {
  "kernelspec": {
   "display_name": "Python 3.8.13 ('reticle')",
   "language": "python",
   "name": "python3"
  },
  "language_info": {
   "codemirror_mode": {
    "name": "ipython",
    "version": 3
   },
   "file_extension": ".py",
   "mimetype": "text/x-python",
   "name": "python",
   "nbconvert_exporter": "python",
   "pygments_lexer": "ipython3",
   "version": "3.8.13"
  },
  "orig_nbformat": 4,
  "vscode": {
   "interpreter": {
    "hash": "09ec2db156a7209681ea734e4f7b85e602c6e683f9c0304fe8b6394a4a1b5475"
   }
  }
 },
 "nbformat": 4,
 "nbformat_minor": 2
}
