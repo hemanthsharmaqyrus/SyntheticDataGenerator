{
 "cells": [
  {
   "cell_type": "code",
   "execution_count": 1,
   "metadata": {},
   "outputs": [],
   "source": [
    "from faker import Faker\n",
    "import random\n",
    "from generatorUtils import LabelTransformations"
   ]
  },
  {
   "cell_type": "code",
   "execution_count": 10,
   "metadata": {},
   "outputs": [],
   "source": [
    "units = ['Kilos', 'Tons', 'Kgs', 'Ounces']\n",
    "labels = ['Weight', 'mass']"
   ]
  },
  {
   "cell_type": "code",
   "execution_count": 11,
   "metadata": {},
   "outputs": [],
   "source": [
    "class WeightGenerator:\n",
    "    def __init__(self, num_of_samples):\n",
    "        self.num_of_samples = num_of_samples\n",
    "        self.labelTransformations = LabelTransformations()    \n",
    "    \n",
    "    def generate_decimal_pair(self, start, end):\n",
    "\n",
    "        start_number = str(random.randint(start, end))\n",
    "        \n",
    "        inp = \"{:.2f}\".format(random.random())\n",
    "        out = \"{:.2f}\".format(random.random())\n",
    "        return str(eval(start_number) + eval(inp)), str(eval(start_number) + eval(out))\n",
    "\n",
    "    def generate_int_pair(self, start, end):        \n",
    "        \n",
    "        return str(random.randint(start, end)), str(random.randint(start, end))\n",
    "\n",
    "\n",
    "    def generateWeightData(self, labels, units):\n",
    "        labels = list(set(self.labelTransformations(labels)))\n",
    "        units = list(set(self.labelTransformations(units)))\n",
    "        inputs = []\n",
    "        outputs = []\n",
    "\n",
    "        for i in range(self.num_of_samples):\n",
    "           \n",
    "            label = random.choice(labels)\n",
    "            unit = random.choice(units)\n",
    "            inp, out = self.generate_decimal_pair(40,100)\n",
    "            inputs.append(label+ ': ' + inp + ' ' + unit)\n",
    "            outputs.append(out + ' ' + unit)\n",
    "\n",
    "            label = random.choice(labels)\n",
    "            unit = random.choice(units)\n",
    "            inp, out = self.generate_int_pair(40,100)\n",
    "            inputs.append(label+ ': ' + inp + ' ' + unit)\n",
    "            outputs.append(out + ' ' + unit)\n",
    "\n",
    "            label = random.choice(labels)\n",
    "            unit = random.choice(units)\n",
    "            inp, out = self.generate_decimal_pair(100,1000)\n",
    "            inputs.append(label+ ': ' + inp + ' ' + unit)\n",
    "            outputs.append(out + ' ' + unit)\n",
    "\n",
    "            label = random.choice(labels)\n",
    "            unit = random.choice(units)\n",
    "            inp, out = self.generate_int_pair(100,1000)\n",
    "            inputs.append(label+ ': ' + inp + ' ' + unit)\n",
    "            outputs.append(out + ' ' + unit)\n",
    "\n",
    "        return inputs, outputs"
   ]
  },
  {
   "cell_type": "code",
   "execution_count": 12,
   "metadata": {},
   "outputs": [],
   "source": [
    "weightGenerator = WeightGenerator(num_of_samples=3000)"
   ]
  },
  {
   "cell_type": "code",
   "execution_count": 13,
   "metadata": {},
   "outputs": [],
   "source": [
    "input, output = weightGenerator.generateWeightData(labels, units)"
   ]
  },
  {
   "cell_type": "code",
   "execution_count": 14,
   "metadata": {},
   "outputs": [
    {
     "data": {
      "text/plain": [
       "[('WEIGHT: 57.53 Tons', '57.78 Tons'),\n",
       " ('Weight: 71 kilos', '53 kilos'),\n",
       " ('weight: 207.73 ounces', '207.79 ounces'),\n",
       " ('mass: 331 kilos', '514 kilos'),\n",
       " ('WEIGHT: 81.39 Kgs', '81.77 Kgs'),\n",
       " ('WEIGHT: 55 OUNCES', '45 OUNCES'),\n",
       " ('MASS: 120.91 KGS', '120.67 KGS'),\n",
       " ('weight: 993 Tons', '168 Tons'),\n",
       " ('WEIGHT: 94.94 Kgs', '94.61 Kgs'),\n",
       " ('MASS: 95 ounces', '93 ounces'),\n",
       " ('mass: 465.28 TONS', '465.66 TONS'),\n",
       " ('Mass: 859 kilos', '745 kilos'),\n",
       " ('WEIGHT: 50.15 Kgs', '50.19 Kgs'),\n",
       " ('WEIGHT: 48 OUNCES', '86 OUNCES'),\n",
       " ('mass: 477.12 TONS', '477.94 TONS'),\n",
       " ('weight: 633 TONS', '368 TONS'),\n",
       " ('WEIGHT: 41.2 tons', '41.49 tons'),\n",
       " ('mass: 95 ounces', '89 ounces'),\n",
       " ('weight: 194.1 TONS', '194.86 TONS'),\n",
       " ('MASS: 586 Ounces', '956 Ounces')]"
      ]
     },
     "execution_count": 14,
     "metadata": {},
     "output_type": "execute_result"
    }
   ],
   "source": [
    "list(zip(input, output))[:20]"
   ]
  },
  {
   "cell_type": "code",
   "execution_count": 15,
   "metadata": {},
   "outputs": [],
   "source": [
    "import pandas as pd\n",
    "res = pd.DataFrame(columns=['input_entity', 'output_entity'])"
   ]
  },
  {
   "cell_type": "code",
   "execution_count": 16,
   "metadata": {},
   "outputs": [],
   "source": [
    "res['input_entity'] = input\n",
    "res['output_entity'] = output"
   ]
  },
  {
   "cell_type": "code",
   "execution_count": 17,
   "metadata": {},
   "outputs": [],
   "source": [
    "res.to_csv('Weight_data.csv', index=False)"
   ]
  },
  {
   "cell_type": "code",
   "execution_count": null,
   "metadata": {},
   "outputs": [],
   "source": []
  }
 ],
 "metadata": {
  "kernelspec": {
   "display_name": "Python 3.8.13 ('reticle')",
   "language": "python",
   "name": "python3"
  },
  "language_info": {
   "codemirror_mode": {
    "name": "ipython",
    "version": 3
   },
   "file_extension": ".py",
   "mimetype": "text/x-python",
   "name": "python",
   "nbconvert_exporter": "python",
   "pygments_lexer": "ipython3",
   "version": "3.8.13"
  },
  "orig_nbformat": 4,
  "vscode": {
   "interpreter": {
    "hash": "09ec2db156a7209681ea734e4f7b85e602c6e683f9c0304fe8b6394a4a1b5475"
   }
  }
 },
 "nbformat": 4,
 "nbformat_minor": 2
}
