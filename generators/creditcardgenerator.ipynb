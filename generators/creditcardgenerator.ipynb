{
 "cells": [
  {
   "cell_type": "code",
   "execution_count": null,
   "metadata": {},
   "outputs": [],
   "source": []
  },
  {
   "cell_type": "markdown",
   "metadata": {},
   "source": [
    "### 1. The supported credit cards are 'amex' , 'diners' , 'discover' , 'jcb15' , 'jcb16' , 'maestro' , 'mastercard' , 'visa13' , 'visa16' 'visa19'\n",
    "\n",
    "### 2. For all locales the same providers are available, So faker is not set with a locale"
   ]
  },
  {
   "cell_type": "code",
   "execution_count": 29,
   "metadata": {},
   "outputs": [],
   "source": [
    "from faker import Faker\n",
    "fake = Faker()"
   ]
  },
  {
   "cell_type": "code",
   "execution_count": 40,
   "metadata": {},
   "outputs": [
    {
     "name": "stdout",
     "output_type": "stream",
     "text": [
      "T\n",
      "h\n",
      "i\n",
      "s\n",
      "i\n",
      "s\n",
      "h\n",
      "i\n",
      "g\n",
      "h\n"
     ]
    }
   ],
   "source": [
    "for x in 'ThisisHigh'.title():\n",
    "    print(x)"
   ]
  },
  {
   "cell_type": "code",
   "execution_count": 45,
   "metadata": {},
   "outputs": [],
   "source": [
    "class LabelTransformations:\n",
    "\n",
    "    def __call__(self, label):\n",
    "        label_words = label.split(' ')\n",
    "\n",
    "        '''create camelcase label'''\n",
    "        camelcase_label = self.__camelcase_join__(label_words)\n",
    "\n",
    "        '''create all_words_capital joined with hyphen, underscore and space'''\n",
    "        all_words_capital_label = self.__all_words_capital__(label_words)\n",
    "\n",
    "        all_words_capital_label_hyphen_joined = self.__hyphen_join__(all_words_capital_label)\n",
    "        all_words_capital_label_underscore_joined = self.__underscore_join__(all_words_capital_label)\n",
    "        all_words_capital_label_space_joined = self.__space_join__(all_words_capital_label)\n",
    "\n",
    "        '''create all_words_start_capital joined with hyphen, underscore and space'''\n",
    "        all_words_start_capital_label = self.__all_words_start_capital__(label_words)\n",
    "\n",
    "        all_words_start_capital_label_hyphen_joined = self.__hyphen_join__(all_words_start_capital_label)\n",
    "        all_words_start_capital_label_underscore_joined = self.__underscore_join__(all_words_start_capital_label)\n",
    "        all_words_start_capital_label_space_joined = self.__space_join__(all_words_start_capital_label)\n",
    "\n",
    "        '''create all_words_start_capital joined with hyphen, underscore and space'''\n",
    "        all_words_small_label = self.__all_words_small__(label_words)\n",
    "\n",
    "        all_words_small_label_hyphen_joined = self.__hyphen_join__(all_words_small_label)\n",
    "        all_words_small_label_underscore_joined = self.__underscore_join__(all_words_small_label)\n",
    "        all_words_small_label_space_joined = self.__space_join__(all_words_small_label)\n",
    "\n",
    "        return camelcase_label, all_words_capital_label_hyphen_joined, all_words_capital_label_underscore_joined, all_words_capital_label_space_joined,\\\n",
    "            all_words_start_capital_label_hyphen_joined, all_words_start_capital_label_underscore_joined, all_words_start_capital_label_space_joined, \\\n",
    "                all_words_small_label_hyphen_joined, all_words_small_label_underscore_joined, all_words_small_label_space_joined\n",
    "\n",
    "    def __underscore_join__(self, label_list):\n",
    "        return '_'.join(label_list)\n",
    "\n",
    "    def __hyphen_join__(self, label_list):\n",
    "        return '-'.join(label_list)\n",
    "\n",
    "    def __space_join__(self, label_list):\n",
    "        return ' '.join(label_list)\n",
    "\n",
    "    def __camelcase_join__(self, label_list):\n",
    "        start_word = label_list[0]\n",
    "        following_words = label_list[1:]\n",
    "        following_words = self.__all_words_start_capital__(following_words)\n",
    "        return ''.join(label_list[0] + following_words)\n",
    "\n",
    "    def __all_words_capital__(self, label_list):\n",
    "        return [word.capitalize() for word in label_list]\n",
    "\n",
    "    def __all_words_start_capital__(self, label_list):\n",
    "        label = ' '.join(label_list)\n",
    "        return [x for x in label.title() if not x.isspace()]\n",
    "\n",
    "    def __all_words_small__(self, label_list):\n",
    "        return [word.lower() for word in label_list]\n",
    "        \n"
   ]
  },
  {
   "cell_type": "code",
   "execution_count": 46,
   "metadata": {},
   "outputs": [],
   "source": [
    "labelTransformations = LabelTransformations()"
   ]
  },
  {
   "cell_type": "code",
   "execution_count": 47,
   "metadata": {},
   "outputs": [
    {
     "ename": "AttributeError",
     "evalue": "'LabelTransformations' object has no attribute 'all_words_start_capital'",
     "output_type": "error",
     "traceback": [
      "\u001b[0;31m---------------------------------------------------------------------------\u001b[0m",
      "\u001b[0;31mAttributeError\u001b[0m                            Traceback (most recent call last)",
      "\u001b[1;32m/home/ubuntu/Hemanth/DataGenerator/generators/creditcardgenerator.ipynb Cell 7'\u001b[0m in \u001b[0;36m<cell line: 1>\u001b[0;34m()\u001b[0m\n\u001b[0;32m----> <a href='vscode-notebook-cell://ssh-remote%2Bgpu_server_1_priv/home/ubuntu/Hemanth/DataGenerator/generators/creditcardgenerator.ipynb#ch0000018vscode-remote?line=0'>1</a>\u001b[0m labelTransformations(\u001b[39m'\u001b[39;49m\u001b[39mCredit Card number\u001b[39;49m\u001b[39m'\u001b[39;49m)\n",
      "\u001b[1;32m/home/ubuntu/Hemanth/DataGenerator/generators/creditcardgenerator.ipynb Cell 5'\u001b[0m in \u001b[0;36mLabelTransformations.__call__\u001b[0;34m(self, label)\u001b[0m\n\u001b[1;32m      <a href='vscode-notebook-cell://ssh-remote%2Bgpu_server_1_priv/home/ubuntu/Hemanth/DataGenerator/generators/creditcardgenerator.ipynb#ch0000015vscode-remote?line=3'>4</a>\u001b[0m label_words \u001b[39m=\u001b[39m label\u001b[39m.\u001b[39msplit(\u001b[39m'\u001b[39m\u001b[39m \u001b[39m\u001b[39m'\u001b[39m)\n\u001b[1;32m      <a href='vscode-notebook-cell://ssh-remote%2Bgpu_server_1_priv/home/ubuntu/Hemanth/DataGenerator/generators/creditcardgenerator.ipynb#ch0000015vscode-remote?line=5'>6</a>\u001b[0m \u001b[39m'''create camelcase label'''\u001b[39;00m\n\u001b[0;32m----> <a href='vscode-notebook-cell://ssh-remote%2Bgpu_server_1_priv/home/ubuntu/Hemanth/DataGenerator/generators/creditcardgenerator.ipynb#ch0000015vscode-remote?line=6'>7</a>\u001b[0m camelcase_label \u001b[39m=\u001b[39m \u001b[39mself\u001b[39;49m\u001b[39m.\u001b[39;49m__camelcase_join__(label_words)\n\u001b[1;32m      <a href='vscode-notebook-cell://ssh-remote%2Bgpu_server_1_priv/home/ubuntu/Hemanth/DataGenerator/generators/creditcardgenerator.ipynb#ch0000015vscode-remote?line=8'>9</a>\u001b[0m \u001b[39m'''create all_words_capital joined with hyphen, underscore and space'''\u001b[39;00m\n\u001b[1;32m     <a href='vscode-notebook-cell://ssh-remote%2Bgpu_server_1_priv/home/ubuntu/Hemanth/DataGenerator/generators/creditcardgenerator.ipynb#ch0000015vscode-remote?line=9'>10</a>\u001b[0m all_words_capital_label \u001b[39m=\u001b[39m \u001b[39mself\u001b[39m\u001b[39m.\u001b[39m__all_words_capital__(label_words)\n",
      "\u001b[1;32m/home/ubuntu/Hemanth/DataGenerator/generators/creditcardgenerator.ipynb Cell 5'\u001b[0m in \u001b[0;36mLabelTransformations.__camelcase_join__\u001b[0;34m(self, label_list)\u001b[0m\n\u001b[1;32m     <a href='vscode-notebook-cell://ssh-remote%2Bgpu_server_1_priv/home/ubuntu/Hemanth/DataGenerator/generators/creditcardgenerator.ipynb#ch0000015vscode-remote?line=43'>44</a>\u001b[0m start_word \u001b[39m=\u001b[39m label_list[\u001b[39m0\u001b[39m]\n\u001b[1;32m     <a href='vscode-notebook-cell://ssh-remote%2Bgpu_server_1_priv/home/ubuntu/Hemanth/DataGenerator/generators/creditcardgenerator.ipynb#ch0000015vscode-remote?line=44'>45</a>\u001b[0m following_words \u001b[39m=\u001b[39m label_list[\u001b[39m1\u001b[39m:]\n\u001b[0;32m---> <a href='vscode-notebook-cell://ssh-remote%2Bgpu_server_1_priv/home/ubuntu/Hemanth/DataGenerator/generators/creditcardgenerator.ipynb#ch0000015vscode-remote?line=45'>46</a>\u001b[0m following_words \u001b[39m=\u001b[39m \u001b[39mself\u001b[39;49m\u001b[39m.\u001b[39;49mall_words_start_capital(following_words)\n\u001b[1;32m     <a href='vscode-notebook-cell://ssh-remote%2Bgpu_server_1_priv/home/ubuntu/Hemanth/DataGenerator/generators/creditcardgenerator.ipynb#ch0000015vscode-remote?line=46'>47</a>\u001b[0m \u001b[39mreturn\u001b[39;00m \u001b[39m'\u001b[39m\u001b[39m'\u001b[39m\u001b[39m.\u001b[39mjoin(label_list[\u001b[39m0\u001b[39m] \u001b[39m+\u001b[39m following_words)\n",
      "\u001b[0;31mAttributeError\u001b[0m: 'LabelTransformations' object has no attribute 'all_words_start_capital'"
     ]
    }
   ],
   "source": [
    "labelTransformations('Credit Card number')"
   ]
  },
  {
   "cell_type": "markdown",
   "metadata": {},
   "source": [
    "### Amex Cards"
   ]
  },
  {
   "cell_type": "code",
   "execution_count": null,
   "metadata": {},
   "outputs": [],
   "source": [
    "labels = ['Amex card number', 'card number', 'credit card number', 'American Express credit card', 'American Express Card']\n",
    "for label_words in labels:\n",
    "    "
   ]
  },
  {
   "cell_type": "code",
   "execution_count": 8,
   "metadata": {},
   "outputs": [
    {
     "name": "stdout",
     "output_type": "stream",
     "text": [
      "4047127737340420\n",
      "4238186677684774\n",
      "4690377821623104\n",
      "4422555961847725\n",
      "4753498695464765\n",
      "4551100164273966\n",
      "4370385043861102\n",
      "4898935545282273\n",
      "4149986844992283\n",
      "4626206137473525\n"
     ]
    }
   ],
   "source": [
    "for label in labels:\n",
    "    for length in range(6,10):\n",
    "        for i in range(num_samples):\n",
    "            country_code = random.choice(cc)\n",
    "\n",
    "            input_phone_numbers.append(label + ': ' + country_code + ' ' + generate_int(length))\n",
    "            output_phone_numbers.append(country_code + ' ' + generate_int(length))"
   ]
  },
  {
   "cell_type": "code",
   "execution_count": 11,
   "metadata": {},
   "outputs": [
    {
     "name": "stdout",
     "output_type": "stream",
     "text": [
      "2248052924707994\n",
      "2285613555324914\n",
      "2350049774275597\n",
      "2705738812388899\n",
      "2231116461881121\n",
      "2711927150983195\n",
      "5393776946114674\n",
      "5224135294992196\n",
      "2263361552261228\n",
      "2708645825163572\n"
     ]
    }
   ],
   "source": [
    "for i in range(10):\n",
    "    print(fake.credit_card_number(card_type='mastercard'))"
   ]
  },
  {
   "cell_type": "code",
   "execution_count": 13,
   "metadata": {},
   "outputs": [
    {
     "name": "stdout",
     "output_type": "stream",
     "text": [
      "343136550643215\n",
      "343809638915413\n",
      "341006463141940\n",
      "343817980143450\n",
      "374553281765582\n",
      "349973764348155\n",
      "370273837305064\n",
      "375347782166377\n",
      "373158893664818\n",
      "373387003043775\n"
     ]
    }
   ],
   "source": [
    "for i in range(10):\n",
    "    print(fake.credit_card_number(card_type='amex'))"
   ]
  },
  {
   "cell_type": "code",
   "execution_count": 16,
   "metadata": {},
   "outputs": [
    {
     "name": "stdout",
     "output_type": "stream",
     "text": [
      "6011485148994764\n",
      "6011604203071116\n",
      "6544744603676423\n",
      "6011171129954650\n",
      "6587184674022298\n",
      "6540051727901008\n",
      "6011420136683715\n",
      "6011427314742908\n",
      "6011288167475834\n",
      "6011824950920626\n"
     ]
    }
   ],
   "source": [
    "for i in range(10):\n",
    "    print(fake.credit_card_number(card_type='discover'))"
   ]
  },
  {
   "cell_type": "code",
   "execution_count": 32,
   "metadata": {},
   "outputs": [
    {
     "name": "stdout",
     "output_type": "stream",
     "text": [
      "213112326568256\n",
      "180097350393433\n",
      "213152986845461\n",
      "180000458668532\n",
      "180098988883266\n",
      "213187324238508\n",
      "213199828545973\n",
      "213185486097357\n",
      "180000771652916\n",
      "180090836223654\n"
     ]
    }
   ],
   "source": [
    "for i in range(10):\n",
    "    print(fake.credit_card_number(card_type='jcb15'))"
   ]
  },
  {
   "cell_type": "code",
   "execution_count": 30,
   "metadata": {},
   "outputs": [],
   "source": [
    "credit_card_providers = set()\n",
    "for i in range(5000):\n",
    "    credit_card_providers.add(fake.credit_card_provider())"
   ]
  },
  {
   "cell_type": "code",
   "execution_count": 28,
   "metadata": {},
   "outputs": [
    {
     "data": {
      "text/plain": [
       "{'American Express',\n",
       " 'Diners Club / Carte Blanche',\n",
       " 'Discover',\n",
       " 'JCB 15 digit',\n",
       " 'JCB 16 digit',\n",
       " 'Maestro',\n",
       " 'Mastercard',\n",
       " 'VISA 13 digit',\n",
       " 'VISA 16 digit',\n",
       " 'VISA 19 digit'}"
      ]
     },
     "execution_count": 28,
     "metadata": {},
     "output_type": "execute_result"
    }
   ],
   "source": [
    "credit_card_providers"
   ]
  },
  {
   "cell_type": "code",
   "execution_count": 31,
   "metadata": {},
   "outputs": [
    {
     "data": {
      "text/plain": [
       "{'American Express',\n",
       " 'Diners Club / Carte Blanche',\n",
       " 'Discover',\n",
       " 'JCB 15 digit',\n",
       " 'JCB 16 digit',\n",
       " 'Maestro',\n",
       " 'Mastercard',\n",
       " 'VISA 13 digit',\n",
       " 'VISA 16 digit',\n",
       " 'VISA 19 digit'}"
      ]
     },
     "execution_count": 31,
     "metadata": {},
     "output_type": "execute_result"
    }
   ],
   "source": [
    "'amex' , 'diners' , 'discover' , 'jcb15' , 'jcb16' , 'maestro' , 'mastercard' , 'visa13' , 'visa16' 'visa19'"
   ]
  },
  {
   "cell_type": "code",
   "execution_count": null,
   "metadata": {},
   "outputs": [],
   "source": []
  },
  {
   "cell_type": "code",
   "execution_count": null,
   "metadata": {},
   "outputs": [],
   "source": []
  }
 ],
 "metadata": {
  "kernelspec": {
   "display_name": "Python 3.8.13 ('reticle')",
   "language": "python",
   "name": "python3"
  },
  "language_info": {
   "codemirror_mode": {
    "name": "ipython",
    "version": 3
   },
   "file_extension": ".py",
   "mimetype": "text/x-python",
   "name": "python",
   "nbconvert_exporter": "python",
   "pygments_lexer": "ipython3",
   "version": "3.8.13"
  },
  "orig_nbformat": 4,
  "vscode": {
   "interpreter": {
    "hash": "09ec2db156a7209681ea734e4f7b85e602c6e683f9c0304fe8b6394a4a1b5475"
   }
  }
 },
 "nbformat": 4,
 "nbformat_minor": 2
}
