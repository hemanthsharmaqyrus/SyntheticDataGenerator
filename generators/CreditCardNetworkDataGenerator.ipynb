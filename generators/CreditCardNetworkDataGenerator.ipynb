{
 "cells": [
  {
   "cell_type": "code",
   "execution_count": 3,
   "metadata": {},
   "outputs": [],
   "source": [
    "from generatorUtils import LabelTransformations\n",
    "import random\n",
    "from faker import Faker\n",
    "f = Faker()\n",
    "from collections import Counter\n",
    "from itertools import permutations\n"
   ]
  },
  {
   "cell_type": "code",
   "execution_count": 4,
   "metadata": {},
   "outputs": [],
   "source": [
    "labels = ['credit card network', 'credit card issuer', 'credit card supplier', 'card network', 'card supplier', 'card issuer']"
   ]
  },
  {
   "cell_type": "code",
   "execution_count": 7,
   "metadata": {},
   "outputs": [],
   "source": [
    "class CreditCardNetworkDataGenerator:\n",
    "    def __init__(self, num_of_samples):\n",
    "        self.labelTransformations = LabelTransformations()\n",
    "        self.num_of_samples = num_of_samples\n",
    "        self.credit_card_networks = ['VISA', 'jcb', 'Master Card', 'Amex', 'American Express', 'Discover', 'Diners', 'Diners club']\n",
    "\n",
    "    def generateCreditCardNetworks(self, labels):\n",
    "        labels = list(set(self.labelTransformations(labels)))\n",
    "        self.credit_card_networks = list(set(self.labelTransformations(self.credit_card_networks)))\n",
    "        print('credit_card_networks are', self.credit_card_networks)\n",
    "\n",
    "        data_pairs =  list(permutations(self.credit_card_networks, 2))\n",
    "        input_list = []\n",
    "        output_list = []\n",
    "        \n",
    "        #for each input attach the label\n",
    "        inputs = list(list(zip(*data_pairs))[0])\n",
    "        input_list += [random.choice(labels) + ': ' + input for input in inputs]\n",
    "\n",
    "        output_list += list(list(zip(*data_pairs))[1])\n",
    "        return input_list, output_list"
   ]
  },
  {
   "cell_type": "code",
   "execution_count": 8,
   "metadata": {},
   "outputs": [],
   "source": [
    "creditCardNetworkDataGenerator = CreditCardNetworkDataGenerator(num_of_samples=300)"
   ]
  },
  {
   "cell_type": "code",
   "execution_count": 9,
   "metadata": {},
   "outputs": [
    {
     "name": "stdout",
     "output_type": "stream",
     "text": [
      "credit_card_networks are ['visa', 'Diners_Club', 'American_Express', 'dinersClub', 'AMERICANEXPRESS', 'Visa', 'AMEX', 'American Express', 'DINERSCLUB', 'DINERS_CLUB', 'AMERICAN EXPRESS', 'masterCard', 'master-card', 'master_card', 'Master-Card', 'MASTER CARD', 'Diners', 'diners-club', 'diners_club', 'Diners-Club', 'Amex', 'diners', 'amex', 'DINERS', 'DinersClub', 'jcb', 'American-Express', 'american-express', 'Master Card', 'MasterCard', 'Discover', 'JCB', 'DINERS CLUB', 'mastercard', 'Jcb', 'AmericanExpress', 'americanExpress', 'dinersclub', 'Diners Club', 'discover', 'AMERICAN-EXPRESS', 'AMERICAN_EXPRESS', 'MASTERCARD', 'Master_Card', 'diners club', 'MASTER_CARD', 'american_express', 'americanexpress', 'VISA', 'DISCOVER', 'MASTER-CARD', 'american express', 'master card', 'DINERS-CLUB']\n"
     ]
    }
   ],
   "source": [
    "input, output = creditCardNetworkDataGenerator.generateCreditCardNetworks(labels)"
   ]
  },
  {
   "cell_type": "code",
   "execution_count": 12,
   "metadata": {},
   "outputs": [
    {
     "data": {
      "text/plain": [
       "[('CardNetwork: visa', 'Diners_Club'),\n",
       " ('card issuer: visa', 'American_Express'),\n",
       " ('Credit_Card_Issuer: visa', 'dinersClub'),\n",
       " ('card_network: visa', 'AMERICANEXPRESS'),\n",
       " ('Credit_Card_Issuer: visa', 'Visa'),\n",
       " ('cardsupplier: visa', 'AMEX'),\n",
       " ('Credit Card Issuer: visa', 'American Express'),\n",
       " ('creditcardnetwork: visa', 'DINERSCLUB'),\n",
       " ('CREDIT CARD NETWORK: visa', 'DINERS_CLUB'),\n",
       " ('CreditCardSupplier: visa', 'AMERICAN EXPRESS')]"
      ]
     },
     "execution_count": 12,
     "metadata": {},
     "output_type": "execute_result"
    }
   ],
   "source": [
    "list(zip(input, output))[:10]"
   ]
  },
  {
   "cell_type": "code",
   "execution_count": 13,
   "metadata": {},
   "outputs": [],
   "source": [
    "import pandas as pd\n",
    "res = pd.DataFrame(columns=['input_entity', 'output_entity'])"
   ]
  },
  {
   "cell_type": "code",
   "execution_count": 14,
   "metadata": {},
   "outputs": [],
   "source": [
    "res['input_entity'] = input\n",
    "res['output_entity'] = output"
   ]
  },
  {
   "cell_type": "code",
   "execution_count": 15,
   "metadata": {},
   "outputs": [],
   "source": [
    "res.to_csv('creditCardNetwork_data.csv', index=False)"
   ]
  },
  {
   "cell_type": "code",
   "execution_count": null,
   "metadata": {},
   "outputs": [],
   "source": []
  }
 ],
 "metadata": {
  "kernelspec": {
   "display_name": "Python 3.8.13 ('reticle')",
   "language": "python",
   "name": "python3"
  },
  "language_info": {
   "codemirror_mode": {
    "name": "ipython",
    "version": 3
   },
   "file_extension": ".py",
   "mimetype": "text/x-python",
   "name": "python",
   "nbconvert_exporter": "python",
   "pygments_lexer": "ipython3",
   "version": "3.8.13"
  },
  "orig_nbformat": 4,
  "vscode": {
   "interpreter": {
    "hash": "09ec2db156a7209681ea734e4f7b85e602c6e683f9c0304fe8b6394a4a1b5475"
   }
  }
 },
 "nbformat": 4,
 "nbformat_minor": 2
}
