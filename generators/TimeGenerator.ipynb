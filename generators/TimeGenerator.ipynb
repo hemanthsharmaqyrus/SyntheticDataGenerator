{
 "cells": [
  {
   "cell_type": "code",
   "execution_count": 2,
   "metadata": {},
   "outputs": [],
   "source": [
    "import random\n",
    "from faker import Faker\n",
    "from generatorUtils import LabelTransformations\n",
    "\n",
    "from datetime import date, datetime as dt"
   ]
  },
  {
   "cell_type": "code",
   "execution_count": 3,
   "metadata": {},
   "outputs": [],
   "source": [
    "labels = ['time', 'published time', 'transaction time', \n",
    "'time of birth', 'time of commencement', 'time of joining',\n",
    "'end time', 'time of transaction', 'time of purchase', 'last authentication time', \n",
    "'role created time', 'creation time', 'modified time', 'last modified time', 'login created time']\n",
    "\n"
   ]
  },
  {
   "cell_type": "code",
   "execution_count": 12,
   "metadata": {},
   "outputs": [],
   "source": [
    "class TimeGenerator:\n",
    "    def __init__(self, num_of_samples):\n",
    "        self.num_of_samples = num_of_samples\n",
    "        self.labelTransformations = LabelTransformations()\n",
    "\n",
    "    def Get12hrTime(self,):\n",
    "        while True:\n",
    "            date_string  = f.time(pattern='%H:%M')\n",
    "\n",
    "            if int(date_string[:2]) < 13:\n",
    "                return date_string + ' ' + f.am_pm()\n",
    "\n",
    "    def generateTime(self, labels):\n",
    "        f = Faker()\n",
    "        labels = list(set(self.labelTransformations(labels)))\n",
    "\n",
    "        time_input_strings = []\n",
    "        time_output_strings = []\n",
    "\n",
    "        for i in range(self.num_of_samples):\n",
    "            \n",
    "\n",
    "            # 12 hr format without seconds\n",
    "            label = random.choice(labels)\n",
    "            time_input_strings.append(f'{label}: ' + self.Get12hrTime())\n",
    "            time_output_strings.append(self.Get12hrTime())\n",
    "\n",
    "            # 24 hr format without seconds\n",
    "            label = random.choice(labels)\n",
    "            time_input_strings.append(f'{label}: ' + f.time(pattern='%H:%M'))\n",
    "            time_output_strings.append(f.time(pattern='%H:%M'))\n",
    "\n",
    "            # 24 hr format with seconds\n",
    "            label = random.choice(labels)\n",
    "            time_input_strings.append(f'{label}: ' + f.time())\n",
    "            time_output_strings.append(f.time())\n",
    "\n",
    "        return time_input_strings, time_output_strings\n",
    "\n"
   ]
  },
  {
   "cell_type": "code",
   "execution_count": 13,
   "metadata": {},
   "outputs": [],
   "source": [
    "timeGenerator = TimeGenerator(num_of_samples=300)"
   ]
  },
  {
   "cell_type": "code",
   "execution_count": 14,
   "metadata": {},
   "outputs": [],
   "source": [
    "input, output = timeGenerator.generateTime(labels)"
   ]
  },
  {
   "cell_type": "code",
   "execution_count": 15,
   "metadata": {},
   "outputs": [
    {
     "data": {
      "text/plain": [
       "[('LOGIN-CREATED-TIME: 04:27 AM', '08:14 PM'),\n",
       " ('last authentication time: 04:24', '04:35'),\n",
       " ('Modified Time: 22:31:36', '17:44:46'),\n",
       " ('timeofbirth: 05:09 AM', '00:16 PM'),\n",
       " ('Time_Of_Commencement: 02:13', '06:00'),\n",
       " ('Time-Of-Commencement: 02:27:10', '02:39:09'),\n",
       " ('LASTMODIFIEDTIME: 06:38 AM', '09:00 PM'),\n",
       " ('LOGIN_CREATED_TIME: 13:57', '04:59'),\n",
       " ('Published_Time: 07:03:48', '08:04:18'),\n",
       " ('Login_Created_Time: 05:01 PM', '08:43 PM'),\n",
       " ('End_Time: 05:30', '23:44'),\n",
       " ('Last_Modified_Time: 00:10:44', '23:31:18'),\n",
       " ('TimeOfBirth: 00:45 AM', '06:56 PM'),\n",
       " ('PUBLISHEDTIME: 01:35', '08:42'),\n",
       " ('roleCreatedTime: 07:13:13', '14:39:07'),\n",
       " ('creation time: 05:54 AM', '08:13 PM'),\n",
       " ('PUBLISHED TIME: 16:00', '03:46'),\n",
       " ('timeofpurchase: 02:16:22', '11:55:02'),\n",
       " ('time: 04:17 PM', '10:03 PM'),\n",
       " ('MODIFIED TIME: 06:40', '08:57')]"
      ]
     },
     "execution_count": 15,
     "metadata": {},
     "output_type": "execute_result"
    }
   ],
   "source": [
    "list(zip(input, output))[:20]"
   ]
  },
  {
   "cell_type": "code",
   "execution_count": 16,
   "metadata": {},
   "outputs": [],
   "source": [
    "import pandas as pd\n",
    "res = pd.DataFrame(columns=['input_entity', 'output_entity'])"
   ]
  },
  {
   "cell_type": "code",
   "execution_count": 17,
   "metadata": {},
   "outputs": [],
   "source": [
    "res['input_entity'] = input\n",
    "res['output_entity'] = output"
   ]
  },
  {
   "cell_type": "code",
   "execution_count": 18,
   "metadata": {},
   "outputs": [],
   "source": [
    "res.to_csv('time_data.csv', index=False)"
   ]
  },
  {
   "cell_type": "code",
   "execution_count": 19,
   "metadata": {},
   "outputs": [
    {
     "data": {
      "text/plain": [
       "900"
      ]
     },
     "execution_count": 19,
     "metadata": {},
     "output_type": "execute_result"
    }
   ],
   "source": [
    "len(res)"
   ]
  },
  {
   "cell_type": "code",
   "execution_count": null,
   "metadata": {},
   "outputs": [],
   "source": []
  }
 ],
 "metadata": {
  "kernelspec": {
   "display_name": "Python 3.8.13 ('reticle')",
   "language": "python",
   "name": "python3"
  },
  "language_info": {
   "codemirror_mode": {
    "name": "ipython",
    "version": 3
   },
   "file_extension": ".py",
   "mimetype": "text/x-python",
   "name": "python",
   "nbconvert_exporter": "python",
   "pygments_lexer": "ipython3",
   "version": "3.8.13"
  },
  "orig_nbformat": 4,
  "vscode": {
   "interpreter": {
    "hash": "09ec2db156a7209681ea734e4f7b85e602c6e683f9c0304fe8b6394a4a1b5475"
   }
  }
 },
 "nbformat": 4,
 "nbformat_minor": 2
}
