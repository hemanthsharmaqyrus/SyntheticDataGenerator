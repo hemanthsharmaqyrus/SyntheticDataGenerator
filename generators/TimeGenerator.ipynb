{
 "cells": [
  {
   "cell_type": "code",
   "execution_count": 2,
   "metadata": {},
   "outputs": [],
   "source": [
    "import random\n",
    "from faker import Faker\n",
    "from generatorUtils import LabelTransformations\n",
    "\n",
    "from datetime import date, datetime as dt"
   ]
  },
  {
   "cell_type": "code",
   "execution_count": 3,
   "metadata": {},
   "outputs": [],
   "source": [
    "labels = ['time', 'published time', 'transaction time', \n",
    "'time of birth', 'time of commencement', 'time of joining',\n",
    "'end time', 'time of transaction', 'time of purchase', 'last authentication time', \n",
    "'role created time', 'creation time', 'modified time', 'last modified time', 'login created time']\n",
    "\n"
   ]
  },
  {
   "cell_type": "code",
   "execution_count": 20,
   "metadata": {},
   "outputs": [],
   "source": [
    "class TimeGenerator:\n",
    "    def __init__(self, num_of_samples):\n",
    "        self.num_of_samples = num_of_samples\n",
    "        self.labelTransformations = LabelTransformations()\n",
    "\n",
    "    def Get12hrTime(self,):\n",
    "        f = Faker()\n",
    "        while True:\n",
    "            date_string  = f.time(pattern='%H:%M')\n",
    "\n",
    "            if int(date_string[:2]) < 13:\n",
    "                return date_string + ' ' + f.am_pm()\n",
    "\n",
    "    def generateTime(self, labels):\n",
    "        f = Faker()\n",
    "        labels = list(set(self.labelTransformations(labels)))\n",
    "\n",
    "        time_input_strings = []\n",
    "        time_output_strings = []\n",
    "\n",
    "        for i in range(self.num_of_samples):\n",
    "            \n",
    "\n",
    "            # 12 hr format without seconds\n",
    "            label = random.choice(labels)\n",
    "            time_input_strings.append(f'{label}: ' + self.Get12hrTime())\n",
    "            time_output_strings.append(self.Get12hrTime())\n",
    "\n",
    "            # 24 hr format without seconds\n",
    "            label = random.choice(labels)\n",
    "            time_input_strings.append(f'{label}: ' + f.time(pattern='%H:%M'))\n",
    "            time_output_strings.append(f.time(pattern='%H:%M'))\n",
    "\n",
    "            # 24 hr format with seconds\n",
    "            label = random.choice(labels)\n",
    "            time_input_strings.append(f'{label}: ' + f.time())\n",
    "            time_output_strings.append(f.time())\n",
    "\n",
    "        return time_input_strings, time_output_strings\n",
    "\n"
   ]
  },
  {
   "cell_type": "code",
   "execution_count": 21,
   "metadata": {},
   "outputs": [],
   "source": [
    "timeGenerator = TimeGenerator(num_of_samples=300)"
   ]
  },
  {
   "cell_type": "code",
   "execution_count": 22,
   "metadata": {},
   "outputs": [],
   "source": [
    "input, output = timeGenerator.generateTime(labels)"
   ]
  },
  {
   "cell_type": "code",
   "execution_count": 23,
   "metadata": {},
   "outputs": [
    {
     "data": {
      "text/plain": [
       "[('Time-Of-Joining: 02:03 PM', '07:11 PM'),\n",
       " ('LAST_MODIFIED_TIME: 08:52', '09:55'),\n",
       " ('time-of-joining: 22:51:59', '00:19:39'),\n",
       " ('timeOfPurchase: 01:58 AM', '07:36 AM'),\n",
       " ('LAST_AUTHENTICATION_TIME: 15:56', '11:14'),\n",
       " ('Last_Modified_Time: 03:56:54', '08:59:16'),\n",
       " ('login created time: 01:02 PM', '02:54 PM'),\n",
       " ('login-created-time: 13:23', '05:14'),\n",
       " ('Time_Of_Purchase: 21:55:19', '14:30:11'),\n",
       " ('lastAuthenticationTime: 00:52 AM', '05:00 PM'),\n",
       " ('LOGINCREATEDTIME: 12:34', '18:20'),\n",
       " ('PUBLISHED_TIME: 10:51:48', '19:29:18'),\n",
       " ('PublishedTime: 04:04 AM', '05:08 PM'),\n",
       " ('Time_Of_Purchase: 16:45', '08:54'),\n",
       " ('TIME-OF-PURCHASE: 08:35:04', '03:44:00'),\n",
       " ('login_created_time: 10:50 PM', '01:42 AM'),\n",
       " ('transactionTime: 01:27', '22:22'),\n",
       " ('modifiedTime: 07:33:23', '21:17:29'),\n",
       " ('time-of-commencement: 07:47 AM', '04:27 PM'),\n",
       " ('Last Modified Time: 14:18', '18:11')]"
      ]
     },
     "execution_count": 23,
     "metadata": {},
     "output_type": "execute_result"
    }
   ],
   "source": [
    "list(zip(input, output))[:20]"
   ]
  },
  {
   "cell_type": "code",
   "execution_count": 24,
   "metadata": {},
   "outputs": [],
   "source": [
    "import pandas as pd\n",
    "res = pd.DataFrame(columns=['input_entity', 'output_entity'])"
   ]
  },
  {
   "cell_type": "code",
   "execution_count": 17,
   "metadata": {},
   "outputs": [],
   "source": [
    "res['input_entity'] = input\n",
    "res['output_entity'] = output"
   ]
  },
  {
   "cell_type": "code",
   "execution_count": 18,
   "metadata": {},
   "outputs": [],
   "source": [
    "res.to_csv('time_data.csv', index=False)"
   ]
  },
  {
   "cell_type": "code",
   "execution_count": 19,
   "metadata": {},
   "outputs": [
    {
     "data": {
      "text/plain": [
       "900"
      ]
     },
     "execution_count": 19,
     "metadata": {},
     "output_type": "execute_result"
    }
   ],
   "source": [
    "len(res)"
   ]
  },
  {
   "cell_type": "code",
   "execution_count": null,
   "metadata": {},
   "outputs": [],
   "source": []
  }
 ],
 "metadata": {
  "kernelspec": {
   "display_name": "Python 3.8.13 ('reticle')",
   "language": "python",
   "name": "python3"
  },
  "language_info": {
   "codemirror_mode": {
    "name": "ipython",
    "version": 3
   },
   "file_extension": ".py",
   "mimetype": "text/x-python",
   "name": "python",
   "nbconvert_exporter": "python",
   "pygments_lexer": "ipython3",
   "version": "3.8.13"
  },
  "orig_nbformat": 4,
  "vscode": {
   "interpreter": {
    "hash": "09ec2db156a7209681ea734e4f7b85e602c6e683f9c0304fe8b6394a4a1b5475"
   }
  }
 },
 "nbformat": 4,
 "nbformat_minor": 2
}
