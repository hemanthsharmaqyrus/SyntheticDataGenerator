{
 "cells": [
  {
   "cell_type": "code",
   "execution_count": 1,
   "metadata": {},
   "outputs": [],
   "source": [
    "from faker import Faker\n",
    "import random\n",
    "from generatorUtils import LabelTransformations"
   ]
  },
  {
   "cell_type": "code",
   "execution_count": 44,
   "metadata": {},
   "outputs": [],
   "source": [
    "email_labels = ['email', 'email id', 'electronic mail id', 'mail address', 'email address', 'e mail address', 'electronic mail address', 'personal email', 'office email id', 'office email address', 'business email address', 'school email', 'college email id']"
   ]
  },
  {
   "cell_type": "code",
   "execution_count": null,
   "metadata": {},
   "outputs": [],
   "source": []
  },
  {
   "cell_type": "code",
   "execution_count": 45,
   "metadata": {},
   "outputs": [],
   "source": [
    "class EmailGenerator:\n",
    "    def __init__(self, num_of_samples):\n",
    "        self.num_of_samples = num_of_samples\n",
    "        self.labelTransformations = LabelTransformations()\n",
    "        self.locales = ['en_AU', 'en_CA', 'en_GB', 'en_IE', 'en_IN', 'en_NZ', 'en_PH', 'en_TH', 'en_US']\n",
    "        \n",
    "\n",
    "    def generate_emails(self, labels):\n",
    "        labels = list(set(self.labelTransformations(labels)))\n",
    "\n",
    "        email_inputs = []\n",
    "        email_outputs = []\n",
    "        for locale in self.locales:\n",
    "            self.f = Faker(locale=locale)\n",
    "\n",
    "            for i in range(self.num_of_samples):\n",
    "                label = random.choice(labels)\n",
    "                email_inputs.append(label + ': ' + self.f.email())\n",
    "                email_outputs.append(self.f.email())\n",
    "        return email_inputs, email_outputs\n",
    "\n"
   ]
  },
  {
   "cell_type": "code",
   "execution_count": 46,
   "metadata": {},
   "outputs": [],
   "source": [
    "emailGenerator = EmailGenerator(1000)"
   ]
  },
  {
   "cell_type": "code",
   "execution_count": 47,
   "metadata": {},
   "outputs": [],
   "source": [
    "input, output = emailGenerator.generate_emails(email_labels)"
   ]
  },
  {
   "cell_type": "code",
   "execution_count": 48,
   "metadata": {},
   "outputs": [
    {
     "data": {
      "text/plain": [
       "9000"
      ]
     },
     "execution_count": 48,
     "metadata": {},
     "output_type": "execute_result"
    }
   ],
   "source": [
    "len(list(zip(input, output)))"
   ]
  },
  {
   "cell_type": "code",
   "execution_count": 49,
   "metadata": {},
   "outputs": [],
   "source": [
    "import pandas as pd\n",
    "res = pd.DataFrame(columns=['input_entity', 'output_entity'])"
   ]
  },
  {
   "cell_type": "code",
   "execution_count": 50,
   "metadata": {},
   "outputs": [],
   "source": [
    "res['input_entity'] = input\n",
    "res['output_entity'] = output"
   ]
  },
  {
   "cell_type": "code",
   "execution_count": 51,
   "metadata": {},
   "outputs": [],
   "source": [
    "res.to_csv('email_data.csv', index=False)"
   ]
  },
  {
   "cell_type": "code",
   "execution_count": 52,
   "metadata": {},
   "outputs": [
    {
     "data": {
      "text/plain": [
       "9000"
      ]
     },
     "execution_count": 52,
     "metadata": {},
     "output_type": "execute_result"
    }
   ],
   "source": [
    "len(res)"
   ]
  },
  {
   "cell_type": "code",
   "execution_count": 53,
   "metadata": {},
   "outputs": [
    {
     "data": {
      "text/html": [
       "<div>\n",
       "<style scoped>\n",
       "    .dataframe tbody tr th:only-of-type {\n",
       "        vertical-align: middle;\n",
       "    }\n",
       "\n",
       "    .dataframe tbody tr th {\n",
       "        vertical-align: top;\n",
       "    }\n",
       "\n",
       "    .dataframe thead th {\n",
       "        text-align: right;\n",
       "    }\n",
       "</style>\n",
       "<table border=\"1\" class=\"dataframe\">\n",
       "  <thead>\n",
       "    <tr style=\"text-align: right;\">\n",
       "      <th></th>\n",
       "      <th>input_entity</th>\n",
       "      <th>output_entity</th>\n",
       "    </tr>\n",
       "  </thead>\n",
       "  <tbody>\n",
       "    <tr>\n",
       "      <th>0</th>\n",
       "      <td>Personal_Email: trevorsolis@hotmail.com.au</td>\n",
       "      <td>rbrown@valdez-hendrix.com.au</td>\n",
       "    </tr>\n",
       "    <tr>\n",
       "      <th>1</th>\n",
       "      <td>E MAIL ADDRESS: elizabeth83@jones.org.au</td>\n",
       "      <td>jefferyferguson@parrish-russell.net</td>\n",
       "    </tr>\n",
       "    <tr>\n",
       "      <th>2</th>\n",
       "      <td>Office-Email-Id: curtiscampbell@gmail.com</td>\n",
       "      <td>echavez@stevenson-gibson.info</td>\n",
       "    </tr>\n",
       "    <tr>\n",
       "      <th>3</th>\n",
       "      <td>Electronic-Mail-Address: xcross@yahoo.com</td>\n",
       "      <td>tannerdanny@mccullough.com</td>\n",
       "    </tr>\n",
       "    <tr>\n",
       "      <th>4</th>\n",
       "      <td>Business-Email-Address: johnsonbrian@yahoo.com</td>\n",
       "      <td>bryce05@bell-mcbride.net.au</td>\n",
       "    </tr>\n",
       "    <tr>\n",
       "      <th>...</th>\n",
       "      <td>...</td>\n",
       "      <td>...</td>\n",
       "    </tr>\n",
       "    <tr>\n",
       "      <th>8995</th>\n",
       "      <td>Electronic_Mail_Address: jmedina@armstrong.info</td>\n",
       "      <td>randalltonya@hotmail.com</td>\n",
       "    </tr>\n",
       "    <tr>\n",
       "      <th>8996</th>\n",
       "      <td>OFFICEEMAILID: juliegates@hotmail.com</td>\n",
       "      <td>mbell@hotmail.com</td>\n",
       "    </tr>\n",
       "    <tr>\n",
       "      <th>8997</th>\n",
       "      <td>officeEmailId: gonzalezmary@yahoo.com</td>\n",
       "      <td>rachel13@hotmail.com</td>\n",
       "    </tr>\n",
       "    <tr>\n",
       "      <th>8998</th>\n",
       "      <td>PERSONAL-EMAIL: strongsteven@hotmail.com</td>\n",
       "      <td>paul24@reyes.org</td>\n",
       "    </tr>\n",
       "    <tr>\n",
       "      <th>8999</th>\n",
       "      <td>Electronic_Mail_Address: tinawilson@foster.biz</td>\n",
       "      <td>mary43@miller.com</td>\n",
       "    </tr>\n",
       "  </tbody>\n",
       "</table>\n",
       "<p>9000 rows × 2 columns</p>\n",
       "</div>"
      ],
      "text/plain": [
       "                                         input_entity  \\\n",
       "0          Personal_Email: trevorsolis@hotmail.com.au   \n",
       "1            E MAIL ADDRESS: elizabeth83@jones.org.au   \n",
       "2           Office-Email-Id: curtiscampbell@gmail.com   \n",
       "3           Electronic-Mail-Address: xcross@yahoo.com   \n",
       "4      Business-Email-Address: johnsonbrian@yahoo.com   \n",
       "...                                               ...   \n",
       "8995  Electronic_Mail_Address: jmedina@armstrong.info   \n",
       "8996            OFFICEEMAILID: juliegates@hotmail.com   \n",
       "8997            officeEmailId: gonzalezmary@yahoo.com   \n",
       "8998         PERSONAL-EMAIL: strongsteven@hotmail.com   \n",
       "8999   Electronic_Mail_Address: tinawilson@foster.biz   \n",
       "\n",
       "                            output_entity  \n",
       "0            rbrown@valdez-hendrix.com.au  \n",
       "1     jefferyferguson@parrish-russell.net  \n",
       "2           echavez@stevenson-gibson.info  \n",
       "3              tannerdanny@mccullough.com  \n",
       "4             bryce05@bell-mcbride.net.au  \n",
       "...                                   ...  \n",
       "8995             randalltonya@hotmail.com  \n",
       "8996                    mbell@hotmail.com  \n",
       "8997                 rachel13@hotmail.com  \n",
       "8998                     paul24@reyes.org  \n",
       "8999                    mary43@miller.com  \n",
       "\n",
       "[9000 rows x 2 columns]"
      ]
     },
     "execution_count": 53,
     "metadata": {},
     "output_type": "execute_result"
    }
   ],
   "source": [
    "res"
   ]
  },
  {
   "cell_type": "code",
   "execution_count": null,
   "metadata": {},
   "outputs": [],
   "source": []
  },
  {
   "cell_type": "code",
   "execution_count": null,
   "metadata": {},
   "outputs": [],
   "source": []
  }
 ],
 "metadata": {
  "kernelspec": {
   "display_name": "Python 3.8.13 ('reticle')",
   "language": "python",
   "name": "python3"
  },
  "language_info": {
   "codemirror_mode": {
    "name": "ipython",
    "version": 3
   },
   "file_extension": ".py",
   "mimetype": "text/x-python",
   "name": "python",
   "nbconvert_exporter": "python",
   "pygments_lexer": "ipython3",
   "version": "3.8.13"
  },
  "orig_nbformat": 4,
  "vscode": {
   "interpreter": {
    "hash": "09ec2db156a7209681ea734e4f7b85e602c6e683f9c0304fe8b6394a4a1b5475"
   }
  }
 },
 "nbformat": 4,
 "nbformat_minor": 2
}
