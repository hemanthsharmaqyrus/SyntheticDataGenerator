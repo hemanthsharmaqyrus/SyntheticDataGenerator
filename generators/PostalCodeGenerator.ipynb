{
 "cells": [
  {
   "cell_type": "code",
   "execution_count": 1,
   "metadata": {},
   "outputs": [],
   "source": [
    "from faker import Faker\n",
    "import random\n",
    "from generatorUtils import LabelTransformations"
   ]
  },
  {
   "cell_type": "code",
   "execution_count": 15,
   "metadata": {},
   "outputs": [],
   "source": [
    "labels = ['postal code', 'post code', 'zip code', 'zip number']"
   ]
  },
  {
   "cell_type": "code",
   "execution_count": 17,
   "metadata": {},
   "outputs": [],
   "source": [
    "class PostalCodeGenerator:\n",
    "    def __init__(self, num_of_samples):\n",
    "        self.num_of_samples = num_of_samples\n",
    "        self.labelTransformations = LabelTransformations()\n",
    "        \n",
    "        self.locales = ['en_AU', 'en_CA', 'en_GB', 'en_IE', 'en_IN', 'en_NZ', 'en_PH', 'en_TH', 'en_US']\n",
    "\n",
    "    def generatePostal(self, labels):\n",
    "        labels = list(set(self.labelTransformations(labels)))\n",
    "\n",
    "        inputs = []\n",
    "        outputs = []\n",
    "\n",
    "        \n",
    "        for locale in self.locales:\n",
    "            self.f = Faker(locale=locale)\n",
    "            for i in range(self.num_of_samples):\n",
    "                label = random.choice(labels)\n",
    "                input_postcode = self.f.postcode()\n",
    "                output_postcode = self.f.postcode()\n",
    "                inputs.append(label + ': ' + input_postcode)\n",
    "                outputs.append(output_postcode)\n",
    "        return inputs, outputs\n",
    "            "
   ]
  },
  {
   "cell_type": "code",
   "execution_count": 18,
   "metadata": {},
   "outputs": [],
   "source": [
    "postalCodeGenerator = PostalCodeGenerator(num_of_samples=300)"
   ]
  },
  {
   "cell_type": "code",
   "execution_count": 19,
   "metadata": {},
   "outputs": [],
   "source": [
    "input, output = postalCodeGenerator.generatePostal(labels)"
   ]
  },
  {
   "cell_type": "code",
   "execution_count": 20,
   "metadata": {},
   "outputs": [
    {
     "data": {
      "text/plain": [
       "[('post-code: 2966', '2554'),\n",
       " ('zipnumber: 3323', '7198'),\n",
       " ('postCode: 7481', '2274'),\n",
       " ('ZIP_CODE: 2009', '2975'),\n",
       " ('Zip-Number: 2920', '2417'),\n",
       " ('Postal_Code: 4203', '5764'),\n",
       " ('postalCode: 2180', '6310'),\n",
       " ('ZIPNUMBER: 2699', '2838'),\n",
       " ('postal-code: 2687', '2484'),\n",
       " ('ZIP_NUMBER: 5464', '2018'),\n",
       " ('zipNumber: 5307', '0942'),\n",
       " ('ZipNumber: 2997', '2643'),\n",
       " ('ZIPNUMBER: 4130', '8885'),\n",
       " ('Post Code: 2032', '8790'),\n",
       " ('Post_Code: 2433', '2480'),\n",
       " ('zip number: 2687', '2988'),\n",
       " ('ZIP NUMBER: 2950', '2820'),\n",
       " ('Post_Code: 2933', '2625'),\n",
       " ('PostCode: 2663', '2617'),\n",
       " ('PostalCode: 2360', '2743')]"
      ]
     },
     "execution_count": 20,
     "metadata": {},
     "output_type": "execute_result"
    }
   ],
   "source": [
    "list(zip(input, output))[:20]"
   ]
  },
  {
   "cell_type": "code",
   "execution_count": 21,
   "metadata": {},
   "outputs": [],
   "source": [
    "import pandas as pd\n",
    "res = pd.DataFrame(columns=['input_entity', 'output_entity'])"
   ]
  },
  {
   "cell_type": "code",
   "execution_count": 22,
   "metadata": {},
   "outputs": [],
   "source": [
    "res['input_entity'] = input\n",
    "res['output_entity'] = output"
   ]
  },
  {
   "cell_type": "code",
   "execution_count": 23,
   "metadata": {},
   "outputs": [
    {
     "data": {
      "text/plain": [
       "2700"
      ]
     },
     "execution_count": 23,
     "metadata": {},
     "output_type": "execute_result"
    }
   ],
   "source": [
    "len(res)"
   ]
  },
  {
   "cell_type": "code",
   "execution_count": 24,
   "metadata": {},
   "outputs": [],
   "source": [
    "res.to_csv('pincode_data.csv', index=False)"
   ]
  },
  {
   "cell_type": "code",
   "execution_count": 25,
   "metadata": {},
   "outputs": [
    {
     "data": {
      "text/html": [
       "<div>\n",
       "<style scoped>\n",
       "    .dataframe tbody tr th:only-of-type {\n",
       "        vertical-align: middle;\n",
       "    }\n",
       "\n",
       "    .dataframe tbody tr th {\n",
       "        vertical-align: top;\n",
       "    }\n",
       "\n",
       "    .dataframe thead th {\n",
       "        text-align: right;\n",
       "    }\n",
       "</style>\n",
       "<table border=\"1\" class=\"dataframe\">\n",
       "  <thead>\n",
       "    <tr style=\"text-align: right;\">\n",
       "      <th></th>\n",
       "      <th>input_entity</th>\n",
       "      <th>output_entity</th>\n",
       "    </tr>\n",
       "  </thead>\n",
       "  <tbody>\n",
       "    <tr>\n",
       "      <th>0</th>\n",
       "      <td>post-code: 2966</td>\n",
       "      <td>2554</td>\n",
       "    </tr>\n",
       "    <tr>\n",
       "      <th>1</th>\n",
       "      <td>zipnumber: 3323</td>\n",
       "      <td>7198</td>\n",
       "    </tr>\n",
       "    <tr>\n",
       "      <th>2</th>\n",
       "      <td>postCode: 7481</td>\n",
       "      <td>2274</td>\n",
       "    </tr>\n",
       "    <tr>\n",
       "      <th>3</th>\n",
       "      <td>ZIP_CODE: 2009</td>\n",
       "      <td>2975</td>\n",
       "    </tr>\n",
       "    <tr>\n",
       "      <th>4</th>\n",
       "      <td>Zip-Number: 2920</td>\n",
       "      <td>2417</td>\n",
       "    </tr>\n",
       "    <tr>\n",
       "      <th>...</th>\n",
       "      <td>...</td>\n",
       "      <td>...</td>\n",
       "    </tr>\n",
       "    <tr>\n",
       "      <th>2695</th>\n",
       "      <td>Postal-Code: 25528</td>\n",
       "      <td>93830</td>\n",
       "    </tr>\n",
       "    <tr>\n",
       "      <th>2696</th>\n",
       "      <td>zip-number: 73659</td>\n",
       "      <td>40255</td>\n",
       "    </tr>\n",
       "    <tr>\n",
       "      <th>2697</th>\n",
       "      <td>postal code: 44324</td>\n",
       "      <td>00746</td>\n",
       "    </tr>\n",
       "    <tr>\n",
       "      <th>2698</th>\n",
       "      <td>postalcode: 08115</td>\n",
       "      <td>14704</td>\n",
       "    </tr>\n",
       "    <tr>\n",
       "      <th>2699</th>\n",
       "      <td>zipnumber: 61577</td>\n",
       "      <td>34350</td>\n",
       "    </tr>\n",
       "  </tbody>\n",
       "</table>\n",
       "<p>2700 rows × 2 columns</p>\n",
       "</div>"
      ],
      "text/plain": [
       "            input_entity output_entity\n",
       "0        post-code: 2966          2554\n",
       "1        zipnumber: 3323          7198\n",
       "2         postCode: 7481          2274\n",
       "3         ZIP_CODE: 2009          2975\n",
       "4       Zip-Number: 2920          2417\n",
       "...                  ...           ...\n",
       "2695  Postal-Code: 25528         93830\n",
       "2696   zip-number: 73659         40255\n",
       "2697  postal code: 44324         00746\n",
       "2698   postalcode: 08115         14704\n",
       "2699    zipnumber: 61577         34350\n",
       "\n",
       "[2700 rows x 2 columns]"
      ]
     },
     "execution_count": 25,
     "metadata": {},
     "output_type": "execute_result"
    }
   ],
   "source": [
    "res"
   ]
  },
  {
   "cell_type": "code",
   "execution_count": null,
   "metadata": {},
   "outputs": [],
   "source": []
  }
 ],
 "metadata": {
  "kernelspec": {
   "display_name": "Python 3.8.13 ('reticle')",
   "language": "python",
   "name": "python3"
  },
  "language_info": {
   "codemirror_mode": {
    "name": "ipython",
    "version": 3
   },
   "file_extension": ".py",
   "mimetype": "text/x-python",
   "name": "python",
   "nbconvert_exporter": "python",
   "pygments_lexer": "ipython3",
   "version": "3.8.13"
  },
  "orig_nbformat": 4,
  "vscode": {
   "interpreter": {
    "hash": "09ec2db156a7209681ea734e4f7b85e602c6e683f9c0304fe8b6394a4a1b5475"
   }
  }
 },
 "nbformat": 4,
 "nbformat_minor": 2
}
