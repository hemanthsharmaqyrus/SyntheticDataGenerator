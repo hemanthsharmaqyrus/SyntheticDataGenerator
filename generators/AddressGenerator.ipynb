{
 "cells": [
  {
   "cell_type": "code",
   "execution_count": 1,
   "metadata": {},
   "outputs": [],
   "source": [
    "from faker import Faker\n",
    "import random\n",
    "from generatorUtils import LabelTransformations"
   ]
  },
  {
   "cell_type": "code",
   "execution_count": 2,
   "metadata": {},
   "outputs": [],
   "source": [
    "labels = ['address']"
   ]
  },
  {
   "cell_type": "code",
   "execution_count": 3,
   "metadata": {},
   "outputs": [],
   "source": [
    "class AddressGenerator:\n",
    "    def __init__(self, num_of_samples):\n",
    "        self.num_of_samples = num_of_samples\n",
    "        self.labelTransformations = LabelTransformations()\n",
    "        self.locales = ['en_AU', 'en_CA', 'en_GB', 'en_IE', 'en_IN', 'en_NZ', 'en_PH', 'en_TH', 'en_US']\n",
    "        \n",
    "\n",
    "    def generate_address(self, labels):\n",
    "        labels = list(set(self.labelTransformations(labels)))\n",
    "\n",
    "        address_inputs = []\n",
    "        address_outputs = []\n",
    "\n",
    "        for locale in self.locales:\n",
    "            self.f = Faker(locale=locale)\n",
    "\n",
    "            for i in range(self.num_of_samples):\n",
    "                label = random.choice(labels)\n",
    "\n",
    "                address_inputs.append(label + ': ' + self.f.address())\n",
    "                address_outputs.append(self.f.address())\n",
    "        return address_inputs, address_outputs"
   ]
  },
  {
   "cell_type": "code",
   "execution_count": 4,
   "metadata": {},
   "outputs": [],
   "source": [
    "addressGenerator = AddressGenerator(num_of_samples=300)"
   ]
  },
  {
   "cell_type": "code",
   "execution_count": 5,
   "metadata": {},
   "outputs": [],
   "source": [
    "input, output = addressGenerator.generate_address(labels)"
   ]
  },
  {
   "cell_type": "code",
   "execution_count": 6,
   "metadata": {},
   "outputs": [
    {
     "data": {
      "text/plain": [
       "[('ADDRESS: 5 /\\n 93 Bean Cul-de-sac\\nLake Daniel, SA, 2668',\n",
       "  '71 Zachary Ring\\nJenkinsville, TAS, 2656'),\n",
       " ('ADDRESS: 92 Steven Ride\\nMichellefurt, NSW, 2592',\n",
       "  'Flat 97\\n 69 Denise Line\\nNorth Aaronstad, NSW, 2995'),\n",
       " ('address: Unit 28\\n 85 Kenneth Concourse\\nOlsenshire, QLD, 2931',\n",
       "  '94 /\\n 68 Bowers Rue\\nJayton, QLD, 4298'),\n",
       " ('address: 50 Andrea Corso\\nAndersonmouth, WA, 2972',\n",
       "  '643 Lynch Green\\nAndersonview, VIC, 9111'),\n",
       " ('Address: 7 Richard Byway\\nTeresafort, NSW, 2176',\n",
       "  '673 Chelsea Tor\\nKristenchester, NT, 2606'),\n",
       " ('address: Suite 392\\n 78 Garza Copse\\nEdwardmouth, SA, 2686',\n",
       "  '9 Skinner Courtyard\\nHernandezfort, NT, 2635'),\n",
       " ('ADDRESS: 975 Madeline Estate\\nNorth Emilyton, NT, 6540',\n",
       "  '919 William Byway\\nSt. Douglasshire, ACT, 2957'),\n",
       " ('Address: 9 /\\n 72 Andrew Range\\nSt. Ericachester, SA, 2920',\n",
       "  'Unit 92\\n 471 Elliott Pocket\\nEast Tina, QLD, 2096'),\n",
       " ('ADDRESS: Unit 12\\n 075 Yu State Highway\\nWest Kristen, WA, 2620',\n",
       "  'Level 9\\n 324 Frederick Causeway\\nSt. Anthonyland, WA, 2974'),\n",
       " ('Address: 4 /\\n 0 Turner Street\\nNorth Jeremy, VIC, 2660',\n",
       "  '81 Jose Firetrail\\nLake Meganmouth, NSW, 2985'),\n",
       " ('ADDRESS: 4 Shaw Grange\\nLake Theresachester, SA, 2434',\n",
       "  '024 Buchanan Footway\\nNorth Katie, NT, 3017'),\n",
       " ('Address: 88 Lowe Reserve\\nLake Lisafort, QLD, 0828',\n",
       "  'Unit 88\\n 029 Thomas Extension\\nMichaelbury, SA, 2677'),\n",
       " ('address: Flat 44\\n 52 Hale Villas\\nEricastad, SA, 3096',\n",
       "  '24 /\\n 4 Mason Thoroughfare\\nNew Matthew, QLD, 4977'),\n",
       " ('ADDRESS: 25 /\\n 7 Juan Cross\\nCortezhaven, SA, 0963',\n",
       "  'Level 9\\n 6 Courtney Wade\\nSt. Haley, VIC, 5769'),\n",
       " ('Address: Level 6\\n 63 Sarah Bridge\\nCynthiaview, TAS, 8897',\n",
       "  '3 /\\n 83 Jeremy Highroad\\nNorth Edward, QLD, 2668'),\n",
       " ('ADDRESS: 2 Leah Retreat\\nPort Stephen, WA, 2942',\n",
       "  'Flat 39\\n 39 Watkins Gate\\nJacobfort, SA, 2657'),\n",
       " ('address: Flat 64\\n 2 James Chase\\nJohnburgh, NT, 2759',\n",
       "  '099 Stafford Villas\\nJohnsonton, NT, 0994'),\n",
       " ('Address: 831 Ryan Ridgeway\\nPort Gregorybury, SA, 2911',\n",
       "  'Flat 69\\n 85 Adam Ring\\nLake Lauraland, ACT, 2945'),\n",
       " ('ADDRESS: Level 1\\n 09 Lisa Dale\\nHartmanmouth, NT, 2637',\n",
       "  '8 Trevor Gate\\nNew Melindaville, QLD, 2629'),\n",
       " ('address: Apt. 276\\n 463 Trevino Ring\\nNew Bruceton, NSW, 8497',\n",
       "  '0 Megan Block\\nMartinfurt, TAS, 2918')]"
      ]
     },
     "execution_count": 6,
     "metadata": {},
     "output_type": "execute_result"
    }
   ],
   "source": [
    "list(zip(input, output))[:20]"
   ]
  },
  {
   "cell_type": "code",
   "execution_count": 7,
   "metadata": {},
   "outputs": [],
   "source": [
    "import pandas as pd\n",
    "res = pd.DataFrame(columns=['input_entity', 'output_entity'])"
   ]
  },
  {
   "cell_type": "code",
   "execution_count": 8,
   "metadata": {},
   "outputs": [],
   "source": [
    "res['input_entity'] = input\n",
    "res['output_entity'] = output"
   ]
  },
  {
   "cell_type": "code",
   "execution_count": 9,
   "metadata": {},
   "outputs": [],
   "source": [
    "res.to_csv('Address_data.csv', index=False)"
   ]
  },
  {
   "cell_type": "code",
   "execution_count": null,
   "metadata": {},
   "outputs": [],
   "source": []
  }
 ],
 "metadata": {
  "kernelspec": {
   "display_name": "Python 3.8.13 ('reticle')",
   "language": "python",
   "name": "python3"
  },
  "language_info": {
   "codemirror_mode": {
    "name": "ipython",
    "version": 3
   },
   "file_extension": ".py",
   "mimetype": "text/x-python",
   "name": "python",
   "nbconvert_exporter": "python",
   "pygments_lexer": "ipython3",
   "version": "3.8.13"
  },
  "orig_nbformat": 4,
  "vscode": {
   "interpreter": {
    "hash": "09ec2db156a7209681ea734e4f7b85e602c6e683f9c0304fe8b6394a4a1b5475"
   }
  }
 },
 "nbformat": 4,
 "nbformat_minor": 2
}
