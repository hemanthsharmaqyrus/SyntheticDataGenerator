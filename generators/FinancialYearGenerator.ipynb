{
 "cells": [
  {
   "cell_type": "code",
   "execution_count": 1,
   "metadata": {},
   "outputs": [],
   "source": [
    "from faker import Faker\n",
    "import random\n",
    "from generatorUtils import LabelTransformations"
   ]
  },
  {
   "cell_type": "code",
   "execution_count": 3,
   "metadata": {},
   "outputs": [],
   "source": [
    "labels = ['Financial year', 'assessment year', 'FY', 'AY']"
   ]
  },
  {
   "cell_type": "code",
   "execution_count": 4,
   "metadata": {},
   "outputs": [],
   "source": [
    "class FYYearGenerator:\n",
    "    def __init__(self, num_of_samples):\n",
    "        self.num_of_samples = num_of_samples\n",
    "        self.labelTransformations = LabelTransformations()\n",
    "        self.f = Faker()\n",
    "\n",
    "    def generateFinancialYear(self, labels):\n",
    "        labels = list(set(self.labelTransformations(labels)))\n",
    "\n",
    "        inputs = []\n",
    "        outputs = []\n",
    "\n",
    "        for i in range(self.num_of_samples):\n",
    "            label = random.choice(labels)\n",
    "            input_year = self.f.year()\n",
    "            input_year = input_year + '-' + str(int(input_year)+1)[2:]\n",
    "\n",
    "            output_year = self.f.year()\n",
    "            output_year = output_year + '-' + str(int(output_year)+1)[2:]\n",
    "            \n",
    "            inputs.append(label + ': ' + input_year)\n",
    "            outputs.append(output_year)\n",
    "        return inputs, outputs"
   ]
  },
  {
   "cell_type": "code",
   "execution_count": 6,
   "metadata": {},
   "outputs": [],
   "source": [
    "financialYearGenerator = FYYearGenerator(num_of_samples=3000)"
   ]
  },
  {
   "cell_type": "code",
   "execution_count": 7,
   "metadata": {},
   "outputs": [],
   "source": [
    "input, output = financialYearGenerator.generateFinancialYear(labels)"
   ]
  },
  {
   "cell_type": "code",
   "execution_count": 8,
   "metadata": {},
   "outputs": [
    {
     "data": {
      "text/plain": [
       "[('assessment_year: 2003-04', '1992-93'),\n",
       " ('ay: 1995-96', '1993-94'),\n",
       " ('FinancialYear: 1977-78', '1999-00'),\n",
       " ('ASSESSMENT YEAR: 1989-90', '2014-15'),\n",
       " ('FY: 1981-82', '2020-21'),\n",
       " ('AssessmentYear: 1987-88', '2022-23'),\n",
       " ('FINANCIAL-YEAR: 2006-07', '1978-79'),\n",
       " ('Financial-Year: 1984-85', '1984-85'),\n",
       " ('assessment year: 1983-84', '2021-22'),\n",
       " ('FINANCIAL_YEAR: 1989-90', '1987-88'),\n",
       " ('assessment_year: 1989-90', '1983-84'),\n",
       " ('ASSESSMENT_YEAR: 2003-04', '1972-73'),\n",
       " ('FINANCIAL_YEAR: 1994-95', '1984-85'),\n",
       " ('fy: 1983-84', '1977-78'),\n",
       " ('ASSESSMENT-YEAR: 2007-08', '1971-72'),\n",
       " ('Assessment_Year: 2021-22', '1986-87'),\n",
       " ('ay: 1980-81', '1976-77'),\n",
       " ('AssessmentYear: 1984-85', '1999-00'),\n",
       " ('Financial Year: 2004-05', '2005-06'),\n",
       " ('Ay: 1997-98', '2017-18')]"
      ]
     },
     "execution_count": 8,
     "metadata": {},
     "output_type": "execute_result"
    }
   ],
   "source": [
    "list(zip(input, output))[:20]"
   ]
  },
  {
   "cell_type": "code",
   "execution_count": 9,
   "metadata": {},
   "outputs": [],
   "source": [
    "import pandas as pd\n",
    "res = pd.DataFrame(columns=['input_entity', 'output_entity'])"
   ]
  },
  {
   "cell_type": "code",
   "execution_count": 10,
   "metadata": {},
   "outputs": [],
   "source": [
    "res['input_entity'] = input\n",
    "res['output_entity'] = output"
   ]
  },
  {
   "cell_type": "code",
   "execution_count": 11,
   "metadata": {},
   "outputs": [
    {
     "data": {
      "text/plain": [
       "3000"
      ]
     },
     "execution_count": 11,
     "metadata": {},
     "output_type": "execute_result"
    }
   ],
   "source": [
    "len(res)"
   ]
  },
  {
   "cell_type": "code",
   "execution_count": 13,
   "metadata": {},
   "outputs": [],
   "source": [
    "res.to_csv('FinancialYear_data.csv', index=False)"
   ]
  },
  {
   "cell_type": "code",
   "execution_count": null,
   "metadata": {},
   "outputs": [],
   "source": []
  }
 ],
 "metadata": {
  "kernelspec": {
   "display_name": "Python 3.8.13 ('reticle')",
   "language": "python",
   "name": "python3"
  },
  "language_info": {
   "codemirror_mode": {
    "name": "ipython",
    "version": 3
   },
   "file_extension": ".py",
   "mimetype": "text/x-python",
   "name": "python",
   "nbconvert_exporter": "python",
   "pygments_lexer": "ipython3",
   "version": "3.8.13"
  },
  "orig_nbformat": 4,
  "vscode": {
   "interpreter": {
    "hash": "09ec2db156a7209681ea734e4f7b85e602c6e683f9c0304fe8b6394a4a1b5475"
   }
  }
 },
 "nbformat": 4,
 "nbformat_minor": 2
}
