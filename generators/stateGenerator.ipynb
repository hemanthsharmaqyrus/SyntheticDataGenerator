{
 "cells": [
  {
   "cell_type": "code",
   "execution_count": 3,
   "metadata": {},
   "outputs": [],
   "source": [
    "from faker import Faker\n",
    "import random\n",
    "from generatorUtils import LabelTransformations"
   ]
  },
  {
   "cell_type": "code",
   "execution_count": 4,
   "metadata": {},
   "outputs": [],
   "source": [
    "labels = ['state', 'location']"
   ]
  },
  {
   "cell_type": "code",
   "execution_count": 20,
   "metadata": {},
   "outputs": [],
   "source": [
    "class StateGenerator:\n",
    "    def __init__(self, num_of_samples):\n",
    "        self.num_of_samples = num_of_samples\n",
    "        self.labelTransformations = LabelTransformations()\n",
    "        self.locales = ['en_AU', 'en_IN', 'en_TH', 'en_US']\n",
    "\n",
    "    def data_transform(self, input_state, output_state):\n",
    "        state_transforms = [(input_state, output_state)]\n",
    "\n",
    "        state_transforms.append((self.labelTransformations.__all_words_capital__([input_state])[0], \\\n",
    "        self.labelTransformations.__all_words_capital__([output_state])[0]))\n",
    "\n",
    "        state_transforms.append((self.labelTransformations.__all_words_start_capital__([input_state])[0], \\\n",
    "        self.labelTransformations.__all_words_start_capital__([output_state])[0]))\n",
    "\n",
    "        state_transforms.append((self.labelTransformations.__all_words_small__([input_state])[0], \\\n",
    "        self.labelTransformations.__all_words_small__([output_state])[0]))\n",
    "\n",
    "        return random.choice(state_transforms)\n",
    "\n",
    "\n",
    "    def generateStates(self, labels):\n",
    "        labels = list(set(self.labelTransformations(labels)))\n",
    "\n",
    "        state_inputs = []\n",
    "        state_outputs = []\n",
    "        for locale in self.locales:\n",
    "            self.f = Faker(locale=locale)\n",
    "\n",
    "            for i in range(self.num_of_samples):\n",
    "                label = random.choice(labels)\n",
    "\n",
    "                input_state = self.f.state()\n",
    "                output_state = self.f.state()\n",
    "\n",
    "                input_state, output_state = self.data_transform(input_state, output_state)\n",
    "\n",
    "\n",
    "                state_inputs.append(label + ': ' + input_state)\n",
    "                state_outputs.append(output_state)\n",
    "\n",
    "        return state_inputs, state_outputs"
   ]
  },
  {
   "cell_type": "code",
   "execution_count": 21,
   "metadata": {},
   "outputs": [],
   "source": [
    "StateGenerator = StateGenerator(num_of_samples=300)"
   ]
  },
  {
   "cell_type": "code",
   "execution_count": 22,
   "metadata": {},
   "outputs": [],
   "source": [
    "input, output = StateGenerator.generateStates(labels)"
   ]
  },
  {
   "cell_type": "code",
   "execution_count": 23,
   "metadata": {},
   "outputs": [
    {
     "data": {
      "text/plain": [
       "[('state: queensland', 'victoria'),\n",
       " ('location: Tasmania', 'Victoria'),\n",
       " ('location: SOUTH AUSTRALIA', 'NEW SOUTH WALES'),\n",
       " ('STATE: south australia', 'south australia'),\n",
       " ('location: queensland', 'south australia'),\n",
       " ('State: AUSTRALIAN CAPITAL TERRITORY', 'NEW SOUTH WALES'),\n",
       " ('LOCATION: Tasmania', 'South Australia'),\n",
       " ('LOCATION: queensland', 'victoria'),\n",
       " ('State: Victoria', 'Northern Territory'),\n",
       " ('location: Queensland', 'Tasmania'),\n",
       " ('State: South Australia', 'Australian Capital Territory'),\n",
       " ('LOCATION: Australian Capital Territory', 'New South Wales'),\n",
       " ('state: queensland', 'new south wales'),\n",
       " ('State: victoria', 'western australia'),\n",
       " ('STATE: new south wales', 'victoria'),\n",
       " ('State: NEW SOUTH WALES', 'QUEENSLAND'),\n",
       " ('location: south australia', 'queensland'),\n",
       " ('STATE: WESTERN AUSTRALIA', 'TASMANIA'),\n",
       " ('STATE: Northern Territory', 'South Australia'),\n",
       " ('State: NORTHERN TERRITORY', 'NORTHERN TERRITORY')]"
      ]
     },
     "execution_count": 23,
     "metadata": {},
     "output_type": "execute_result"
    }
   ],
   "source": [
    "list(zip(input, output))[:20]"
   ]
  },
  {
   "cell_type": "code",
   "execution_count": 24,
   "metadata": {},
   "outputs": [],
   "source": [
    "import pandas as pd\n",
    "res = pd.DataFrame(columns=['input_entity', 'output_entity'])"
   ]
  },
  {
   "cell_type": "code",
   "execution_count": 25,
   "metadata": {},
   "outputs": [],
   "source": [
    "res['input_entity'] = input\n",
    "res['output_entity'] = output"
   ]
  },
  {
   "cell_type": "code",
   "execution_count": 26,
   "metadata": {},
   "outputs": [],
   "source": [
    "res.to_csv('state_data.csv', index=False)"
   ]
  },
  {
   "cell_type": "code",
   "execution_count": 27,
   "metadata": {},
   "outputs": [
    {
     "data": {
      "text/plain": [
       "1200"
      ]
     },
     "execution_count": 27,
     "metadata": {},
     "output_type": "execute_result"
    }
   ],
   "source": [
    "len(res)"
   ]
  },
  {
   "cell_type": "code",
   "execution_count": null,
   "metadata": {},
   "outputs": [],
   "source": []
  }
 ],
 "metadata": {
  "kernelspec": {
   "display_name": "Python 3.8.13 ('reticle')",
   "language": "python",
   "name": "python3"
  },
  "language_info": {
   "codemirror_mode": {
    "name": "ipython",
    "version": 3
   },
   "file_extension": ".py",
   "mimetype": "text/x-python",
   "name": "python",
   "nbconvert_exporter": "python",
   "pygments_lexer": "ipython3",
   "version": "3.8.13"
  },
  "orig_nbformat": 4,
  "vscode": {
   "interpreter": {
    "hash": "09ec2db156a7209681ea734e4f7b85e602c6e683f9c0304fe8b6394a4a1b5475"
   }
  }
 },
 "nbformat": 4,
 "nbformat_minor": 2
}
