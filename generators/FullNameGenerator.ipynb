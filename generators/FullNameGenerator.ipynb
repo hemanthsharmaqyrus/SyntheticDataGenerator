{
 "cells": [
  {
   "cell_type": "code",
   "execution_count": 1,
   "metadata": {},
   "outputs": [],
   "source": [
    "from generatorUtils import LabelTransformations\n",
    "import random\n",
    "from faker import Faker\n",
    "f = Faker()\n",
    "\n"
   ]
  },
  {
   "cell_type": "code",
   "execution_count": 3,
   "metadata": {},
   "outputs": [],
   "source": [
    "labels = ['full name', 'employee full name', 'candidate full name', \n",
    "'Contestant full name', 'parent full name', \n",
    "\"Father's full name\", \"Mother's full name\",\n",
    "\"recipient full name\", \"student full name\", \"name\"]"
   ]
  },
  {
   "cell_type": "code",
   "execution_count": 5,
   "metadata": {},
   "outputs": [],
   "source": [
    "class FullNameGenerators:\n",
    "    def __init__(self, num_of_samples):\n",
    "        self.labelTransformations = LabelTransformations()\n",
    "        self.num_of_samples = num_of_samples\n",
    "        \n",
    "\n",
    "        self.locales = ['en_AU', 'en_CA', 'en_GB', 'en_IE', 'en_IN', 'en_NZ', 'en_PH', 'en_TH', 'en_US']\n",
    "\n",
    "    def generateFullNames(self, labels):\n",
    "        labels = list(set(self.labelTransformations(labels)))\n",
    "        input_list = []\n",
    "        output_list = []\n",
    "\n",
    "        for locale in self.locales:\n",
    "            self.f = Faker(locale=locale)\n",
    "\n",
    "            for i in range(self.num_of_samples):\n",
    "                label = random.choice(labels)\n",
    "                input_last_name = self.f.name_male()\n",
    "                output_last_name = self.f.name_male()\n",
    "                input_list.append(label + ': ' + input_last_name)\n",
    "                output_list.append(output_last_name)\n",
    "\n",
    "                label = random.choice(labels)\n",
    "                input_last_name = self.f.name_female()\n",
    "                output_last_name = self.f.name_female()\n",
    "                input_list.append(label + ': ' + input_last_name)\n",
    "                output_list.append(output_last_name)\n",
    "        return input_list, output_list\n",
    "\n",
    "\n",
    "            "
   ]
  },
  {
   "cell_type": "code",
   "execution_count": 6,
   "metadata": {},
   "outputs": [],
   "source": [
    "fullNameGenerators = FullNameGenerators(num_of_samples=300)"
   ]
  },
  {
   "cell_type": "code",
   "execution_count": 7,
   "metadata": {},
   "outputs": [],
   "source": [
    "input, output = fullNameGenerators.generateFullNames(labels)"
   ]
  },
  {
   "cell_type": "code",
   "execution_count": 13,
   "metadata": {},
   "outputs": [
    {
     "data": {
      "text/plain": [
       "[('contestantFullName: David Pratt', 'Eric Ramirez'),\n",
       " ('candidateFullName: Hannah Greene', 'Deborah Fields'),\n",
       " ('PARENT-FULL-NAME: Nathan Williams', 'Logan Smith'),\n",
       " ('FullName: Jill Ayers', 'Carmen Adams'),\n",
       " ('student-full-name: Randy Reese', 'Ronald Reynolds'),\n",
       " ('FULLNAME: Rose Simmons', 'Kimberly Nunez'),\n",
       " ('RECIPIENT_FULL_NAME: Steven Hatfield', 'Ronald Delgado'),\n",
       " ('Student-Full-Name: Tammy Santiago', 'Patricia Reyes'),\n",
       " ('Contestant_Full_Name: Jeffrey Schaefer', 'William Robertson'),\n",
       " ('Contestant_Full_Name: Anna Adkins', 'Cathy Lucas'),\n",
       " ('contestant-full-name: Kenneth Hayden', 'David Davis'),\n",
       " ('RECIPIENT_FULL_NAME: Yvonne Cruz', 'Jennifer Harris'),\n",
       " (\"FATHER'SFULLNAME: Darrell Rios\", 'Anthony Anderson'),\n",
       " ('fullname: Catherine Zuniga', 'Colleen Reynolds'),\n",
       " (\"FATHER'SFULLNAME: Peter Hamilton\", 'Eugene Cruz'),\n",
       " (\"Mother'SFullName: Tammy Williams\", 'Frances Cobb'),\n",
       " ('Employee_Full_Name: Luis Young', 'Brendan Garcia'),\n",
       " ('candidate full name: Jessica Richardson', 'Kayla Williams'),\n",
       " (\"MOTHER'S-FULL-NAME: Eddie King\", 'David Yu'),\n",
       " ('EMPLOYEE_FULL_NAME: Kelsey Hill', 'Michelle Banks')]"
      ]
     },
     "execution_count": 13,
     "metadata": {},
     "output_type": "execute_result"
    }
   ],
   "source": [
    "list(zip(input, output))[:20]"
   ]
  },
  {
   "cell_type": "code",
   "execution_count": 14,
   "metadata": {},
   "outputs": [],
   "source": [
    "import pandas as pd\n",
    "res = pd.DataFrame(columns=['input_entity', 'output_entity'])"
   ]
  },
  {
   "cell_type": "code",
   "execution_count": 15,
   "metadata": {},
   "outputs": [],
   "source": [
    "res['input_entity'] = input\n",
    "res['output_entity'] = output"
   ]
  },
  {
   "cell_type": "code",
   "execution_count": 16,
   "metadata": {},
   "outputs": [
    {
     "data": {
      "text/plain": [
       "5400"
      ]
     },
     "execution_count": 16,
     "metadata": {},
     "output_type": "execute_result"
    }
   ],
   "source": [
    "len(res)"
   ]
  },
  {
   "cell_type": "code",
   "execution_count": 17,
   "metadata": {},
   "outputs": [],
   "source": [
    "res.to_csv('FullName_data.csv', index=False)"
   ]
  },
  {
   "cell_type": "code",
   "execution_count": 18,
   "metadata": {},
   "outputs": [
    {
     "data": {
      "text/html": [
       "<div>\n",
       "<style scoped>\n",
       "    .dataframe tbody tr th:only-of-type {\n",
       "        vertical-align: middle;\n",
       "    }\n",
       "\n",
       "    .dataframe tbody tr th {\n",
       "        vertical-align: top;\n",
       "    }\n",
       "\n",
       "    .dataframe thead th {\n",
       "        text-align: right;\n",
       "    }\n",
       "</style>\n",
       "<table border=\"1\" class=\"dataframe\">\n",
       "  <thead>\n",
       "    <tr style=\"text-align: right;\">\n",
       "      <th></th>\n",
       "      <th>input_entity</th>\n",
       "      <th>output_entity</th>\n",
       "    </tr>\n",
       "  </thead>\n",
       "  <tbody>\n",
       "    <tr>\n",
       "      <th>0</th>\n",
       "      <td>contestantFullName: David Pratt</td>\n",
       "      <td>Eric Ramirez</td>\n",
       "    </tr>\n",
       "    <tr>\n",
       "      <th>1</th>\n",
       "      <td>candidateFullName: Hannah Greene</td>\n",
       "      <td>Deborah Fields</td>\n",
       "    </tr>\n",
       "    <tr>\n",
       "      <th>2</th>\n",
       "      <td>PARENT-FULL-NAME: Nathan Williams</td>\n",
       "      <td>Logan Smith</td>\n",
       "    </tr>\n",
       "    <tr>\n",
       "      <th>3</th>\n",
       "      <td>FullName: Jill Ayers</td>\n",
       "      <td>Carmen Adams</td>\n",
       "    </tr>\n",
       "    <tr>\n",
       "      <th>4</th>\n",
       "      <td>student-full-name: Randy Reese</td>\n",
       "      <td>Ronald Reynolds</td>\n",
       "    </tr>\n",
       "    <tr>\n",
       "      <th>...</th>\n",
       "      <td>...</td>\n",
       "      <td>...</td>\n",
       "    </tr>\n",
       "    <tr>\n",
       "      <th>5395</th>\n",
       "      <td>RECIPIENT-FULL-NAME: Emily Carlson</td>\n",
       "      <td>Amanda Brown</td>\n",
       "    </tr>\n",
       "    <tr>\n",
       "      <th>5396</th>\n",
       "      <td>EMPLOYEE-FULL-NAME: Daniel Woods</td>\n",
       "      <td>Ronald Williamson</td>\n",
       "    </tr>\n",
       "    <tr>\n",
       "      <th>5397</th>\n",
       "      <td>Parent_Full_Name: Tara Mccall</td>\n",
       "      <td>Amber Watson</td>\n",
       "    </tr>\n",
       "    <tr>\n",
       "      <th>5398</th>\n",
       "      <td>Mother'SFullName: Benjamin Johnson</td>\n",
       "      <td>Eric Contreras</td>\n",
       "    </tr>\n",
       "    <tr>\n",
       "      <th>5399</th>\n",
       "      <td>mother's full name: Angela Willis</td>\n",
       "      <td>Brandi Castro</td>\n",
       "    </tr>\n",
       "  </tbody>\n",
       "</table>\n",
       "<p>5400 rows × 2 columns</p>\n",
       "</div>"
      ],
      "text/plain": [
       "                            input_entity      output_entity\n",
       "0        contestantFullName: David Pratt       Eric Ramirez\n",
       "1       candidateFullName: Hannah Greene     Deborah Fields\n",
       "2      PARENT-FULL-NAME: Nathan Williams        Logan Smith\n",
       "3                   FullName: Jill Ayers       Carmen Adams\n",
       "4         student-full-name: Randy Reese    Ronald Reynolds\n",
       "...                                  ...                ...\n",
       "5395  RECIPIENT-FULL-NAME: Emily Carlson       Amanda Brown\n",
       "5396    EMPLOYEE-FULL-NAME: Daniel Woods  Ronald Williamson\n",
       "5397       Parent_Full_Name: Tara Mccall       Amber Watson\n",
       "5398  Mother'SFullName: Benjamin Johnson     Eric Contreras\n",
       "5399   mother's full name: Angela Willis      Brandi Castro\n",
       "\n",
       "[5400 rows x 2 columns]"
      ]
     },
     "execution_count": 18,
     "metadata": {},
     "output_type": "execute_result"
    }
   ],
   "source": [
    "res"
   ]
  },
  {
   "cell_type": "code",
   "execution_count": null,
   "metadata": {},
   "outputs": [],
   "source": []
  }
 ],
 "metadata": {
  "kernelspec": {
   "display_name": "Python 3.8.13 ('reticle')",
   "language": "python",
   "name": "python3"
  },
  "language_info": {
   "codemirror_mode": {
    "name": "ipython",
    "version": 3
   },
   "file_extension": ".py",
   "mimetype": "text/x-python",
   "name": "python",
   "nbconvert_exporter": "python",
   "pygments_lexer": "ipython3",
   "version": "3.8.13"
  },
  "orig_nbformat": 4,
  "vscode": {
   "interpreter": {
    "hash": "09ec2db156a7209681ea734e4f7b85e602c6e683f9c0304fe8b6394a4a1b5475"
   }
  }
 },
 "nbformat": 4,
 "nbformat_minor": 2
}
