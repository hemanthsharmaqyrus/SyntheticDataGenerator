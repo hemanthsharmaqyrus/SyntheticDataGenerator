{
 "cells": [
  {
   "cell_type": "code",
   "execution_count": 1,
   "metadata": {},
   "outputs": [],
   "source": [
    "from faker import Faker\n",
    "import random\n",
    "from generatorUtils import LabelTransformations"
   ]
  },
  {
   "cell_type": "code",
   "execution_count": 2,
   "metadata": {},
   "outputs": [],
   "source": [
    "labels = ['country_code', 'Nationality', 'Nation code', 'country_code code']"
   ]
  },
  {
   "cell_type": "code",
   "execution_count": 3,
   "metadata": {},
   "outputs": [],
   "source": [
    "class CountryCodeGenerator:\n",
    "    def __init__(self, num_of_samples):\n",
    "        self.num_of_samples = num_of_samples\n",
    "        self.labelTransformations = LabelTransformations()\n",
    "        self.f = Faker()\n",
    "\n",
    "    def data_transform(self, input_country_code, output_country_code):\n",
    "        country_code_transforms = [(input_country_code, output_country_code)]\n",
    "\n",
    "        country_code_transforms.append((self.labelTransformations.__all_words_capital__([input_country_code])[0], \\\n",
    "        self.labelTransformations.__all_words_capital__([output_country_code])[0]))\n",
    "\n",
    "        country_code_transforms.append((self.labelTransformations.__all_words_start_capital__([input_country_code])[0], \\\n",
    "        self.labelTransformations.__all_words_start_capital__([output_country_code])[0]))\n",
    "\n",
    "        country_code_transforms.append((self.labelTransformations.__all_words_small__([input_country_code])[0], \\\n",
    "        self.labelTransformations.__all_words_small__([output_country_code])[0]))\n",
    "\n",
    "        return random.choice(country_code_transforms)\n",
    "\n",
    "\n",
    "    def generateCountries(self, labels):\n",
    "        labels = list(set(self.labelTransformations(labels)))\n",
    "\n",
    "        country_code_inputs = []\n",
    "        country_code_outputs = []\n",
    "        \n",
    "            \n",
    "\n",
    "        for i in range(self.num_of_samples):\n",
    "            label = random.choice(labels)\n",
    "\n",
    "            input_country_code = self.f.country_code()\n",
    "            output_country_code = self.f.country_code()\n",
    "\n",
    "            input_country_code, output_country_code = self.data_transform(input_country_code, output_country_code)\n",
    "\n",
    "\n",
    "            country_code_inputs.append(label + ': ' + input_country_code)\n",
    "            country_code_outputs.append(output_country_code)\n",
    "\n",
    "        return country_code_inputs, country_code_outputs"
   ]
  },
  {
   "cell_type": "code",
   "execution_count": 4,
   "metadata": {},
   "outputs": [],
   "source": [
    "countryCodeGenerator = CountryCodeGenerator(num_of_samples=300)"
   ]
  },
  {
   "cell_type": "code",
   "execution_count": 5,
   "metadata": {},
   "outputs": [],
   "source": [
    "input, output = countryCodeGenerator.generateCountries(labels)"
   ]
  },
  {
   "cell_type": "code",
   "execution_count": 6,
   "metadata": {},
   "outputs": [
    {
     "data": {
      "text/plain": [
       "[('COUNTRY_CODE: Al', 'Vc'),\n",
       " ('country code: PE', 'FI'),\n",
       " ('countrycode: US', 'SK'),\n",
       " ('Nation-Code: BT', 'DK'),\n",
       " ('CountryCode: Uy', 'Pk'),\n",
       " ('Nation-Code: Ao', 'Sn'),\n",
       " ('NATION CODE: Am', 'Tz'),\n",
       " ('countrycode: SV', 'BJ'),\n",
       " ('Nation-Code: Md', 'Cv'),\n",
       " ('country code: Tz', 'Gq'),\n",
       " ('NATION_CODE: Mx', 'Nz'),\n",
       " ('nation_code: ls', 'mg'),\n",
       " ('Country-Code: rs', 'km'),\n",
       " ('countrycode: CM', 'DZ'),\n",
       " ('nationcode: LY', 'NZ'),\n",
       " ('nation-code: LA', 'AU'),\n",
       " ('countryCode: FR', 'CL'),\n",
       " ('NATIONALITY: Gn', 'Zw'),\n",
       " ('NATIONCODE: BD', 'BI'),\n",
       " ('Nation_Code: AU', 'GH')]"
      ]
     },
     "execution_count": 6,
     "metadata": {},
     "output_type": "execute_result"
    }
   ],
   "source": [
    "list(zip(input, output))[:20]"
   ]
  },
  {
   "cell_type": "code",
   "execution_count": 7,
   "metadata": {},
   "outputs": [],
   "source": [
    "import pandas as pd\n",
    "res = pd.DataFrame(columns=['input_entity', 'output_entity'])"
   ]
  },
  {
   "cell_type": "code",
   "execution_count": 8,
   "metadata": {},
   "outputs": [],
   "source": [
    "res['input_entity'] = input\n",
    "res['output_entity'] = output"
   ]
  },
  {
   "cell_type": "code",
   "execution_count": 9,
   "metadata": {},
   "outputs": [],
   "source": [
    "res.to_csv('country_code_data.csv', index=False)"
   ]
  },
  {
   "cell_type": "code",
   "execution_count": 10,
   "metadata": {},
   "outputs": [
    {
     "data": {
      "text/plain": [
       "300"
      ]
     },
     "execution_count": 10,
     "metadata": {},
     "output_type": "execute_result"
    }
   ],
   "source": [
    "len(res)"
   ]
  },
  {
   "cell_type": "code",
   "execution_count": null,
   "metadata": {},
   "outputs": [],
   "source": []
  }
 ],
 "metadata": {
  "kernelspec": {
   "display_name": "Python 3.8.13 ('reticle')",
   "language": "python",
   "name": "python3"
  },
  "language_info": {
   "codemirror_mode": {
    "name": "ipython",
    "version": 3
   },
   "file_extension": ".py",
   "mimetype": "text/x-python",
   "name": "python",
   "nbconvert_exporter": "python",
   "pygments_lexer": "ipython3",
   "version": "3.8.13"
  },
  "orig_nbformat": 4,
  "vscode": {
   "interpreter": {
    "hash": "09ec2db156a7209681ea734e4f7b85e602c6e683f9c0304fe8b6394a4a1b5475"
   }
  }
 },
 "nbformat": 4,
 "nbformat_minor": 2
}
