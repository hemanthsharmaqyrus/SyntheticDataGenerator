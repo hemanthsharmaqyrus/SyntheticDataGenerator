{
 "cells": [
  {
   "cell_type": "code",
   "execution_count": 1,
   "metadata": {},
   "outputs": [],
   "source": [
    "from faker import Faker\n",
    "import random\n",
    "from generatorUtils import LabelTransformations"
   ]
  },
  {
   "cell_type": "code",
   "execution_count": 2,
   "metadata": {},
   "outputs": [],
   "source": [
    "labels = ['name of the month', 'month', 'month name']"
   ]
  },
  {
   "cell_type": "code",
   "execution_count": 27,
   "metadata": {},
   "outputs": [],
   "source": [
    "class MonthNameGenerator:\n",
    "    def __init__(self, num_of_samples):\n",
    "        self.num_of_samples = num_of_samples\n",
    "        self.labelTransformations = LabelTransformations()\n",
    "        self.f = Faker()\n",
    "\n",
    "    def generateMonth(self, labels):\n",
    "        labels = list(set(self.labelTransformations(labels)))\n",
    "\n",
    "        inputs = []\n",
    "        outputs = []\n",
    "\n",
    "        for i in range(self.num_of_samples):\n",
    "            label = random.choice(labels)\n",
    "            input_month_name = self.f.month_name()\n",
    "            output_month_name = self.f.month_name()\n",
    "\n",
    "            \n",
    "            input_month_list = [self.labelTransformations.__all_words_capital__([input_month_name])[0],\n",
    "            self.labelTransformations.__all_words_small__([input_month_name])[0],\n",
    "            self.labelTransformations.__all_words_start_capital__([input_month_name])[0]]\n",
    "\n",
    "            \n",
    "\n",
    "            output_month_list = [self.labelTransformations.__all_words_capital__([output_month_name])[0],\n",
    "            self.labelTransformations.__all_words_small__([output_month_name])[0],\n",
    "            self.labelTransformations.__all_words_start_capital__([output_month_name])[0]]\n",
    "\n",
    "            index = random.choice(list(range(len(input_month_list))))\n",
    "\n",
    "            input_month_name = input_month_list[index]\n",
    "            output_month_name = output_month_list[index]\n",
    "            inputs.append(label + ': ' + input_month_name)\n",
    "            outputs.append(output_month_name)\n",
    "        return inputs, outputs\n",
    "            "
   ]
  },
  {
   "cell_type": "code",
   "execution_count": 34,
   "metadata": {},
   "outputs": [],
   "source": [
    "monthNameGenerator = MonthNameGenerator(num_of_samples=3000)"
   ]
  },
  {
   "cell_type": "code",
   "execution_count": 35,
   "metadata": {},
   "outputs": [],
   "source": [
    "input, output = monthNameGenerator.generateMonth(labels)"
   ]
  },
  {
   "cell_type": "code",
   "execution_count": 36,
   "metadata": {},
   "outputs": [
    {
     "data": {
      "text/plain": [
       "[('Name Of The Month: SEPTEMBER', 'JULY'),\n",
       " ('NAME OF THE MONTH: august', 'october'),\n",
       " ('name_of_the_month: march', 'april'),\n",
       " ('nameOfTheMonth: July', 'November'),\n",
       " ('Name_Of_The_Month: February', 'September'),\n",
       " ('Name-Of-The-Month: february', 'june'),\n",
       " ('monthName: march', 'june'),\n",
       " ('NAME-OF-THE-MONTH: November', 'August'),\n",
       " ('MONTH-NAME: MARCH', 'SEPTEMBER'),\n",
       " ('NameOfTheMonth: MARCH', 'AUGUST'),\n",
       " ('NameOfTheMonth: march', 'january'),\n",
       " ('monthname: November', 'January'),\n",
       " ('name_of_the_month: December', 'August'),\n",
       " ('MONTHNAME: december', 'february'),\n",
       " ('MONTH_NAME: october', 'march'),\n",
       " ('monthname: july', 'september'),\n",
       " ('Name Of The Month: November', 'November'),\n",
       " ('Name Of The Month: FEBRUARY', 'AUGUST'),\n",
       " ('MONTH_NAME: June', 'November'),\n",
       " ('MONTH NAME: JULY', 'SEPTEMBER')]"
      ]
     },
     "execution_count": 36,
     "metadata": {},
     "output_type": "execute_result"
    }
   ],
   "source": [
    "list(zip(input, output))[:20]"
   ]
  },
  {
   "cell_type": "code",
   "execution_count": 37,
   "metadata": {},
   "outputs": [],
   "source": [
    "import pandas as pd\n",
    "res = pd.DataFrame(columns=['input_entity', 'output_entity'])"
   ]
  },
  {
   "cell_type": "code",
   "execution_count": 38,
   "metadata": {},
   "outputs": [],
   "source": [
    "res['input_entity'] = input\n",
    "res['output_entity'] = output"
   ]
  },
  {
   "cell_type": "code",
   "execution_count": 39,
   "metadata": {},
   "outputs": [
    {
     "data": {
      "text/html": [
       "<div>\n",
       "<style scoped>\n",
       "    .dataframe tbody tr th:only-of-type {\n",
       "        vertical-align: middle;\n",
       "    }\n",
       "\n",
       "    .dataframe tbody tr th {\n",
       "        vertical-align: top;\n",
       "    }\n",
       "\n",
       "    .dataframe thead th {\n",
       "        text-align: right;\n",
       "    }\n",
       "</style>\n",
       "<table border=\"1\" class=\"dataframe\">\n",
       "  <thead>\n",
       "    <tr style=\"text-align: right;\">\n",
       "      <th></th>\n",
       "      <th>input_entity</th>\n",
       "      <th>output_entity</th>\n",
       "    </tr>\n",
       "  </thead>\n",
       "  <tbody>\n",
       "    <tr>\n",
       "      <th>0</th>\n",
       "      <td>Name Of The Month: SEPTEMBER</td>\n",
       "      <td>JULY</td>\n",
       "    </tr>\n",
       "    <tr>\n",
       "      <th>1</th>\n",
       "      <td>NAME OF THE MONTH: august</td>\n",
       "      <td>october</td>\n",
       "    </tr>\n",
       "    <tr>\n",
       "      <th>2</th>\n",
       "      <td>name_of_the_month: march</td>\n",
       "      <td>april</td>\n",
       "    </tr>\n",
       "    <tr>\n",
       "      <th>3</th>\n",
       "      <td>nameOfTheMonth: July</td>\n",
       "      <td>November</td>\n",
       "    </tr>\n",
       "    <tr>\n",
       "      <th>4</th>\n",
       "      <td>Name_Of_The_Month: February</td>\n",
       "      <td>September</td>\n",
       "    </tr>\n",
       "    <tr>\n",
       "      <th>...</th>\n",
       "      <td>...</td>\n",
       "      <td>...</td>\n",
       "    </tr>\n",
       "    <tr>\n",
       "      <th>2995</th>\n",
       "      <td>nameOfTheMonth: JULY</td>\n",
       "      <td>DECEMBER</td>\n",
       "    </tr>\n",
       "    <tr>\n",
       "      <th>2996</th>\n",
       "      <td>name_of_the_month: December</td>\n",
       "      <td>December</td>\n",
       "    </tr>\n",
       "    <tr>\n",
       "      <th>2997</th>\n",
       "      <td>MONTH: NOVEMBER</td>\n",
       "      <td>DECEMBER</td>\n",
       "    </tr>\n",
       "    <tr>\n",
       "      <th>2998</th>\n",
       "      <td>MONTH NAME: may</td>\n",
       "      <td>november</td>\n",
       "    </tr>\n",
       "    <tr>\n",
       "      <th>2999</th>\n",
       "      <td>MonthName: March</td>\n",
       "      <td>February</td>\n",
       "    </tr>\n",
       "  </tbody>\n",
       "</table>\n",
       "<p>3000 rows × 2 columns</p>\n",
       "</div>"
      ],
      "text/plain": [
       "                      input_entity output_entity\n",
       "0     Name Of The Month: SEPTEMBER          JULY\n",
       "1        NAME OF THE MONTH: august       october\n",
       "2         name_of_the_month: march         april\n",
       "3             nameOfTheMonth: July      November\n",
       "4      Name_Of_The_Month: February     September\n",
       "...                            ...           ...\n",
       "2995          nameOfTheMonth: JULY      DECEMBER\n",
       "2996   name_of_the_month: December      December\n",
       "2997               MONTH: NOVEMBER      DECEMBER\n",
       "2998               MONTH NAME: may      november\n",
       "2999              MonthName: March      February\n",
       "\n",
       "[3000 rows x 2 columns]"
      ]
     },
     "execution_count": 39,
     "metadata": {},
     "output_type": "execute_result"
    }
   ],
   "source": [
    "res"
   ]
  },
  {
   "cell_type": "code",
   "execution_count": 40,
   "metadata": {},
   "outputs": [],
   "source": [
    "res.to_csv('monthName_data.csv', index=False)"
   ]
  },
  {
   "cell_type": "code",
   "execution_count": null,
   "metadata": {},
   "outputs": [],
   "source": []
  }
 ],
 "metadata": {
  "kernelspec": {
   "display_name": "Python 3.8.13 ('reticle')",
   "language": "python",
   "name": "python3"
  },
  "language_info": {
   "codemirror_mode": {
    "name": "ipython",
    "version": 3
   },
   "file_extension": ".py",
   "mimetype": "text/x-python",
   "name": "python",
   "nbconvert_exporter": "python",
   "pygments_lexer": "ipython3",
   "version": "3.8.13"
  },
  "orig_nbformat": 4,
  "vscode": {
   "interpreter": {
    "hash": "09ec2db156a7209681ea734e4f7b85e602c6e683f9c0304fe8b6394a4a1b5475"
   }
  }
 },
 "nbformat": 4,
 "nbformat_minor": 2
}
