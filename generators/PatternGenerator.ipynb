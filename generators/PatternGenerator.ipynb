{
 "cells": [
  {
   "cell_type": "code",
   "execution_count": 11,
   "metadata": {},
   "outputs": [],
   "source": [
    "\n",
    "from generatorUtils import LabelTransformations\n",
    "import random\n",
    "from faker import Faker\n",
    "f = Faker()\n",
    "import string\n",
    "from itertools import permutations, combinations\n",
    "from tqdm import tqdm"
   ]
  },
  {
   "cell_type": "code",
   "execution_count": 19,
   "metadata": {},
   "outputs": [],
   "source": [
    "labels = [\"USN_number\", \"employee_id\", \"stock_id\", \"product_id\", \"product_number\", \"serial_number\", \"Laptop_id\", \"photo_id\", \"National_Identification_Number\", \"NIN\", \"ID\", \"Identification_number\", \"Register_number\", \"Registro_Geral\", \"CPF-ID\", \"SSN\", \"social_security_number\", \"social_insurance_number\", \"RUN_number\", \"RUT\", \"Passport_number\", \"Aadhar_number\", \"CURP\", \"HK_ID\", \"Hong_Kong_Identification_Number\", \"Permanent_Account_Number\", \"PAN_number\", \"PAN_ID\", \"Nomor_Induk_Kependudukan\", \"Citizen_ID\", \"kart_e_meli\", \"Mispar_Zehut\", \"Permanent_Resident_Identification_Number\", \"National_Registration_Identity_Card_Number\", \"Population_Identification_Code\", \"SS_PIN\", \"Uniform_Civil_Number\", \"Birth_Number\", \"Personal_Identification_Number\", \"PIN\", \"Personal_Public_Service_Number\", \"fiscal_code\", \"Personas_kods\", \"License_Number\", \"Burgerservicenummer\", \"BSN\", \"PESEL_Number\", \"Personal_Numerical_Code\", \"SSS_ID\", \"single_national_identity_number\", \"VAT_identification_number\", \"UUID\", \"unique_identification_number\", \"University_id\", \"Serial_Number\", \"VAT_receipt_number\", \"Reciept_number\", \"ISBN\", \"NSD_ID\", \"Request_ID\", \"Network_ID\", \"Property_number\", \"asset_id\", \"app_id\", \"resturaunt_dish_id\", \"resturaunt_employee_id\", \"music_playlist_id\", \"music_song_id\", \"signature_id\", \"row_id\", \"transaction_id\", \"ticket_number\", \"flight_ticket_number\", \"bus_ticket_number\", \"bill_number\", \"picture_id\", \"appointment_id\", \"search_id\"]"
   ]
  },
  {
   "cell_type": "code",
   "execution_count": 25,
   "metadata": {},
   "outputs": [],
   "source": [
    "class PatternBasedDataGenerator:\n",
    "    def __init__(self, num_of_samples):\n",
    "        self.labelTransformations = LabelTransformations()\n",
    "        self.num_of_samples = num_of_samples\n",
    "        \n",
    "    def generate_string(self, length):\n",
    "        'randomly generate 2 strings with numbers and uppercase characters with first two letters as uppercase characters always'\n",
    "        inp = ''\n",
    "        out = ''\n",
    "        for i in range(2):\n",
    "            inp+=random.choice(string.ascii_uppercase)\n",
    "            out+=random.choice(string.ascii_uppercase)\n",
    "            \n",
    "        for i in range(length - 2):\n",
    "            choice = random.choice(['str', 'num'])\n",
    "            if choice == 'str':\n",
    "                inp+=random.choice(string.ascii_uppercase)\n",
    "                out+=random.choice(string.ascii_uppercase)\n",
    "            else:\n",
    "                inp+=random.choice(string.digits)\n",
    "                out+=random.choice(string.digits)\n",
    "                \n",
    "        return inp, out\n",
    "\n",
    "    def is_valid(self, indices, length):\n",
    "        '''takes indices as input and outputs whether those indices are valid for the condition [A-Z 0-9][A-Z 0-9]+ /- [A-Z 0-9][A-Z 0-9]+'''\n",
    "        '''i.e. atleast 2 characters on to the left and right of the special character we enter'''\n",
    "        mini = 0\n",
    "        maxi = length-1\n",
    "        \n",
    "        approved = -1\n",
    "        \n",
    "        for k in indices:\n",
    "            if k-2 >= mini and k+2 <= maxi:\n",
    "                if k > approved+2:\n",
    "                    approved = k\n",
    "                else:\n",
    "                    return False\n",
    "            else:\n",
    "                return False\n",
    "            \n",
    "        return True\n",
    "\n",
    "    def insert_special_character(self, strin, special_character='-'):\n",
    "        '''takes string and special character to insert as input'''\n",
    "        '''returns strings with special character inserted in all indices which are valid'''\n",
    "        num_hyphens = int(len(strin)/4) #Num of hyphens/spaces depends on string length. we are considering int(length/4)\n",
    "        length = len(strin)\n",
    "        result_strings = []\n",
    "        \n",
    "        index_sets = []\n",
    "        for num_hyphen in range(1, num_hyphens+1):\n",
    "            for i in combinations(range(length), num_hyphen):\n",
    "                #print('combination is ', i)\n",
    "                if self.is_valid(i, length):\n",
    "                    index_sets.append(i)\n",
    "        \n",
    "        #print(index_sets)\n",
    "        for index_set in index_sets:\n",
    "            strin_list = list(strin)\n",
    "            for index in index_set:\n",
    "                strin_list[index] = special_character \n",
    "            result_strings.append(''.join(strin_list))\n",
    "        \n",
    "        #result_strings = random.choices(result_strings, k=10)\n",
    "        return result_strings\n",
    "\n",
    "    def generatePatternBasedData(self, labels):\n",
    "\n",
    "        labels = list(set(self.labelTransformations(labels)))\n",
    "\n",
    "        input_list = []\n",
    "        output_list = []\n",
    "        \n",
    "        \n",
    "        \n",
    "        for i in range(self.num_of_samples):\n",
    "           \n",
    "            length = random.choice(list(range(5,20)))\n",
    "            \n",
    "            label = random.choice(labels)\n",
    "            string_set = self.generate_string(length = length)\n",
    "            hyp_inp = self.insert_special_character(string_set[0], '-')\n",
    "            hyp_out = self.insert_special_character(string_set[1], '-')\n",
    "            \n",
    "            inp, out = random.choice(list(zip(hyp_inp, hyp_out)))\n",
    "            input_list.append(label + ': ' + inp)\n",
    "            output_list.append(out)\n",
    "                \n",
    "            label = random.choice(labels)\n",
    "            space_inp = self.insert_special_character(string_set[0], ' ')\n",
    "            space_out = self.insert_special_character(string_set[1], ' ')\n",
    "\n",
    "            inp, out = random.choice(list(zip(space_inp, space_out)))\n",
    "            input_list.append(label + ': ' + inp)\n",
    "            output_list.append(out)\n",
    "            \n",
    "        return input_list, output_list\n",
    "        \n",
    "        "
   ]
  },
  {
   "cell_type": "code",
   "execution_count": 32,
   "metadata": {},
   "outputs": [],
   "source": [
    "patternBasedDataGenerator = PatternBasedDataGenerator(num_of_samples=5000)"
   ]
  },
  {
   "cell_type": "code",
   "execution_count": 33,
   "metadata": {},
   "outputs": [],
   "source": [
    "input, output = patternBasedDataGenerator.generatePatternBasedData(labels)"
   ]
  },
  {
   "cell_type": "code",
   "execution_count": 34,
   "metadata": {},
   "outputs": [
    {
     "data": {
      "text/plain": [
       "[('Request_Id: NKQ7J5-D3S2H', 'IPM3S8-F5R0O'),\n",
       " ('reciept_number: NKQ7 55D3 2H', 'IPM3 86F5 0O'),\n",
       " ('Sss_Id: HRX-HG', 'FQK-OJ'),\n",
       " ('product_id: HRX HG', 'FQK OJ'),\n",
       " ('License_Number: HZ-MC2-8A-1Q-8X3', 'BU-ME5-3A-8Y-0J4'),\n",
       " ('music_song_id: HZWM 2G8A 1Q98X3', 'BUUM 5H3A 8Y20J4'),\n",
       " ('request_id: VK7-FZ-9I-345-BE', 'CB0-BP-0K-879-YA'),\n",
       " ('Burgerservicenummer: VK 4FZ 9IM 458BE', 'CB 3BP 0KD 794YA'),\n",
       " ('Usn_Number: AY-D8', 'MM-Q4'),\n",
       " ('picture_id: AY D8', 'MM Q4'),\n",
       " ('USN_NUMBER: WZW-N1-GY7', 'ZPH-I5-PW0'),\n",
       " ('Cpf-Id: WZW N1 GY7', 'ZPH I5 PW0'),\n",
       " ('Ss_Pin: XT-Z496C-1YBK4-AH', 'GP-M380J-4OOA4-NR'),\n",
       " ('burgerservicenummer: XTIZ49 CN YB 4DAH', 'GPSM38 JP OO 4YNR'),\n",
       " ('picture_id: IUG-9WO2-31', 'ADJ-9YI5-06'),\n",
       " ('music_playlist_id: IUG4 WO2 31', 'ADJ2 YI5 06'),\n",
       " ('run_number: RJ-W300L', 'IH-L725E'),\n",
       " ('Pan_Number: RJ W300L', 'IH L725E'),\n",
       " ('flight_ticket_number: YY-61', 'ET-98'),\n",
       " ('flight_ticket_number: YY 61', 'ET 98')]"
      ]
     },
     "execution_count": 34,
     "metadata": {},
     "output_type": "execute_result"
    }
   ],
   "source": [
    "list(zip(input, output))[:20]"
   ]
  },
  {
   "cell_type": "code",
   "execution_count": 35,
   "metadata": {},
   "outputs": [],
   "source": [
    "import pandas as pd\n",
    "res = pd.DataFrame(columns=['input_entity', 'output_entity'])"
   ]
  },
  {
   "cell_type": "code",
   "execution_count": 36,
   "metadata": {},
   "outputs": [],
   "source": [
    "res['input_entity'] = input\n",
    "res['output_entity'] = output"
   ]
  },
  {
   "cell_type": "code",
   "execution_count": 37,
   "metadata": {},
   "outputs": [
    {
     "data": {
      "text/plain": [
       "10000"
      ]
     },
     "execution_count": 37,
     "metadata": {},
     "output_type": "execute_result"
    }
   ],
   "source": [
    "len(res)"
   ]
  },
  {
   "cell_type": "code",
   "execution_count": 38,
   "metadata": {},
   "outputs": [],
   "source": [
    "res.to_csv('PatternBased_data.csv', index=False)"
   ]
  },
  {
   "cell_type": "code",
   "execution_count": null,
   "metadata": {},
   "outputs": [],
   "source": []
  },
  {
   "cell_type": "code",
   "execution_count": null,
   "metadata": {},
   "outputs": [],
   "source": []
  }
 ],
 "metadata": {
  "kernelspec": {
   "display_name": "Python 3.8.13 ('reticle')",
   "language": "python",
   "name": "python3"
  },
  "language_info": {
   "codemirror_mode": {
    "name": "ipython",
    "version": 3
   },
   "file_extension": ".py",
   "mimetype": "text/x-python",
   "name": "python",
   "nbconvert_exporter": "python",
   "pygments_lexer": "ipython3",
   "version": "3.8.13"
  },
  "orig_nbformat": 4,
  "vscode": {
   "interpreter": {
    "hash": "09ec2db156a7209681ea734e4f7b85e602c6e683f9c0304fe8b6394a4a1b5475"
   }
  }
 },
 "nbformat": 4,
 "nbformat_minor": 2
}
