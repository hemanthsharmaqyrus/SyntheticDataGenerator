{
 "cells": [
  {
   "cell_type": "code",
   "execution_count": 5,
   "metadata": {},
   "outputs": [],
   "source": [
    "from faker import Faker\n",
    "import random\n",
    "from generatorUtils import LabelTransformations\n",
    "from quantities import units\n",
    "from collections import defaultdict"
   ]
  },
  {
   "cell_type": "code",
   "execution_count": null,
   "metadata": {},
   "outputs": [],
   "source": []
  },
  {
   "cell_type": "code",
   "execution_count": 54,
   "metadata": {},
   "outputs": [],
   "source": [
    "class NumberWithUnitsGenerator:\n",
    "    def __init__(self, num_of_samples):\n",
    "        self.num_of_samples = num_of_samples\n",
    "        self.labelTransformations = LabelTransformations()\n",
    "        self.f = Faker()\n",
    "\n",
    "        self.label_to_units_dict = defaultdict()\n",
    "        for _, u in units.__dict__.items():\n",
    "            if isinstance(u, type(units.deg)):\n",
    "                self.label_to_units_dict[u.name] = u.symbol\n",
    "\n",
    "    def generate_decimal(self, length):\n",
    "\n",
    "        \n",
    "        start = eval(''.join(['0' for i in range(length)]))\n",
    "        end = eval(''.join(['9' for i in range(length)]))\n",
    "        start = eval('1' + str(start))\n",
    "        end = eval('9' + str(end))\n",
    "        \n",
    "        return str(float(random.uniform(a=start, b=end))/10)\n",
    "\n",
    "    def generate_decimal_pair(self, length):\n",
    "\n",
    "        start_number = str(random.randint(0,9))\n",
    "        start = eval('1' + ''.join(['0' for i in range(length-1)]))\n",
    "        end = eval('9' + ''.join(['9' for i in range(length-1)]))\n",
    "        \n",
    "        return start_number + \"{:.2f}\".format(random.uniform(start, end)), start_number + \"{:.2f}\".format(random.uniform(start, end))\n",
    "\n",
    "    def generate_int_pair(self, length):\n",
    "\n",
    "        start_number = str(random.randint(0,9))\n",
    "        start = eval('1' + ''.join(['0' for i in range(length-1)]))\n",
    "        end = eval('9' + ''.join(['9' for i in range(length-1)]))\n",
    "        \n",
    "        return start_number + str(int(random.uniform(start, end))), start_number + str(int(random.uniform(start, end)))\n",
    "\n",
    "    def generate_int(self, length):\n",
    "        start = eval(''.join(['1' for i in range(length)]))\n",
    "        end = eval(''.join(['9' for i in range(length)]))\n",
    "        start = eval('1' + str(start))\n",
    "        end = eval('9' + str(end))\n",
    "        \n",
    "        return str(int(float(random.randrange(start, end))/10))\n",
    "\n",
    "    def generateNumbersWithUnits(self, labels):\n",
    "        labels = list(set(self.labelTransformations(labels)))\n",
    "\n",
    "        inputs = []\n",
    "        outputs = []\n",
    "\n",
    "        \n",
    "            \n",
    "        for i in range(self.num_of_samples):\n",
    "            \n",
    "\n",
    "            for label, unit in self.label_to_units_dict.items():\n",
    "                for length in range(1,5):\n",
    "                    inp, out = self.generate_decimal_pair(length)\n",
    "                    inputs.append(label+ ': ' + inp + ' ' + unit)\n",
    "                    outputs.append(out + ' ' + unit)\n",
    "\n",
    "                    inp, out = self.generate_int_pair(length)\n",
    "                    inputs.append(label+ ': ' + inp + ' ' + unit)\n",
    "                    outputs.append(out + ' ' + unit)\n",
    "            \n",
    "\n",
    "\n",
    "\n",
    "        return inputs, outputs"
   ]
  },
  {
   "cell_type": "code",
   "execution_count": 55,
   "metadata": {},
   "outputs": [],
   "source": [
    "numberWithUnitsGenerator = NumberWithUnitsGenerator(num_of_samples=300)"
   ]
  },
  {
   "cell_type": "code",
   "execution_count": 56,
   "metadata": {},
   "outputs": [],
   "source": [
    "input, output = numberWithUnitsGenerator.generateNumbersWithUnits(labels)"
   ]
  },
  {
   "cell_type": "code",
   "execution_count": 57,
   "metadata": {},
   "outputs": [
    {
     "data": {
      "text/plain": [
       "[('standard_gravity: 07.08 g_0', '02.47 g_0'),\n",
       " ('standard_gravity: 91 g_0', '96 g_0'),\n",
       " ('standard_gravity: 646.44 g_0', '685.66 g_0'),\n",
       " ('standard_gravity: 087 g_0', '042 g_0'),\n",
       " ('standard_gravity: 9958.80 g_0', '9924.83 g_0'),\n",
       " ('standard_gravity: 7834 g_0', '7912 g_0'),\n",
       " ('standard_gravity: 03191.96 g_0', '01158.63 g_0'),\n",
       " ('standard_gravity: 37662 g_0', '37015 g_0'),\n",
       " ('dimensionless: 63.42 dimensionless', '66.34 dimensionless'),\n",
       " ('dimensionless: 66 dimensionless', '63 dimensionless'),\n",
       " ('dimensionless: 216.68 dimensionless', '272.98 dimensionless'),\n",
       " ('dimensionless: 733 dimensionless', '755 dimensionless'),\n",
       " ('dimensionless: 3976.94 dimensionless', '3485.20 dimensionless'),\n",
       " ('dimensionless: 4566 dimensionless', '4304 dimensionless'),\n",
       " ('dimensionless: 76095.56 dimensionless', '77092.92 dimensionless'),\n",
       " ('dimensionless: 11651 dimensionless', '17876 dimensionless'),\n",
       " ('radian: 07.94 rad', '06.32 rad'),\n",
       " ('radian: 26 rad', '27 rad'),\n",
       " ('radian: 223.29 rad', '277.23 rad'),\n",
       " ('radian: 139 rad', '128 rad')]"
      ]
     },
     "execution_count": 57,
     "metadata": {},
     "output_type": "execute_result"
    }
   ],
   "source": [
    "list(zip(input, output))[:20]"
   ]
  },
  {
   "cell_type": "code",
   "execution_count": 58,
   "metadata": {},
   "outputs": [],
   "source": [
    "import pandas as pd\n",
    "res = pd.DataFrame(columns=['input_entity', 'output_entity'])"
   ]
  },
  {
   "cell_type": "code",
   "execution_count": 59,
   "metadata": {},
   "outputs": [],
   "source": [
    "res['input_entity'] = input\n",
    "res['output_entity'] = output"
   ]
  },
  {
   "cell_type": "code",
   "execution_count": 60,
   "metadata": {},
   "outputs": [],
   "source": [
    "res.to_csv('numberWithUnitsData_data.csv', index=False)"
   ]
  },
  {
   "cell_type": "code",
   "execution_count": null,
   "metadata": {},
   "outputs": [],
   "source": []
  },
  {
   "cell_type": "code",
   "execution_count": null,
   "metadata": {},
   "outputs": [],
   "source": []
  },
  {
   "cell_type": "code",
   "execution_count": null,
   "metadata": {},
   "outputs": [],
   "source": []
  },
  {
   "cell_type": "code",
   "execution_count": null,
   "metadata": {},
   "outputs": [],
   "source": []
  },
  {
   "cell_type": "code",
   "execution_count": null,
   "metadata": {},
   "outputs": [],
   "source": []
  }
 ],
 "metadata": {
  "kernelspec": {
   "display_name": "Python 3.8.13 ('reticle')",
   "language": "python",
   "name": "python3"
  },
  "language_info": {
   "codemirror_mode": {
    "name": "ipython",
    "version": 3
   },
   "file_extension": ".py",
   "mimetype": "text/x-python",
   "name": "python",
   "nbconvert_exporter": "python",
   "pygments_lexer": "ipython3",
   "version": "3.8.13"
  },
  "orig_nbformat": 4,
  "vscode": {
   "interpreter": {
    "hash": "09ec2db156a7209681ea734e4f7b85e602c6e683f9c0304fe8b6394a4a1b5475"
   }
  }
 },
 "nbformat": 4,
 "nbformat_minor": 2
}
