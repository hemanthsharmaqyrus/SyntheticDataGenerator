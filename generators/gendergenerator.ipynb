{
 "cells": [
  {
   "cell_type": "code",
   "execution_count": 2,
   "metadata": {},
   "outputs": [],
   "source": [
    "from itertools import permutations\n",
    "from generatorUtils import LabelTransformations"
   ]
  },
  {
   "cell_type": "markdown",
   "metadata": {},
   "source": [
    "# Gender"
   ]
  },
  {
   "cell_type": "code",
   "execution_count": 8,
   "metadata": {},
   "outputs": [],
   "source": [
    "gender_labels = ['sex', 'gender']"
   ]
  },
  {
   "cell_type": "code",
   "execution_count": 54,
   "metadata": {},
   "outputs": [],
   "source": [
    "class genderGenerator:\n",
    "    def __init__(self):\n",
    "        self.genders = ['male',\n",
    "                        'Male',\n",
    "                        'MALE',\n",
    "                        'female',\n",
    "                        'Female',\n",
    "                        'FEMALE',\n",
    "                        'other',\n",
    "                        'Other',\n",
    "                        'OTHER']\n",
    "        self.labelTransformations = LabelTransformations()\n",
    "\n",
    "    def generate_genders(self, labels):\n",
    "        labels = list(set(self.labelTransformations(labels)))\n",
    "        print(labels)\n",
    "        data_pairs =  list(permutations(self.genders, 2))\n",
    "        print(data_pairs)\n",
    "        input_list = []\n",
    "        output_list = []\n",
    "        for label in labels:\n",
    "            #for each input attach the label\n",
    "            inputs = list(list(zip(*data_pairs))[0])\n",
    "            input_list += [label + ': ' + input for input in inputs]\n",
    "\n",
    "            output_list += list(list(zip(*data_pairs))[1])\n",
    "        return input_list, output_list\n",
    "        \n"
   ]
  },
  {
   "cell_type": "code",
   "execution_count": 55,
   "metadata": {},
   "outputs": [
    {
     "name": "stdout",
     "output_type": "stream",
     "text": [
      "['Sex', 'Gender', 'SEX', 'GENDER', 'gender', 'sex']\n",
      "[('male', 'Male'), ('male', 'MALE'), ('male', 'female'), ('male', 'Female'), ('male', 'FEMALE'), ('male', 'other'), ('male', 'Other'), ('male', 'OTHER'), ('Male', 'male'), ('Male', 'MALE'), ('Male', 'female'), ('Male', 'Female'), ('Male', 'FEMALE'), ('Male', 'other'), ('Male', 'Other'), ('Male', 'OTHER'), ('MALE', 'male'), ('MALE', 'Male'), ('MALE', 'female'), ('MALE', 'Female'), ('MALE', 'FEMALE'), ('MALE', 'other'), ('MALE', 'Other'), ('MALE', 'OTHER'), ('female', 'male'), ('female', 'Male'), ('female', 'MALE'), ('female', 'Female'), ('female', 'FEMALE'), ('female', 'other'), ('female', 'Other'), ('female', 'OTHER'), ('Female', 'male'), ('Female', 'Male'), ('Female', 'MALE'), ('Female', 'female'), ('Female', 'FEMALE'), ('Female', 'other'), ('Female', 'Other'), ('Female', 'OTHER'), ('FEMALE', 'male'), ('FEMALE', 'Male'), ('FEMALE', 'MALE'), ('FEMALE', 'female'), ('FEMALE', 'Female'), ('FEMALE', 'other'), ('FEMALE', 'Other'), ('FEMALE', 'OTHER'), ('other', 'male'), ('other', 'Male'), ('other', 'MALE'), ('other', 'female'), ('other', 'Female'), ('other', 'FEMALE'), ('other', 'Other'), ('other', 'OTHER'), ('Other', 'male'), ('Other', 'Male'), ('Other', 'MALE'), ('Other', 'female'), ('Other', 'Female'), ('Other', 'FEMALE'), ('Other', 'other'), ('Other', 'OTHER'), ('OTHER', 'male'), ('OTHER', 'Male'), ('OTHER', 'MALE'), ('OTHER', 'female'), ('OTHER', 'Female'), ('OTHER', 'FEMALE'), ('OTHER', 'other'), ('OTHER', 'Other')]\n"
     ]
    }
   ],
   "source": [
    "input, output = genderGenerator().generate_genders(gender_labels)"
   ]
  },
  {
   "cell_type": "code",
   "execution_count": 58,
   "metadata": {},
   "outputs": [],
   "source": [
    "import pandas as pd\n",
    "res = pd.DataFrame(columns=['input_entity', 'output_entity'])"
   ]
  },
  {
   "cell_type": "code",
   "execution_count": 59,
   "metadata": {},
   "outputs": [],
   "source": [
    "res['input_entity'] = input\n",
    "res['output_entity'] = output"
   ]
  },
  {
   "cell_type": "code",
   "execution_count": 60,
   "metadata": {},
   "outputs": [
    {
     "data": {
      "text/plain": [
       "432"
      ]
     },
     "execution_count": 60,
     "metadata": {},
     "output_type": "execute_result"
    }
   ],
   "source": [
    "len(res)"
   ]
  },
  {
   "cell_type": "code",
   "execution_count": 61,
   "metadata": {},
   "outputs": [],
   "source": [
    "res.to_csv('gender_data.csv', index=False)"
   ]
  },
  {
   "cell_type": "code",
   "execution_count": null,
   "metadata": {},
   "outputs": [],
   "source": []
  }
 ],
 "metadata": {
  "kernelspec": {
   "display_name": "reticle",
   "language": "python",
   "name": "reticle"
  },
  "language_info": {
   "codemirror_mode": {
    "name": "ipython",
    "version": 3
   },
   "file_extension": ".py",
   "mimetype": "text/x-python",
   "name": "python",
   "nbconvert_exporter": "python",
   "pygments_lexer": "ipython3",
   "version": "3.8.13"
  },
  "orig_nbformat": 4,
  "vscode": {
   "interpreter": {
    "hash": "31f2aee4e71d21fbe5cf8b01ff0e069b9275f58929596ceb00d14d90e3e16cd6"
   }
  }
 },
 "nbformat": 4,
 "nbformat_minor": 2
}
